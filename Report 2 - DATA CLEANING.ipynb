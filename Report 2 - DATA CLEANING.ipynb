{
 "cells": [
  {
   "cell_type": "markdown",
   "metadata": {},
   "source": [
    "# 2. Data cleaning"
   ]
  },
  {
   "cell_type": "code",
   "execution_count": 86,
   "metadata": {
    "ExecuteTime": {
     "end_time": "2020-03-01T09:12:48.037644Z",
     "start_time": "2020-03-01T09:12:43.385755Z"
    }
   },
   "outputs": [],
   "source": [
    "import pandas as pd \n",
    "import numpy as np\n",
    "import seaborn as sns\n",
    "import matplotlib.pyplot as plt\n",
    "from statistics import mode\n",
    "from keras.utils import to_categorical\n",
    "from sklearn import preprocessing\n",
    "from sklearn.model_selection import GridSearchCV, RandomizedSearchCV\n",
    "from sklearn.ensemble import RandomForestClassifier\n",
    "from sklearn.model_selection import train_test_split\n",
    "\n",
    "from tensorflow.python.keras.layers import Dense\n",
    "from tensorflow.python.keras import Sequential\n",
    "from tensorflow.python.keras.layers import Dropout\n",
    "from tensorflow.python.keras.initializers import he_normal, glorot_normal\n",
    "from tensorflow.keras.optimizers import Adam, SGD\n",
    "from tensorflow.keras.regularizers import l1,l2"
   ]
  },
  {
   "cell_type": "markdown",
   "metadata": {},
   "source": [
    "## 2.1 Preliminary steps"
   ]
  },
  {
   "cell_type": "markdown",
   "metadata": {},
   "source": [
    "### 2.1.1 Uploading the dataset and removing the duplicates."
   ]
  },
  {
   "cell_type": "code",
   "execution_count": 74,
   "metadata": {
    "ExecuteTime": {
     "end_time": "2020-03-01T09:12:48.136583Z",
     "start_time": "2020-03-01T09:12:48.051634Z"
    }
   },
   "outputs": [
    {
     "data": {
      "text/html": [
       "<div>\n",
       "<style scoped>\n",
       "    .dataframe tbody tr th:only-of-type {\n",
       "        vertical-align: middle;\n",
       "    }\n",
       "\n",
       "    .dataframe tbody tr th {\n",
       "        vertical-align: top;\n",
       "    }\n",
       "\n",
       "    .dataframe thead th {\n",
       "        text-align: right;\n",
       "    }\n",
       "</style>\n",
       "<table border=\"1\" class=\"dataframe\">\n",
       "  <thead>\n",
       "    <tr style=\"text-align: right;\">\n",
       "      <th></th>\n",
       "      <th>ID</th>\n",
       "      <th>age</th>\n",
       "      <th>job</th>\n",
       "      <th>marital</th>\n",
       "      <th>education</th>\n",
       "      <th>default</th>\n",
       "      <th>housing</th>\n",
       "      <th>loan</th>\n",
       "      <th>contact</th>\n",
       "      <th>month</th>\n",
       "      <th>...</th>\n",
       "      <th>campaign</th>\n",
       "      <th>pdays</th>\n",
       "      <th>previous</th>\n",
       "      <th>poutcome</th>\n",
       "      <th>emp.var.rate</th>\n",
       "      <th>cons.price.idx</th>\n",
       "      <th>cons.conf.idx</th>\n",
       "      <th>euribor3m</th>\n",
       "      <th>nr.employed</th>\n",
       "      <th>y</th>\n",
       "    </tr>\n",
       "  </thead>\n",
       "  <tbody>\n",
       "    <tr>\n",
       "      <th>0</th>\n",
       "      <td>34579</td>\n",
       "      <td>35</td>\n",
       "      <td>admin.</td>\n",
       "      <td>single</td>\n",
       "      <td>university.degree</td>\n",
       "      <td>no</td>\n",
       "      <td>yes</td>\n",
       "      <td>no</td>\n",
       "      <td>cellular</td>\n",
       "      <td>may</td>\n",
       "      <td>...</td>\n",
       "      <td>1</td>\n",
       "      <td>999</td>\n",
       "      <td>1</td>\n",
       "      <td>failure</td>\n",
       "      <td>-1.8</td>\n",
       "      <td>92.893</td>\n",
       "      <td>-46.2</td>\n",
       "      <td>1.266</td>\n",
       "      <td>5099.1</td>\n",
       "      <td>no</td>\n",
       "    </tr>\n",
       "    <tr>\n",
       "      <th>1</th>\n",
       "      <td>446</td>\n",
       "      <td>42</td>\n",
       "      <td>technician</td>\n",
       "      <td>married</td>\n",
       "      <td>professional.course</td>\n",
       "      <td>no</td>\n",
       "      <td>no</td>\n",
       "      <td>no</td>\n",
       "      <td>telephone</td>\n",
       "      <td>may</td>\n",
       "      <td>...</td>\n",
       "      <td>1</td>\n",
       "      <td>999</td>\n",
       "      <td>0</td>\n",
       "      <td>nonexistent</td>\n",
       "      <td>1.1</td>\n",
       "      <td>93.994</td>\n",
       "      <td>-36.4</td>\n",
       "      <td>4.857</td>\n",
       "      <td>5191.0</td>\n",
       "      <td>yes</td>\n",
       "    </tr>\n",
       "    <tr>\n",
       "      <th>2</th>\n",
       "      <td>20173</td>\n",
       "      <td>36</td>\n",
       "      <td>admin.</td>\n",
       "      <td>married</td>\n",
       "      <td>university.degree</td>\n",
       "      <td>no</td>\n",
       "      <td>no</td>\n",
       "      <td>no</td>\n",
       "      <td>cellular</td>\n",
       "      <td>aug</td>\n",
       "      <td>...</td>\n",
       "      <td>2</td>\n",
       "      <td>999</td>\n",
       "      <td>0</td>\n",
       "      <td>nonexistent</td>\n",
       "      <td>1.4</td>\n",
       "      <td>93.444</td>\n",
       "      <td>-36.1</td>\n",
       "      <td>4.965</td>\n",
       "      <td>5228.1</td>\n",
       "      <td>yes</td>\n",
       "    </tr>\n",
       "    <tr>\n",
       "      <th>3</th>\n",
       "      <td>18171</td>\n",
       "      <td>37</td>\n",
       "      <td>admin.</td>\n",
       "      <td>married</td>\n",
       "      <td>high.school</td>\n",
       "      <td>no</td>\n",
       "      <td>yes</td>\n",
       "      <td>yes</td>\n",
       "      <td>telephone</td>\n",
       "      <td>jul</td>\n",
       "      <td>...</td>\n",
       "      <td>2</td>\n",
       "      <td>999</td>\n",
       "      <td>0</td>\n",
       "      <td>nonexistent</td>\n",
       "      <td>1.4</td>\n",
       "      <td>93.918</td>\n",
       "      <td>-42.7</td>\n",
       "      <td>4.963</td>\n",
       "      <td>5228.1</td>\n",
       "      <td>yes</td>\n",
       "    </tr>\n",
       "    <tr>\n",
       "      <th>4</th>\n",
       "      <td>30128</td>\n",
       "      <td>31</td>\n",
       "      <td>management</td>\n",
       "      <td>single</td>\n",
       "      <td>university.degree</td>\n",
       "      <td>no</td>\n",
       "      <td>yes</td>\n",
       "      <td>no</td>\n",
       "      <td>cellular</td>\n",
       "      <td>apr</td>\n",
       "      <td>...</td>\n",
       "      <td>1</td>\n",
       "      <td>999</td>\n",
       "      <td>0</td>\n",
       "      <td>nonexistent</td>\n",
       "      <td>-1.8</td>\n",
       "      <td>93.075</td>\n",
       "      <td>-47.1</td>\n",
       "      <td>1.365</td>\n",
       "      <td>5099.1</td>\n",
       "      <td>no</td>\n",
       "    </tr>\n",
       "  </tbody>\n",
       "</table>\n",
       "<p>5 rows × 21 columns</p>\n",
       "</div>"
      ],
      "text/plain": [
       "      ID  age         job  marital            education default housing loan  \\\n",
       "0  34579   35      admin.   single    university.degree      no     yes   no   \n",
       "1    446   42  technician  married  professional.course      no      no   no   \n",
       "2  20173   36      admin.  married    university.degree      no      no   no   \n",
       "3  18171   37      admin.  married          high.school      no     yes  yes   \n",
       "4  30128   31  management   single    university.degree      no     yes   no   \n",
       "\n",
       "     contact month  ... campaign  pdays  previous     poutcome emp.var.rate  \\\n",
       "0   cellular   may  ...        1    999         1      failure         -1.8   \n",
       "1  telephone   may  ...        1    999         0  nonexistent          1.1   \n",
       "2   cellular   aug  ...        2    999         0  nonexistent          1.4   \n",
       "3  telephone   jul  ...        2    999         0  nonexistent          1.4   \n",
       "4   cellular   apr  ...        1    999         0  nonexistent         -1.8   \n",
       "\n",
       "   cons.price.idx  cons.conf.idx  euribor3m  nr.employed    y  \n",
       "0          92.893          -46.2      1.266       5099.1   no  \n",
       "1          93.994          -36.4      4.857       5191.0  yes  \n",
       "2          93.444          -36.1      4.965       5228.1  yes  \n",
       "3          93.918          -42.7      4.963       5228.1  yes  \n",
       "4          93.075          -47.1      1.365       5099.1   no  \n",
       "\n",
       "[5 rows x 21 columns]"
      ]
     },
     "execution_count": 74,
     "metadata": {},
     "output_type": "execute_result"
    }
   ],
   "source": [
    "data=pd.read_csv('BankMarketing.csv',sep=';')\n",
    "data.head()"
   ]
  },
  {
   "cell_type": "code",
   "execution_count": 75,
   "metadata": {
    "ExecuteTime": {
     "end_time": "2020-03-01T09:12:48.238518Z",
     "start_time": "2020-03-01T09:12:48.200543Z"
    }
   },
   "outputs": [
    {
     "name": "stdout",
     "output_type": "stream",
     "text": [
      "New shape of the dataset: 8980 20\n"
     ]
    },
    {
     "data": {
      "text/html": [
       "<div>\n",
       "<style scoped>\n",
       "    .dataframe tbody tr th:only-of-type {\n",
       "        vertical-align: middle;\n",
       "    }\n",
       "\n",
       "    .dataframe tbody tr th {\n",
       "        vertical-align: top;\n",
       "    }\n",
       "\n",
       "    .dataframe thead th {\n",
       "        text-align: right;\n",
       "    }\n",
       "</style>\n",
       "<table border=\"1\" class=\"dataframe\">\n",
       "  <thead>\n",
       "    <tr style=\"text-align: right;\">\n",
       "      <th></th>\n",
       "      <th>age</th>\n",
       "      <th>job</th>\n",
       "      <th>marital</th>\n",
       "      <th>education</th>\n",
       "      <th>default</th>\n",
       "      <th>housing</th>\n",
       "      <th>loan</th>\n",
       "      <th>contact</th>\n",
       "      <th>month</th>\n",
       "      <th>day_of_week</th>\n",
       "      <th>campaign</th>\n",
       "      <th>pdays</th>\n",
       "      <th>previous</th>\n",
       "      <th>poutcome</th>\n",
       "      <th>emp.var.rate</th>\n",
       "      <th>cons.price.idx</th>\n",
       "      <th>cons.conf.idx</th>\n",
       "      <th>euribor3m</th>\n",
       "      <th>nr.employed</th>\n",
       "      <th>y</th>\n",
       "    </tr>\n",
       "    <tr>\n",
       "      <th>ID</th>\n",
       "      <th></th>\n",
       "      <th></th>\n",
       "      <th></th>\n",
       "      <th></th>\n",
       "      <th></th>\n",
       "      <th></th>\n",
       "      <th></th>\n",
       "      <th></th>\n",
       "      <th></th>\n",
       "      <th></th>\n",
       "      <th></th>\n",
       "      <th></th>\n",
       "      <th></th>\n",
       "      <th></th>\n",
       "      <th></th>\n",
       "      <th></th>\n",
       "      <th></th>\n",
       "      <th></th>\n",
       "      <th></th>\n",
       "      <th></th>\n",
       "    </tr>\n",
       "  </thead>\n",
       "  <tbody>\n",
       "    <tr>\n",
       "      <th>34579</th>\n",
       "      <td>35</td>\n",
       "      <td>admin.</td>\n",
       "      <td>single</td>\n",
       "      <td>university.degree</td>\n",
       "      <td>no</td>\n",
       "      <td>yes</td>\n",
       "      <td>no</td>\n",
       "      <td>cellular</td>\n",
       "      <td>may</td>\n",
       "      <td>thu</td>\n",
       "      <td>1</td>\n",
       "      <td>999</td>\n",
       "      <td>1</td>\n",
       "      <td>failure</td>\n",
       "      <td>-1.8</td>\n",
       "      <td>92.893</td>\n",
       "      <td>-46.2</td>\n",
       "      <td>1.266</td>\n",
       "      <td>5099.1</td>\n",
       "      <td>no</td>\n",
       "    </tr>\n",
       "    <tr>\n",
       "      <th>446</th>\n",
       "      <td>42</td>\n",
       "      <td>technician</td>\n",
       "      <td>married</td>\n",
       "      <td>professional.course</td>\n",
       "      <td>no</td>\n",
       "      <td>no</td>\n",
       "      <td>no</td>\n",
       "      <td>telephone</td>\n",
       "      <td>may</td>\n",
       "      <td>tue</td>\n",
       "      <td>1</td>\n",
       "      <td>999</td>\n",
       "      <td>0</td>\n",
       "      <td>nonexistent</td>\n",
       "      <td>1.1</td>\n",
       "      <td>93.994</td>\n",
       "      <td>-36.4</td>\n",
       "      <td>4.857</td>\n",
       "      <td>5191.0</td>\n",
       "      <td>yes</td>\n",
       "    </tr>\n",
       "    <tr>\n",
       "      <th>20173</th>\n",
       "      <td>36</td>\n",
       "      <td>admin.</td>\n",
       "      <td>married</td>\n",
       "      <td>university.degree</td>\n",
       "      <td>no</td>\n",
       "      <td>no</td>\n",
       "      <td>no</td>\n",
       "      <td>cellular</td>\n",
       "      <td>aug</td>\n",
       "      <td>mon</td>\n",
       "      <td>2</td>\n",
       "      <td>999</td>\n",
       "      <td>0</td>\n",
       "      <td>nonexistent</td>\n",
       "      <td>1.4</td>\n",
       "      <td>93.444</td>\n",
       "      <td>-36.1</td>\n",
       "      <td>4.965</td>\n",
       "      <td>5228.1</td>\n",
       "      <td>yes</td>\n",
       "    </tr>\n",
       "    <tr>\n",
       "      <th>18171</th>\n",
       "      <td>37</td>\n",
       "      <td>admin.</td>\n",
       "      <td>married</td>\n",
       "      <td>high.school</td>\n",
       "      <td>no</td>\n",
       "      <td>yes</td>\n",
       "      <td>yes</td>\n",
       "      <td>telephone</td>\n",
       "      <td>jul</td>\n",
       "      <td>wed</td>\n",
       "      <td>2</td>\n",
       "      <td>999</td>\n",
       "      <td>0</td>\n",
       "      <td>nonexistent</td>\n",
       "      <td>1.4</td>\n",
       "      <td>93.918</td>\n",
       "      <td>-42.7</td>\n",
       "      <td>4.963</td>\n",
       "      <td>5228.1</td>\n",
       "      <td>yes</td>\n",
       "    </tr>\n",
       "    <tr>\n",
       "      <th>30128</th>\n",
       "      <td>31</td>\n",
       "      <td>management</td>\n",
       "      <td>single</td>\n",
       "      <td>university.degree</td>\n",
       "      <td>no</td>\n",
       "      <td>yes</td>\n",
       "      <td>no</td>\n",
       "      <td>cellular</td>\n",
       "      <td>apr</td>\n",
       "      <td>thu</td>\n",
       "      <td>1</td>\n",
       "      <td>999</td>\n",
       "      <td>0</td>\n",
       "      <td>nonexistent</td>\n",
       "      <td>-1.8</td>\n",
       "      <td>93.075</td>\n",
       "      <td>-47.1</td>\n",
       "      <td>1.365</td>\n",
       "      <td>5099.1</td>\n",
       "      <td>no</td>\n",
       "    </tr>\n",
       "  </tbody>\n",
       "</table>\n",
       "</div>"
      ],
      "text/plain": [
       "       age         job  marital            education default housing loan  \\\n",
       "ID                                                                          \n",
       "34579   35      admin.   single    university.degree      no     yes   no   \n",
       "446     42  technician  married  professional.course      no      no   no   \n",
       "20173   36      admin.  married    university.degree      no      no   no   \n",
       "18171   37      admin.  married          high.school      no     yes  yes   \n",
       "30128   31  management   single    university.degree      no     yes   no   \n",
       "\n",
       "         contact month day_of_week  campaign  pdays  previous     poutcome  \\\n",
       "ID                                                                           \n",
       "34579   cellular   may         thu         1    999         1      failure   \n",
       "446    telephone   may         tue         1    999         0  nonexistent   \n",
       "20173   cellular   aug         mon         2    999         0  nonexistent   \n",
       "18171  telephone   jul         wed         2    999         0  nonexistent   \n",
       "30128   cellular   apr         thu         1    999         0  nonexistent   \n",
       "\n",
       "       emp.var.rate  cons.price.idx  cons.conf.idx  euribor3m  nr.employed  \\\n",
       "ID                                                                           \n",
       "34579          -1.8          92.893          -46.2      1.266       5099.1   \n",
       "446             1.1          93.994          -36.4      4.857       5191.0   \n",
       "20173           1.4          93.444          -36.1      4.965       5228.1   \n",
       "18171           1.4          93.918          -42.7      4.963       5228.1   \n",
       "30128          -1.8          93.075          -47.1      1.365       5099.1   \n",
       "\n",
       "         y  \n",
       "ID          \n",
       "34579   no  \n",
       "446    yes  \n",
       "20173  yes  \n",
       "18171  yes  \n",
       "30128   no  "
      ]
     },
     "execution_count": 75,
     "metadata": {},
     "output_type": "execute_result"
    }
   ],
   "source": [
    "data.drop_duplicates(inplace=True)\n",
    "data.set_index('ID',inplace=True)\n",
    "print('New shape of the dataset:',*data.shape)\n",
    "data.head()"
   ]
  },
  {
   "cell_type": "markdown",
   "metadata": {},
   "source": [
    "### 2.1.2 Checking the correct reading of the variables"
   ]
  },
  {
   "cell_type": "code",
   "execution_count": 61,
   "metadata": {
    "ExecuteTime": {
     "end_time": "2020-03-01T09:12:49.145350Z",
     "start_time": "2020-03-01T09:12:49.135357Z"
    }
   },
   "outputs": [
    {
     "data": {
      "text/plain": [
       "age                 int64\n",
       "job                object\n",
       "marital            object\n",
       "education          object\n",
       "default            object\n",
       "housing            object\n",
       "loan               object\n",
       "contact            object\n",
       "month              object\n",
       "day_of_week        object\n",
       "campaign            int64\n",
       "pdays               int64\n",
       "previous            int64\n",
       "poutcome           object\n",
       "emp.var.rate      float64\n",
       "cons.price.idx    float64\n",
       "cons.conf.idx     float64\n",
       "euribor3m         float64\n",
       "nr.employed       float64\n",
       "y                  object\n",
       "dtype: object"
      ]
     },
     "execution_count": 61,
     "metadata": {},
     "output_type": "execute_result"
    }
   ],
   "source": [
    "data.dtypes"
   ]
  },
  {
   "cell_type": "markdown",
   "metadata": {},
   "source": [
    "Categorical variables are read as `object` instead of `category`."
   ]
  },
  {
   "cell_type": "code",
   "execution_count": 76,
   "metadata": {
    "ExecuteTime": {
     "end_time": "2020-03-01T09:12:50.915502Z",
     "start_time": "2020-03-01T09:12:50.878525Z"
    }
   },
   "outputs": [
    {
     "data": {
      "text/plain": [
       "age                  int64\n",
       "job               category\n",
       "marital           category\n",
       "education         category\n",
       "default           category\n",
       "housing           category\n",
       "loan              category\n",
       "contact           category\n",
       "month             category\n",
       "day_of_week       category\n",
       "campaign             int64\n",
       "pdays                int64\n",
       "previous             int64\n",
       "poutcome          category\n",
       "emp.var.rate       float64\n",
       "cons.price.idx     float64\n",
       "cons.conf.idx      float64\n",
       "euribor3m          float64\n",
       "nr.employed        float64\n",
       "y                 category\n",
       "dtype: object"
      ]
     },
     "execution_count": 76,
     "metadata": {},
     "output_type": "execute_result"
    }
   ],
   "source": [
    "cat=list(dict(data.dtypes[data.dtypes=='object']).keys())\n",
    "\n",
    "for i in cat: \n",
    "    data[i]=data[i].astype('category')\n",
    "\n",
    "data.dtypes"
   ]
  },
  {
   "cell_type": "markdown",
   "metadata": {},
   "source": [
    "## 2.2 Reparameterizing `pdays`"
   ]
  },
  {
   "cell_type": "code",
   "execution_count": 77,
   "metadata": {
    "ExecuteTime": {
     "end_time": "2020-03-01T09:12:52.547619Z",
     "start_time": "2020-03-01T09:12:52.533630Z"
    }
   },
   "outputs": [
    {
     "data": {
      "text/plain": [
       "count    8980.000000\n",
       "mean      885.204232\n",
       "std       316.342109\n",
       "min         0.000000\n",
       "25%       999.000000\n",
       "50%       999.000000\n",
       "75%       999.000000\n",
       "max       999.000000\n",
       "Name: pdays, dtype: float64"
      ]
     },
     "execution_count": 77,
     "metadata": {},
     "output_type": "execute_result"
    }
   ],
   "source": [
    "data['pdays'].describe()"
   ]
  },
  {
   "cell_type": "markdown",
   "metadata": {},
   "source": [
    "`pdays` is currently being read as a continuous variable. Unfortunately there is the persistence of a value that is out of scale with respect to the others: `999`. We suppose that this value stands for a number of days that goes beyond the third year. For this reason, we suppose that people having this value have not been contacted recently. \n",
    "\n",
    "We have decided to reparametrize the variable into a categorical one with 4 levels: \n",
    "- `1_w`: people that have been contacted \"within a week\"\n",
    "- `2_w`: people that have been contacted \"within two weeks\"\n",
    "- `within_month`: people that have been contacted \"within the month\"\n",
    "- `not_rec_cont`: which stands for people that have not been recently contacted"
   ]
  },
  {
   "cell_type": "code",
   "execution_count": 78,
   "metadata": {
    "ExecuteTime": {
     "end_time": "2020-03-01T09:12:53.703617Z",
     "start_time": "2020-03-01T09:12:53.678631Z"
    }
   },
   "outputs": [
    {
     "name": "stdout",
     "output_type": "stream",
     "text": [
      "not_rec_cont    7951\n",
      "1_w              821\n",
      "2_w              168\n",
      "within_month      40\n",
      "Name: pdays_new, dtype: int64\n",
      "category\n"
     ]
    }
   ],
   "source": [
    "l=list(data['pdays'])\n",
    "\n",
    "pdays_new=list()\n",
    "for i in l:\n",
    "    if i >=0 and i<=7:\n",
    "        pdays_new.append('1_w')\n",
    "    elif i>=8 and i<=14:\n",
    "        pdays_new.append('2_w')\n",
    "    elif i>=15 and i<=31:\n",
    "        pdays_new.append('within_month')\n",
    "    elif i==999:\n",
    "        pdays_new.append('not_rec_cont')\n",
    "        \n",
    "data['pdays_new']=pdays_new\n",
    "data['pdays_new']=data['pdays_new'].astype('category')\n",
    "data.drop('pdays',axis=1,inplace=True)\n",
    "\n",
    "print(data['pdays_new'].value_counts())\n",
    "print(data['pdays_new'].dtypes)"
   ]
  },
  {
   "cell_type": "code",
   "execution_count": 79,
   "metadata": {
    "ExecuteTime": {
     "end_time": "2020-03-01T09:11:04.783947Z",
     "start_time": "2020-03-01T09:11:04.116358Z"
    }
   },
   "outputs": [
    {
     "name": "stdout",
     "output_type": "stream",
     "text": [
      "          index  Perc.%\n",
      "0  not_rec_cont   88.54\n",
      "1           1_w    9.14\n",
      "2           2_w    1.87\n",
      "3  within_month    0.45\n"
     ]
    },
    {
     "data": {
      "image/png": "[encoded data removed]",
      "text/plain": [
       "<Figure size 1440x576 with 2 Axes>"
      ]
     },
     "metadata": {},
     "output_type": "display_data"
    }
   ],
   "source": [
    "sns.set_style('whitegrid')\n",
    "sns.set(font_scale = 1.25)\n",
    "\n",
    "pd = (data['pdays_new'].value_counts(normalize=True)\n",
    "                     .rename('Perc.%')\n",
    "                     .mul(100)\n",
    "                     .reset_index())\n",
    "print(round(pd,2))\n",
    "\n",
    "fig, (ax1, ax2) = plt.subplots(nrows = 1, ncols = 2, figsize = (20,8))\n",
    "\n",
    "a=sns.barplot(x='index',y='Perc.%',data=pd,ax=ax1)\n",
    "a.set(xlabel='Pdays')\n",
    "\n",
    "\n",
    "pd_y = (data.groupby(['pdays_new'])['y']\n",
    "         .value_counts(normalize=True)\n",
    "         .rename('Perc.%')\n",
    "         .mul(100)\n",
    "         .reset_index())\n",
    "\n",
    "sns.barplot(x=\"pdays_new\", y=\"Perc.%\", hue=\"y\", data=pd_y,ax=ax2)\n",
    "plt.xlabel('Pdays')\n",
    "\n",
    "plt.show()"
   ]
  },
  {
   "cell_type": "markdown",
   "metadata": {},
   "source": [
    "## 2.3 `unknown` imputation"
   ]
  },
  {
   "cell_type": "markdown",
   "metadata": {},
   "source": [
    "During the descriptive analysis, we noticed the anomalous presence of `unknown` values in multiple variables. We suspect that these values are missing, so we decided to find ways to compute (impute) these missing values."
   ]
  },
  {
   "cell_type": "markdown",
   "metadata": {},
   "source": [
    "### 2.3.1 Checking the allocation of all the `unknown` attributes"
   ]
  },
  {
   "cell_type": "markdown",
   "metadata": {},
   "source": [
    "The first thing we wanted to do is to check is the quantity of `unknown` values that are present in each variable."
   ]
  },
  {
   "cell_type": "code",
   "execution_count": 80,
   "metadata": {
    "ExecuteTime": {
     "end_time": "2020-03-01T09:12:56.362613Z",
     "start_time": "2020-03-01T09:12:56.313642Z"
    }
   },
   "outputs": [
    {
     "name": "stdout",
     "output_type": "stream",
     "text": [
      "In absolute terms:\n"
     ]
    },
    {
     "data": {
      "text/plain": [
       "{'age': 0,\n",
       " 'job': 75,\n",
       " 'marital': 21,\n",
       " 'education': 425,\n",
       " 'default': 1443,\n",
       " 'housing': 209,\n",
       " 'loan': 209,\n",
       " 'contact': 0,\n",
       " 'month': 0,\n",
       " 'day_of_week': 0,\n",
       " 'campaign': 0,\n",
       " 'previous': 0,\n",
       " 'poutcome': 0,\n",
       " 'emp.var.rate': 0,\n",
       " 'cons.price.idx': 0,\n",
       " 'cons.conf.idx': 0,\n",
       " 'euribor3m': 0,\n",
       " 'nr.employed': 0,\n",
       " 'y': 0,\n",
       " 'pdays_new': 0}"
      ]
     },
     "execution_count": 80,
     "metadata": {},
     "output_type": "execute_result"
    }
   ],
   "source": [
    "unk_counter=dict()\n",
    "\n",
    "for i in data.columns:\n",
    "    unk_counter[i]=sum(data.loc[:,i]=='unknown')\n",
    "\n",
    "print('In absolute terms:')\n",
    "unk_counter"
   ]
  },
  {
   "cell_type": "code",
   "execution_count": 81,
   "metadata": {
    "ExecuteTime": {
     "end_time": "2020-03-01T09:13:01.144805Z",
     "start_time": "2020-03-01T09:13:01.093836Z"
    }
   },
   "outputs": [
    {
     "name": "stdout",
     "output_type": "stream",
     "text": [
      "In frequency terms:\n"
     ]
    },
    {
     "data": {
      "text/plain": [
       "{'age': 0.0,\n",
       " 'job': 0.0084,\n",
       " 'marital': 0.0023,\n",
       " 'education': 0.0473,\n",
       " 'default': 0.1607,\n",
       " 'housing': 0.0233,\n",
       " 'loan': 0.0233,\n",
       " 'contact': 0.0,\n",
       " 'month': 0.0,\n",
       " 'day_of_week': 0.0,\n",
       " 'campaign': 0.0,\n",
       " 'previous': 0.0,\n",
       " 'poutcome': 0.0,\n",
       " 'emp.var.rate': 0.0,\n",
       " 'cons.price.idx': 0.0,\n",
       " 'cons.conf.idx': 0.0,\n",
       " 'euribor3m': 0.0,\n",
       " 'nr.employed': 0.0,\n",
       " 'y': 0.0,\n",
       " 'pdays_new': 0.0}"
      ]
     },
     "execution_count": 81,
     "metadata": {},
     "output_type": "execute_result"
    }
   ],
   "source": [
    "unk_freq=dict()\n",
    "\n",
    "for i in data.columns:\n",
    "    unk_freq[i]=round(sum(data.loc[:,i]=='unknown')/len(data),4)\n",
    "    \n",
    "print('In frequency terms:')\n",
    "unk_freq"
   ]
  },
  {
   "cell_type": "markdown",
   "metadata": {},
   "source": [
    "It is possible to see that the all the `unknown` values are present in the client personal information part of the dataset. Especially in the `default` variable. "
   ]
  },
  {
   "cell_type": "markdown",
   "metadata": {},
   "source": [
    "### 2.3.2 Default"
   ]
  },
  {
   "cell_type": "markdown",
   "metadata": {},
   "source": [
    "From the descriptive analysis it is possible to see that the only two levels of `default` are `No` and `unknown`. For this reason it is impossible to deduce if these `unknown` are considered `Yes` or `No`, and due that, we decided to drop this variable from the dataset."
   ]
  },
  {
   "cell_type": "code",
   "execution_count": 82,
   "metadata": {
    "ExecuteTime": {
     "end_time": "2020-03-01T09:13:04.600006Z",
     "start_time": "2020-03-01T09:13:04.592009Z"
    }
   },
   "outputs": [],
   "source": [
    "data.drop('default',axis=1,inplace=True)"
   ]
  },
  {
   "cell_type": "markdown",
   "metadata": {},
   "source": [
    "### 2.3.3 Job and marital "
   ]
  },
  {
   "cell_type": "markdown",
   "metadata": {},
   "source": [
    "The amount of missing values for these two variables is very low. For job they just correspond to the 0.84% of the total amount of the variable itself, while for marital just the 0.23%.<br>\n",
    "Due this, we substitute the missing values in both of the variables with the mode."
   ]
  },
  {
   "cell_type": "code",
   "execution_count": 83,
   "metadata": {
    "ExecuteTime": {
     "end_time": "2020-03-01T09:13:06.237514Z",
     "start_time": "2020-03-01T09:13:06.214530Z"
    }
   },
   "outputs": [
    {
     "name": "stdout",
     "output_type": "stream",
     "text": [
      "Job:\n",
      "admin.           2555\n",
      "blue-collar      1663\n",
      "technician       1430\n",
      "services          756\n",
      "management        633\n",
      "retired           569\n",
      "student           326\n",
      "self-employed     306\n",
      "entrepreneur      281\n",
      "unemployed        235\n",
      "housemaid         226\n",
      "Name: job, dtype: int64\n",
      "\n",
      "Marital:\n",
      "married     5236\n",
      "single      2791\n",
      "divorced     953\n",
      "Name: marital, dtype: int64\n"
     ]
    }
   ],
   "source": [
    "for i in data[['job','marital']]:\n",
    "    data[i].replace({'unknown':mode(data[i])},inplace=True)\n",
    "print('Job:')\n",
    "print(data['job'].value_counts())\n",
    "print('')\n",
    "print('Marital:')\n",
    "print(data['marital'].value_counts())"
   ]
  },
  {
   "cell_type": "markdown",
   "metadata": {},
   "source": [
    "## 2.4 Education imputation through non-parametric approaches "
   ]
  },
  {
   "cell_type": "markdown",
   "metadata": {},
   "source": [
    "Education housing and loan are the variables with the higher amount of missing values. We will compute them with two different non-parametric approaches: Random forest and ANN. Both of them will be trained on the subset of data with the present values and compared using the crossvalidation approach on the subset. "
   ]
  },
  {
   "cell_type": "markdown",
   "metadata": {},
   "source": [
    "### 2.4.1 One hot encoding & train, test and validation splitting"
   ]
  },
  {
   "cell_type": "markdown",
   "metadata": {},
   "source": [
    "Before training the algorithms, we need to encode the dataset by doing one-hot-encoding since in the dataset there are a lot of non categorical variables.<br>\n",
    "Moreover we normalize the numerical variables."
   ]
  },
  {
   "cell_type": "code",
   "execution_count": 84,
   "metadata": {},
   "outputs": [],
   "source": [
    "data_origin=data.copy()"
   ]
  },
  {
   "cell_type": "code",
   "execution_count": 87,
   "metadata": {
    "ExecuteTime": {
     "end_time": "2020-03-01T09:13:08.773466Z",
     "start_time": "2020-03-01T09:13:08.704511Z"
    }
   },
   "outputs": [
    {
     "name": "stdout",
     "output_type": "stream",
     "text": [
      "The columns are now the following:\n",
      "\n",
      "Index(['age', 'campaign', 'cons.conf.idx', 'cons.price.idx', 'emp.var.rate',\n",
      "       'euribor3m', 'nr.employed', 'previous', 'day_of_week_fri',\n",
      "       'day_of_week_mon', 'day_of_week_thu', 'day_of_week_tue',\n",
      "       'day_of_week_wed', 'job_admin.', 'job_blue-collar', 'job_entrepreneur',\n",
      "       'job_housemaid', 'job_management', 'job_retired', 'job_self-employed',\n",
      "       'job_services', 'job_student', 'job_technician', 'job_unemployed',\n",
      "       'marital_divorced', 'marital_married', 'marital_single', 'month_apr',\n",
      "       'month_aug', 'month_dec', 'month_jul', 'month_jun', 'month_mar',\n",
      "       'month_may', 'month_nov', 'month_oct', 'month_sep', 'pdays_new_1_w',\n",
      "       'pdays_new_2_w', 'pdays_new_not_rec_cont', 'pdays_new_within_month',\n",
      "       'poutcome_failure', 'poutcome_nonexistent', 'poutcome_success'],\n",
      "      dtype='object')\n"
     ]
    }
   ],
   "source": [
    "numi=['age','campaign','cons.conf.idx','cons.price.idx','emp.var.rate','euribor3m','nr.employed','previous']\n",
    "data_origin[numi]=preprocessing.normalize(data_origin[numi])\n",
    "\n",
    "data_edu=data_origin[data_origin.columns.difference(['loan','housing','education','y','contact'])]\n",
    "    \n",
    "data_one=pd.get_dummies(data_edu)\n",
    "\n",
    "print('The columns are now the following:')\n",
    "print('')\n",
    "print(data_one.columns)"
   ]
  },
  {
   "cell_type": "code",
   "execution_count": 89,
   "metadata": {
    "ExecuteTime": {
     "end_time": "2020-03-01T09:13:14.942343Z",
     "start_time": "2020-03-01T09:13:14.912362Z"
    }
   },
   "outputs": [
    {
     "data": {
      "text/plain": [
       "age                        float64\n",
       "campaign                   float64\n",
       "cons.conf.idx              float64\n",
       "cons.price.idx             float64\n",
       "emp.var.rate               float64\n",
       "euribor3m                  float64\n",
       "nr.employed                float64\n",
       "previous                   float64\n",
       "day_of_week_fri              uint8\n",
       "day_of_week_mon              uint8\n",
       "day_of_week_thu              uint8\n",
       "day_of_week_tue              uint8\n",
       "day_of_week_wed              uint8\n",
       "job_admin.                   uint8\n",
       "job_blue-collar              uint8\n",
       "job_entrepreneur             uint8\n",
       "job_housemaid                uint8\n",
       "job_management               uint8\n",
       "job_retired                  uint8\n",
       "job_self-employed            uint8\n",
       "job_services                 uint8\n",
       "job_student                  uint8\n",
       "job_technician               uint8\n",
       "job_unemployed               uint8\n",
       "marital_divorced             uint8\n",
       "marital_married              uint8\n",
       "marital_single               uint8\n",
       "month_apr                    uint8\n",
       "month_aug                    uint8\n",
       "month_dec                    uint8\n",
       "month_jul                    uint8\n",
       "month_jun                    uint8\n",
       "month_mar                    uint8\n",
       "month_may                    uint8\n",
       "month_nov                    uint8\n",
       "month_oct                    uint8\n",
       "month_sep                    uint8\n",
       "pdays_new_1_w                uint8\n",
       "pdays_new_2_w                uint8\n",
       "pdays_new_not_rec_cont       uint8\n",
       "pdays_new_within_month       uint8\n",
       "poutcome_failure             uint8\n",
       "poutcome_nonexistent         uint8\n",
       "poutcome_success             uint8\n",
       "education                 category\n",
       "contact                       int8\n",
       "y                            int64\n",
       "dtype: object"
      ]
     },
     "execution_count": 89,
     "metadata": {},
     "output_type": "execute_result"
    }
   ],
   "source": [
    "data_one=data_one.merge(data[['education','contact','y']],on='ID')\n",
    "\n",
    "data_one['y'].replace({'yes':1,'no':0},inplace=True)\n",
    "\n",
    "\n",
    "data_one['contact']=data_one['contact'].astype('category')\n",
    "data_one['contact']=data_one['contact'].cat.codes\n",
    "data_one.dtypes"
   ]
  },
  {
   "cell_type": "code",
   "execution_count": 90,
   "metadata": {
    "ExecuteTime": {
     "end_time": "2020-03-01T09:13:29.453584Z",
     "start_time": "2020-03-01T09:13:29.422604Z"
    }
   },
   "outputs": [
    {
     "name": "stdout",
     "output_type": "stream",
     "text": [
      "The shape of the dataset now is the following:\n"
     ]
    },
    {
     "data": {
      "text/html": [
       "<div>\n",
       "<style scoped>\n",
       "    .dataframe tbody tr th:only-of-type {\n",
       "        vertical-align: middle;\n",
       "    }\n",
       "\n",
       "    .dataframe tbody tr th {\n",
       "        vertical-align: top;\n",
       "    }\n",
       "\n",
       "    .dataframe thead th {\n",
       "        text-align: right;\n",
       "    }\n",
       "</style>\n",
       "<table border=\"1\" class=\"dataframe\">\n",
       "  <thead>\n",
       "    <tr style=\"text-align: right;\">\n",
       "      <th></th>\n",
       "      <th>age</th>\n",
       "      <th>campaign</th>\n",
       "      <th>cons.conf.idx</th>\n",
       "      <th>cons.price.idx</th>\n",
       "      <th>emp.var.rate</th>\n",
       "      <th>euribor3m</th>\n",
       "      <th>nr.employed</th>\n",
       "      <th>previous</th>\n",
       "      <th>day_of_week_fri</th>\n",
       "      <th>day_of_week_mon</th>\n",
       "      <th>...</th>\n",
       "      <th>pdays_new_1_w</th>\n",
       "      <th>pdays_new_2_w</th>\n",
       "      <th>pdays_new_not_rec_cont</th>\n",
       "      <th>pdays_new_within_month</th>\n",
       "      <th>poutcome_failure</th>\n",
       "      <th>poutcome_nonexistent</th>\n",
       "      <th>poutcome_success</th>\n",
       "      <th>education</th>\n",
       "      <th>contact</th>\n",
       "      <th>y</th>\n",
       "    </tr>\n",
       "    <tr>\n",
       "      <th>ID</th>\n",
       "      <th></th>\n",
       "      <th></th>\n",
       "      <th></th>\n",
       "      <th></th>\n",
       "      <th></th>\n",
       "      <th></th>\n",
       "      <th></th>\n",
       "      <th></th>\n",
       "      <th></th>\n",
       "      <th></th>\n",
       "      <th></th>\n",
       "      <th></th>\n",
       "      <th></th>\n",
       "      <th></th>\n",
       "      <th></th>\n",
       "      <th></th>\n",
       "      <th></th>\n",
       "      <th></th>\n",
       "      <th></th>\n",
       "      <th></th>\n",
       "      <th></th>\n",
       "    </tr>\n",
       "  </thead>\n",
       "  <tbody>\n",
       "    <tr>\n",
       "      <th>34579</th>\n",
       "      <td>0.006862</td>\n",
       "      <td>0.000196</td>\n",
       "      <td>-0.009058</td>\n",
       "      <td>0.018213</td>\n",
       "      <td>-0.000353</td>\n",
       "      <td>0.000248</td>\n",
       "      <td>0.999769</td>\n",
       "      <td>0.000196</td>\n",
       "      <td>0</td>\n",
       "      <td>0</td>\n",
       "      <td>...</td>\n",
       "      <td>0</td>\n",
       "      <td>0</td>\n",
       "      <td>1</td>\n",
       "      <td>0</td>\n",
       "      <td>1</td>\n",
       "      <td>0</td>\n",
       "      <td>0</td>\n",
       "      <td>university.degree</td>\n",
       "      <td>0</td>\n",
       "      <td>0</td>\n",
       "    </tr>\n",
       "    <tr>\n",
       "      <th>446</th>\n",
       "      <td>0.008089</td>\n",
       "      <td>0.000193</td>\n",
       "      <td>-0.007011</td>\n",
       "      <td>0.018103</td>\n",
       "      <td>0.000212</td>\n",
       "      <td>0.000935</td>\n",
       "      <td>0.999778</td>\n",
       "      <td>0.000000</td>\n",
       "      <td>0</td>\n",
       "      <td>0</td>\n",
       "      <td>...</td>\n",
       "      <td>0</td>\n",
       "      <td>0</td>\n",
       "      <td>1</td>\n",
       "      <td>0</td>\n",
       "      <td>0</td>\n",
       "      <td>1</td>\n",
       "      <td>0</td>\n",
       "      <td>professional.course</td>\n",
       "      <td>1</td>\n",
       "      <td>1</td>\n",
       "    </tr>\n",
       "    <tr>\n",
       "      <th>20173</th>\n",
       "      <td>0.006884</td>\n",
       "      <td>0.000382</td>\n",
       "      <td>-0.006904</td>\n",
       "      <td>0.017870</td>\n",
       "      <td>0.000268</td>\n",
       "      <td>0.000949</td>\n",
       "      <td>0.999792</td>\n",
       "      <td>0.000000</td>\n",
       "      <td>0</td>\n",
       "      <td>1</td>\n",
       "      <td>...</td>\n",
       "      <td>0</td>\n",
       "      <td>0</td>\n",
       "      <td>1</td>\n",
       "      <td>0</td>\n",
       "      <td>0</td>\n",
       "      <td>1</td>\n",
       "      <td>0</td>\n",
       "      <td>university.degree</td>\n",
       "      <td>0</td>\n",
       "      <td>1</td>\n",
       "    </tr>\n",
       "    <tr>\n",
       "      <th>18171</th>\n",
       "      <td>0.007076</td>\n",
       "      <td>0.000382</td>\n",
       "      <td>-0.008166</td>\n",
       "      <td>0.017960</td>\n",
       "      <td>0.000268</td>\n",
       "      <td>0.000949</td>\n",
       "      <td>0.999780</td>\n",
       "      <td>0.000000</td>\n",
       "      <td>0</td>\n",
       "      <td>0</td>\n",
       "      <td>...</td>\n",
       "      <td>0</td>\n",
       "      <td>0</td>\n",
       "      <td>1</td>\n",
       "      <td>0</td>\n",
       "      <td>0</td>\n",
       "      <td>1</td>\n",
       "      <td>0</td>\n",
       "      <td>high.school</td>\n",
       "      <td>1</td>\n",
       "      <td>1</td>\n",
       "    </tr>\n",
       "    <tr>\n",
       "      <th>30128</th>\n",
       "      <td>0.006078</td>\n",
       "      <td>0.000196</td>\n",
       "      <td>-0.009235</td>\n",
       "      <td>0.018249</td>\n",
       "      <td>-0.000353</td>\n",
       "      <td>0.000268</td>\n",
       "      <td>0.999772</td>\n",
       "      <td>0.000000</td>\n",
       "      <td>0</td>\n",
       "      <td>0</td>\n",
       "      <td>...</td>\n",
       "      <td>0</td>\n",
       "      <td>0</td>\n",
       "      <td>1</td>\n",
       "      <td>0</td>\n",
       "      <td>0</td>\n",
       "      <td>1</td>\n",
       "      <td>0</td>\n",
       "      <td>university.degree</td>\n",
       "      <td>0</td>\n",
       "      <td>0</td>\n",
       "    </tr>\n",
       "  </tbody>\n",
       "</table>\n",
       "<p>5 rows × 47 columns</p>\n",
       "</div>"
      ],
      "text/plain": [
       "            age  campaign  cons.conf.idx  cons.price.idx  emp.var.rate  \\\n",
       "ID                                                                       \n",
       "34579  0.006862  0.000196      -0.009058        0.018213     -0.000353   \n",
       "446    0.008089  0.000193      -0.007011        0.018103      0.000212   \n",
       "20173  0.006884  0.000382      -0.006904        0.017870      0.000268   \n",
       "18171  0.007076  0.000382      -0.008166        0.017960      0.000268   \n",
       "30128  0.006078  0.000196      -0.009235        0.018249     -0.000353   \n",
       "\n",
       "       euribor3m  nr.employed  previous  day_of_week_fri  day_of_week_mon  \\\n",
       "ID                                                                          \n",
       "34579   0.000248     0.999769  0.000196                0                0   \n",
       "446     0.000935     0.999778  0.000000                0                0   \n",
       "20173   0.000949     0.999792  0.000000                0                1   \n",
       "18171   0.000949     0.999780  0.000000                0                0   \n",
       "30128   0.000268     0.999772  0.000000                0                0   \n",
       "\n",
       "       ...  pdays_new_1_w  pdays_new_2_w  pdays_new_not_rec_cont  \\\n",
       "ID     ...                                                         \n",
       "34579  ...              0              0                       1   \n",
       "446    ...              0              0                       1   \n",
       "20173  ...              0              0                       1   \n",
       "18171  ...              0              0                       1   \n",
       "30128  ...              0              0                       1   \n",
       "\n",
       "       pdays_new_within_month  poutcome_failure  poutcome_nonexistent  \\\n",
       "ID                                                                      \n",
       "34579                       0                 1                     0   \n",
       "446                         0                 0                     1   \n",
       "20173                       0                 0                     1   \n",
       "18171                       0                 0                     1   \n",
       "30128                       0                 0                     1   \n",
       "\n",
       "       poutcome_success            education  contact  y  \n",
       "ID                                                        \n",
       "34579                 0    university.degree        0  0  \n",
       "446                   0  professional.course        1  1  \n",
       "20173                 0    university.degree        0  1  \n",
       "18171                 0          high.school        1  1  \n",
       "30128                 0    university.degree        0  0  \n",
       "\n",
       "[5 rows x 47 columns]"
      ]
     },
     "execution_count": 90,
     "metadata": {},
     "output_type": "execute_result"
    }
   ],
   "source": [
    "print('The shape of the dataset now is the following:')\n",
    "data_one.head()"
   ]
  },
  {
   "cell_type": "markdown",
   "metadata": {},
   "source": [
    "Now that the whole dataset has been reparametrized, we divide the dataset into a train set (`sub_ed`) where the algorithms will be compared and a validation set (`val_ed`) where the `unknown` values are contained. On this last subset, predictions will be made and the `unknown` attributes will be substituted."
   ]
  },
  {
   "cell_type": "code",
   "execution_count": 91,
   "metadata": {
    "ExecuteTime": {
     "end_time": "2020-03-01T09:13:37.861222Z",
     "start_time": "2020-03-01T09:13:37.846234Z"
    }
   },
   "outputs": [
    {
     "name": "stdout",
     "output_type": "stream",
     "text": [
      "Shape of the train set: (8555, 47)\n",
      "\n",
      "Shape of the validation set: (425, 47)\n"
     ]
    }
   ],
   "source": [
    "val_ed=data_one[data_one['education']=='unknown']\n",
    "sub_ed=data_one[data_one['education']!='unknown']\n",
    "\n",
    "print('Shape of the train set:',sub_ed.shape)\n",
    "print('')\n",
    "print('Shape of the validation set:',val_ed.shape)"
   ]
  },
  {
   "cell_type": "markdown",
   "metadata": {},
   "source": [
    "From the subset `sub_ed` we label encode the variable `education` since now we don't have anymore the `unknown` parameters."
   ]
  },
  {
   "cell_type": "code",
   "execution_count": 92,
   "metadata": {
    "ExecuteTime": {
     "end_time": "2020-03-01T09:13:41.069721Z",
     "start_time": "2020-03-01T09:13:40.958789Z"
    }
   },
   "outputs": [
    {
     "name": "stdout",
     "output_type": "stream",
     "text": [
      "\n",
      "ID\n",
      "34579    6\n",
      "446      5\n",
      "20173    6\n",
      "18171    4\n",
      "30128    6\n",
      "Name: education, dtype: int64\n"
     ]
    },
    {
     "name": "stderr",
     "output_type": "stream",
     "text": [
      "C:\\Users\\ANDREA\\Anaconda3\\lib\\site-packages\\pandas\\core\\generic.py:6786: SettingWithCopyWarning: \n",
      "A value is trying to be set on a copy of a slice from a DataFrame\n",
      "\n",
      "See the caveats in the documentation: http://pandas.pydata.org/pandas-docs/stable/user_guide/indexing.html#returning-a-view-versus-a-copy\n",
      "  self._update_inplace(new_data)\n"
     ]
    }
   ],
   "source": [
    "print('')\n",
    "di = {'illiterate': 0, 'professional.course':5, 'high.school':4,'university.degree':6, 'basic.9y':3, 'basic.4y':1, 'basic.6y':2 }\n",
    "sub_ed[\"education\"].replace(di, inplace=True)\n",
    "print(sub_ed['education'].head())\n"
   ]
  },
  {
   "cell_type": "markdown",
   "metadata": {},
   "source": [
    "We now can explicit the X (the data) and the Y (the response) for helping us to make thing more easy further.  "
   ]
  },
  {
   "cell_type": "code",
   "execution_count": 93,
   "metadata": {
    "ExecuteTime": {
     "end_time": "2020-03-01T09:13:44.608184Z",
     "start_time": "2020-03-01T09:13:44.599190Z"
    }
   },
   "outputs": [],
   "source": [
    "X=sub_ed[sub_ed.columns.difference(['education'])]\n",
    "Y=sub_ed['education']"
   ]
  },
  {
   "cell_type": "markdown",
   "metadata": {},
   "source": [
    "### 2.4.2 First model: Random Forest"
   ]
  },
  {
   "cell_type": "markdown",
   "metadata": {},
   "source": [
    "For the random forest we decided to perform a k=5 fold cross-validation for estimating the best criterion, the maximum depth that each tree should have, the minimum samples leaf and the max of the features. Moreover, we did this by crossvalidating for 5 different forests, each one with an increasing number of trees to be estimated."
   ]
  },
  {
   "cell_type": "code",
   "execution_count": 23,
   "metadata": {
    "ExecuteTime": {
     "end_time": "2020-03-01T09:19:29.487513Z",
     "start_time": "2020-03-01T09:13:48.789894Z"
    }
   },
   "outputs": [
    {
     "name": "stdout",
     "output_type": "stream",
     "text": [
      "50   0.5263588544710696   {'min_samples_leaf': 0.001, 'max_features': 0.2, 'max_depth': 5, 'criterion': 'entropy'}\n",
      "100   0.5241379310344828   {'min_samples_leaf': 0.001, 'max_features': 0.2, 'max_depth': 5, 'criterion': 'entropy'}\n",
      "150   0.520864991233197   {'min_samples_leaf': 0.001, 'max_features': 0.2, 'max_depth': 5, 'criterion': 'entropy'}\n",
      "200   0.5226183518410287   {'min_samples_leaf': 0.001, 'max_features': 0.2, 'max_depth': 5, 'criterion': 'entropy'}\n"
     ]
    }
   ],
   "source": [
    "for i in [50,100,150,200]:\n",
    "    rf = RandomForestClassifier(random_state=33, n_estimators=i)\n",
    "    params = {'criterion': ['gini', 'entropy'], 'max_depth': np.arange(2, 6), 'min_samples_leaf': np.logspace(-1, -3, 3),'max_features': ['sqrt', 0.2, 0.5]}\n",
    "    cv_tuning = RandomizedSearchCV(rf, params, random_state=122223, scoring='accuracy', return_train_score=True, cv=5, n_iter=20)\n",
    "    cv_tuning.fit(X,Y)\n",
    "    print(i,' ',cv_tuning.best_score_,' ',cv_tuning.best_params_)"
   ]
  },
  {
   "cell_type": "markdown",
   "metadata": {
    "ExecuteTime": {
     "end_time": "2020-02-29T17:39:02.380880Z",
     "start_time": "2020-02-29T17:39:02.109539Z"
    }
   },
   "source": [
    "As it is possible to see, the best random forest is the first one with 50 trees which has an accuracy of 52,6%. The algorithm in this form is more computationally heavy, but it allows us to see the best model for each different forest."
   ]
  },
  {
   "cell_type": "markdown",
   "metadata": {},
   "source": [
    "### 2.4.3 Second model: Artificial Neural Network"
   ]
  },
  {
   "cell_type": "markdown",
   "metadata": {},
   "source": [
    "Here, we need to perform a train-test split since a crossvalidation for evaluating the best parameters is too computationally costly. Also, for this reason, we will test different configuration in order to find the one that suits better the data."
   ]
  },
  {
   "cell_type": "code",
   "execution_count": 94,
   "metadata": {
    "ExecuteTime": {
     "end_time": "2020-03-01T09:19:29.803512Z",
     "start_time": "2020-03-01T09:19:29.764344Z"
    }
   },
   "outputs": [],
   "source": [
    "train_x,test_x,train_y,test_y=train_test_split(X, Y, test_size=0.2, random_state=123, stratify=Y,shuffle=True)\n",
    "\n",
    "train_y_one=pd.get_dummies(train_y)\n",
    "test_y_one=pd.get_dummies(test_y)"
   ]
  },
  {
   "cell_type": "markdown",
   "metadata": {},
   "source": [
    "#### Config. 1: high batch size  and small learning rate in order to stabilize the training"
   ]
  },
  {
   "cell_type": "code",
   "execution_count": 25,
   "metadata": {
    "ExecuteTime": {
     "end_time": "2020-03-01T09:19:38.880526Z",
     "start_time": "2020-03-01T09:19:30.096330Z"
    }
   },
   "outputs": [
    {
     "name": "stdout",
     "output_type": "stream",
     "text": [
      "WARNING:tensorflow:Falling back from v2 loop because of error: Failed to find data adapter that can handle input: <class 'pandas.core.frame.DataFrame'>, <class 'NoneType'>\n",
      "Train on 6844 samples, validate on 1711 samples\n",
      "Epoch 1/150\n",
      "6844/6844 [==============================] - 1s 125us/sample - loss: 1.9081 - accuracy: 0.2183 - val_loss: 1.8629 - val_accuracy: 0.2811\n",
      "Epoch 2/150\n",
      "6844/6844 [==============================] - 0s 14us/sample - loss: 1.8261 - accuracy: 0.3074 - val_loss: 1.7802 - val_accuracy: 0.3302\n",
      "Epoch 3/150\n",
      "6844/6844 [==============================] - 0s 11us/sample - loss: 1.7425 - accuracy: 0.3343 - val_loss: 1.6897 - val_accuracy: 0.3477\n",
      "Epoch 4/150\n",
      "6844/6844 [==============================] - 0s 11us/sample - loss: 1.6551 - accuracy: 0.3413 - val_loss: 1.6054 - val_accuracy: 0.3437\n",
      "Epoch 5/150\n",
      "6844/6844 [==============================] - 0s 11us/sample - loss: 1.5787 - accuracy: 0.3460 - val_loss: 1.5365 - val_accuracy: 0.3565\n",
      "Epoch 6/150\n",
      "6844/6844 [==============================] - ETA: 0s - loss: 1.5210 - accuracy: 0.36 - 0s 11us/sample - loss: 1.5158 - accuracy: 0.3717 - val_loss: 1.4780 - val_accuracy: 0.3805\n",
      "Epoch 7/150\n",
      "6844/6844 [==============================] - 0s 10us/sample - loss: 1.4615 - accuracy: 0.3926 - val_loss: 1.4241 - val_accuracy: 0.4021\n",
      "Epoch 8/150\n",
      "6844/6844 [==============================] - 0s 10us/sample - loss: 1.4111 - accuracy: 0.4147 - val_loss: 1.3756 - val_accuracy: 0.4237\n",
      "Epoch 9/150\n",
      "6844/6844 [==============================] - 0s 10us/sample - loss: 1.3658 - accuracy: 0.4500 - val_loss: 1.3323 - val_accuracy: 0.4681\n",
      "Epoch 10/150\n",
      "6844/6844 [==============================] - 0s 10us/sample - loss: 1.3247 - accuracy: 0.4896 - val_loss: 1.2954 - val_accuracy: 0.5032\n",
      "Epoch 11/150\n",
      "6844/6844 [==============================] - 0s 10us/sample - loss: 1.2892 - accuracy: 0.5134 - val_loss: 1.2670 - val_accuracy: 0.5143\n",
      "Epoch 12/150\n",
      "6844/6844 [==============================] - 0s 11us/sample - loss: 1.2621 - accuracy: 0.5273 - val_loss: 1.2459 - val_accuracy: 0.5289\n",
      "Epoch 13/150\n",
      "6844/6844 [==============================] - 0s 11us/sample - loss: 1.2419 - accuracy: 0.5346 - val_loss: 1.2323 - val_accuracy: 0.5272\n",
      "Epoch 14/150\n",
      "6844/6844 [==============================] - 0s 11us/sample - loss: 1.2277 - accuracy: 0.5376 - val_loss: 1.2240 - val_accuracy: 0.5295\n",
      "Epoch 15/150\n",
      "6844/6844 [==============================] - 0s 10us/sample - loss: 1.2199 - accuracy: 0.5373 - val_loss: 1.2182 - val_accuracy: 0.5371\n",
      "Epoch 16/150\n",
      "6844/6844 [==============================] - 0s 10us/sample - loss: 1.2117 - accuracy: 0.5390 - val_loss: 1.2147 - val_accuracy: 0.5354\n",
      "Epoch 17/150\n",
      "6844/6844 [==============================] - 0s 11us/sample - loss: 1.2073 - accuracy: 0.5367 - val_loss: 1.2130 - val_accuracy: 0.5295\n",
      "Epoch 18/150\n",
      "6844/6844 [==============================] - 0s 10us/sample - loss: 1.2030 - accuracy: 0.5390 - val_loss: 1.2112 - val_accuracy: 0.5313\n",
      "Epoch 19/150\n",
      "6844/6844 [==============================] - 0s 10us/sample - loss: 1.2005 - accuracy: 0.5381 - val_loss: 1.2114 - val_accuracy: 0.5336\n",
      "Epoch 20/150\n",
      "6844/6844 [==============================] - 0s 11us/sample - loss: 1.1975 - accuracy: 0.5406 - val_loss: 1.2091 - val_accuracy: 0.5319\n",
      "Epoch 21/150\n",
      "6844/6844 [==============================] - 0s 10us/sample - loss: 1.1953 - accuracy: 0.5408 - val_loss: 1.2076 - val_accuracy: 0.5324\n",
      "Epoch 22/150\n",
      "6844/6844 [==============================] - 0s 11us/sample - loss: 1.1930 - accuracy: 0.5399 - val_loss: 1.2093 - val_accuracy: 0.5301\n",
      "Epoch 23/150\n",
      "6844/6844 [==============================] - 0s 13us/sample - loss: 1.1914 - accuracy: 0.5411 - val_loss: 1.2067 - val_accuracy: 0.5283\n",
      "Epoch 24/150\n",
      "6844/6844 [==============================] - 0s 15us/sample - loss: 1.1900 - accuracy: 0.5395 - val_loss: 1.2064 - val_accuracy: 0.5324\n",
      "Epoch 25/150\n",
      "6844/6844 [==============================] - 0s 15us/sample - loss: 1.1904 - accuracy: 0.5425 - val_loss: 1.2093 - val_accuracy: 0.5365\n",
      "Epoch 26/150\n",
      "6844/6844 [==============================] - 0s 15us/sample - loss: 1.1877 - accuracy: 0.5406 - val_loss: 1.2051 - val_accuracy: 0.5295\n",
      "Epoch 27/150\n",
      "6844/6844 [==============================] - 0s 12us/sample - loss: 1.1864 - accuracy: 0.5419 - val_loss: 1.2051 - val_accuracy: 0.5319\n",
      "Epoch 28/150\n",
      "6844/6844 [==============================] - 0s 12us/sample - loss: 1.1845 - accuracy: 0.5440 - val_loss: 1.2049 - val_accuracy: 0.5365\n",
      "Epoch 29/150\n",
      "6844/6844 [==============================] - 0s 11us/sample - loss: 1.1837 - accuracy: 0.5430 - val_loss: 1.2044 - val_accuracy: 0.5342\n",
      "Epoch 30/150\n",
      "6844/6844 [==============================] - 0s 10us/sample - loss: 1.1834 - accuracy: 0.5428 - val_loss: 1.2046 - val_accuracy: 0.5295\n",
      "Epoch 31/150\n",
      "6844/6844 [==============================] - 0s 11us/sample - loss: 1.1811 - accuracy: 0.5430 - val_loss: 1.2048 - val_accuracy: 0.5395\n",
      "Epoch 32/150\n",
      "6844/6844 [==============================] - 0s 11us/sample - loss: 1.1804 - accuracy: 0.5424 - val_loss: 1.2041 - val_accuracy: 0.5359\n",
      "Epoch 33/150\n",
      "6844/6844 [==============================] - 0s 12us/sample - loss: 1.1791 - accuracy: 0.5432 - val_loss: 1.2045 - val_accuracy: 0.5278\n",
      "Epoch 34/150\n",
      "6844/6844 [==============================] - 0s 10us/sample - loss: 1.1782 - accuracy: 0.5446 - val_loss: 1.2032 - val_accuracy: 0.5330\n",
      "Epoch 35/150\n",
      "6844/6844 [==============================] - 0s 10us/sample - loss: 1.1766 - accuracy: 0.5422 - val_loss: 1.2042 - val_accuracy: 0.5354\n",
      "Epoch 36/150\n",
      "6844/6844 [==============================] - 0s 12us/sample - loss: 1.1765 - accuracy: 0.5450 - val_loss: 1.2028 - val_accuracy: 0.5342\n",
      "Epoch 37/150\n",
      "6844/6844 [==============================] - 0s 14us/sample - loss: 1.1757 - accuracy: 0.5440 - val_loss: 1.2040 - val_accuracy: 0.5319\n",
      "Epoch 38/150\n",
      "6844/6844 [==============================] - 0s 14us/sample - loss: 1.1755 - accuracy: 0.5462 - val_loss: 1.2032 - val_accuracy: 0.5348\n",
      "Epoch 39/150\n",
      "6844/6844 [==============================] - 0s 13us/sample - loss: 1.1738 - accuracy: 0.5462 - val_loss: 1.2036 - val_accuracy: 0.5336\n",
      "Epoch 40/150\n",
      "6844/6844 [==============================] - 0s 12us/sample - loss: 1.1730 - accuracy: 0.5453 - val_loss: 1.2034 - val_accuracy: 0.5348\n",
      "Epoch 41/150\n",
      "6844/6844 [==============================] - 0s 12us/sample - loss: 1.1728 - accuracy: 0.5453 - val_loss: 1.2031 - val_accuracy: 0.5319\n",
      "Epoch 42/150\n",
      "6844/6844 [==============================] - 0s 13us/sample - loss: 1.1717 - accuracy: 0.5481 - val_loss: 1.2030 - val_accuracy: 0.5354\n",
      "Epoch 43/150\n",
      "6844/6844 [==============================] - 0s 12us/sample - loss: 1.1701 - accuracy: 0.5451 - val_loss: 1.2034 - val_accuracy: 0.5365\n",
      "Epoch 44/150\n",
      "6844/6844 [==============================] - 0s 11us/sample - loss: 1.1697 - accuracy: 0.5472 - val_loss: 1.2044 - val_accuracy: 0.5330\n",
      "Epoch 45/150\n",
      "6844/6844 [==============================] - 0s 11us/sample - loss: 1.1695 - accuracy: 0.5472 - val_loss: 1.2027 - val_accuracy: 0.5359\n",
      "Epoch 46/150\n",
      "6844/6844 [==============================] - 0s 12us/sample - loss: 1.1682 - accuracy: 0.5472 - val_loss: 1.2030 - val_accuracy: 0.5319\n",
      "Epoch 47/150\n",
      "6844/6844 [==============================] - 0s 12us/sample - loss: 1.1695 - accuracy: 0.5487 - val_loss: 1.2038 - val_accuracy: 0.5319\n",
      "Epoch 48/150\n",
      "6844/6844 [==============================] - 0s 11us/sample - loss: 1.1667 - accuracy: 0.5494 - val_loss: 1.2029 - val_accuracy: 0.5336\n",
      "Epoch 49/150\n",
      "6844/6844 [==============================] - 0s 10us/sample - loss: 1.1653 - accuracy: 0.5468 - val_loss: 1.2030 - val_accuracy: 0.5371\n",
      "Epoch 50/150\n",
      "6844/6844 [==============================] - 0s 11us/sample - loss: 1.1659 - accuracy: 0.5511 - val_loss: 1.2030 - val_accuracy: 0.5365\n",
      "Epoch 51/150\n",
      "6844/6844 [==============================] - 0s 11us/sample - loss: 1.1643 - accuracy: 0.5487 - val_loss: 1.2038 - val_accuracy: 0.5307\n",
      "Epoch 52/150\n",
      "6844/6844 [==============================] - 0s 10us/sample - loss: 1.1644 - accuracy: 0.5504 - val_loss: 1.2045 - val_accuracy: 0.5307\n",
      "Epoch 53/150\n",
      "6844/6844 [==============================] - 0s 11us/sample - loss: 1.1638 - accuracy: 0.5489 - val_loss: 1.2028 - val_accuracy: 0.5365\n",
      "Epoch 54/150\n"
     ]
    },
    {
     "name": "stdout",
     "output_type": "stream",
     "text": [
      "6844/6844 [==============================] - 0s 11us/sample - loss: 1.1627 - accuracy: 0.5513 - val_loss: 1.2072 - val_accuracy: 0.5377\n",
      "Epoch 55/150\n",
      "6844/6844 [==============================] - 0s 10us/sample - loss: 1.1651 - accuracy: 0.5484 - val_loss: 1.2046 - val_accuracy: 0.5348\n",
      "Epoch 56/150\n",
      "6844/6844 [==============================] - 0s 11us/sample - loss: 1.1622 - accuracy: 0.5511 - val_loss: 1.2038 - val_accuracy: 0.5354\n",
      "Epoch 57/150\n",
      "6844/6844 [==============================] - 0s 11us/sample - loss: 1.1609 - accuracy: 0.5492 - val_loss: 1.2044 - val_accuracy: 0.5301\n",
      "Epoch 58/150\n",
      "6844/6844 [==============================] - 0s 11us/sample - loss: 1.1603 - accuracy: 0.5494 - val_loss: 1.2052 - val_accuracy: 0.5348\n",
      "Epoch 59/150\n",
      "6844/6844 [==============================] - 0s 10us/sample - loss: 1.1591 - accuracy: 0.5495 - val_loss: 1.2044 - val_accuracy: 0.5359\n",
      "Epoch 60/150\n",
      "6844/6844 [==============================] - 0s 12us/sample - loss: 1.1579 - accuracy: 0.5510 - val_loss: 1.2040 - val_accuracy: 0.5336\n",
      "Epoch 61/150\n",
      "6844/6844 [==============================] - 0s 10us/sample - loss: 1.1571 - accuracy: 0.5520 - val_loss: 1.2038 - val_accuracy: 0.5324\n",
      "Epoch 62/150\n",
      "6844/6844 [==============================] - 0s 10us/sample - loss: 1.1565 - accuracy: 0.5533 - val_loss: 1.2043 - val_accuracy: 0.5342\n",
      "Epoch 63/150\n",
      "6844/6844 [==============================] - 0s 10us/sample - loss: 1.1560 - accuracy: 0.5519 - val_loss: 1.2043 - val_accuracy: 0.5319\n",
      "Epoch 64/150\n",
      "6844/6844 [==============================] - 0s 11us/sample - loss: 1.1551 - accuracy: 0.5526 - val_loss: 1.2049 - val_accuracy: 0.5313\n",
      "Epoch 65/150\n",
      "6844/6844 [==============================] - 0s 10us/sample - loss: 1.1555 - accuracy: 0.5522 - val_loss: 1.2054 - val_accuracy: 0.5301\n",
      "Epoch 66/150\n",
      "6844/6844 [==============================] - 0s 11us/sample - loss: 1.1553 - accuracy: 0.5568 - val_loss: 1.2044 - val_accuracy: 0.5330\n",
      "Epoch 67/150\n",
      "6844/6844 [==============================] - 0s 11us/sample - loss: 1.1535 - accuracy: 0.5523 - val_loss: 1.2050 - val_accuracy: 0.5359\n",
      "Epoch 68/150\n",
      "6844/6844 [==============================] - 0s 11us/sample - loss: 1.1539 - accuracy: 0.5542 - val_loss: 1.2060 - val_accuracy: 0.5313\n",
      "Epoch 69/150\n",
      "6844/6844 [==============================] - 0s 12us/sample - loss: 1.1526 - accuracy: 0.5529 - val_loss: 1.2055 - val_accuracy: 0.5348\n",
      "Epoch 70/150\n",
      "6844/6844 [==============================] - 0s 12us/sample - loss: 1.1524 - accuracy: 0.5542 - val_loss: 1.2049 - val_accuracy: 0.5330\n",
      "Epoch 71/150\n",
      "6844/6844 [==============================] - 0s 12us/sample - loss: 1.1506 - accuracy: 0.5555 - val_loss: 1.2049 - val_accuracy: 0.5342\n",
      "Epoch 72/150\n",
      "6844/6844 [==============================] - 0s 11us/sample - loss: 1.1500 - accuracy: 0.5535 - val_loss: 1.2073 - val_accuracy: 0.5336\n",
      "Epoch 73/150\n",
      "6844/6844 [==============================] - 0s 11us/sample - loss: 1.1501 - accuracy: 0.5538 - val_loss: 1.2054 - val_accuracy: 0.5330\n",
      "Epoch 74/150\n",
      "6844/6844 [==============================] - 0s 11us/sample - loss: 1.1496 - accuracy: 0.5560 - val_loss: 1.2061 - val_accuracy: 0.5342\n",
      "Epoch 75/150\n",
      "6844/6844 [==============================] - ETA: 0s - loss: 1.1507 - accuracy: 0.55 - 0s 12us/sample - loss: 1.1482 - accuracy: 0.5555 - val_loss: 1.2053 - val_accuracy: 0.5324\n",
      "Epoch 76/150\n",
      "6844/6844 [==============================] - 0s 11us/sample - loss: 1.1475 - accuracy: 0.5573 - val_loss: 1.2062 - val_accuracy: 0.5359\n",
      "Epoch 77/150\n",
      "6844/6844 [==============================] - 0s 11us/sample - loss: 1.1480 - accuracy: 0.5574 - val_loss: 1.2069 - val_accuracy: 0.5307\n",
      "Epoch 78/150\n",
      "6844/6844 [==============================] - 0s 11us/sample - loss: 1.1479 - accuracy: 0.5541 - val_loss: 1.2066 - val_accuracy: 0.5342\n",
      "Epoch 79/150\n",
      "6844/6844 [==============================] - 0s 11us/sample - loss: 1.1461 - accuracy: 0.5552 - val_loss: 1.2074 - val_accuracy: 0.5389\n",
      "Epoch 80/150\n",
      "6844/6844 [==============================] - 0s 11us/sample - loss: 1.1456 - accuracy: 0.5567 - val_loss: 1.2045 - val_accuracy: 0.5371\n",
      "Epoch 81/150\n",
      "6844/6844 [==============================] - 0s 12us/sample - loss: 1.1463 - accuracy: 0.5563 - val_loss: 1.2073 - val_accuracy: 0.5324\n",
      "Epoch 82/150\n",
      "6844/6844 [==============================] - 0s 10us/sample - loss: 1.1453 - accuracy: 0.5554 - val_loss: 1.2098 - val_accuracy: 0.5336\n",
      "Epoch 83/150\n",
      "6844/6844 [==============================] - 0s 10us/sample - loss: 1.1446 - accuracy: 0.5544 - val_loss: 1.2061 - val_accuracy: 0.5365\n",
      "Epoch 84/150\n",
      "6844/6844 [==============================] - 0s 10us/sample - loss: 1.1441 - accuracy: 0.5570 - val_loss: 1.2064 - val_accuracy: 0.5395\n",
      "Epoch 85/150\n",
      "6844/6844 [==============================] - 0s 11us/sample - loss: 1.1437 - accuracy: 0.5580 - val_loss: 1.2071 - val_accuracy: 0.5400\n",
      "Epoch 86/150\n",
      "6844/6844 [==============================] - 0s 11us/sample - loss: 1.1428 - accuracy: 0.5573 - val_loss: 1.2078 - val_accuracy: 0.5354\n",
      "Epoch 87/150\n",
      "6844/6844 [==============================] - 0s 12us/sample - loss: 1.1414 - accuracy: 0.5601 - val_loss: 1.2073 - val_accuracy: 0.5336\n",
      "Epoch 88/150\n",
      "6844/6844 [==============================] - 0s 11us/sample - loss: 1.1413 - accuracy: 0.5603 - val_loss: 1.2071 - val_accuracy: 0.5377\n",
      "Epoch 89/150\n",
      "6844/6844 [==============================] - 0s 11us/sample - loss: 1.1413 - accuracy: 0.5593 - val_loss: 1.2073 - val_accuracy: 0.5359\n",
      "Epoch 90/150\n",
      "6844/6844 [==============================] - 0s 11us/sample - loss: 1.1400 - accuracy: 0.5598 - val_loss: 1.2072 - val_accuracy: 0.5371\n",
      "Epoch 91/150\n",
      "6844/6844 [==============================] - 0s 11us/sample - loss: 1.1400 - accuracy: 0.5595 - val_loss: 1.2090 - val_accuracy: 0.5400\n",
      "Epoch 92/150\n",
      "6844/6844 [==============================] - 0s 11us/sample - loss: 1.1394 - accuracy: 0.5590 - val_loss: 1.2077 - val_accuracy: 0.5406\n",
      "Epoch 93/150\n",
      "6844/6844 [==============================] - 0s 10us/sample - loss: 1.1393 - accuracy: 0.5603 - val_loss: 1.2074 - val_accuracy: 0.5383\n",
      "Epoch 94/150\n",
      "6844/6844 [==============================] - 0s 10us/sample - loss: 1.1381 - accuracy: 0.5621 - val_loss: 1.2076 - val_accuracy: 0.5359\n",
      "Epoch 95/150\n",
      "6844/6844 [==============================] - 0s 10us/sample - loss: 1.1390 - accuracy: 0.5606 - val_loss: 1.2086 - val_accuracy: 0.5395\n",
      "Epoch 96/150\n",
      "6844/6844 [==============================] - 0s 11us/sample - loss: 1.1370 - accuracy: 0.5601 - val_loss: 1.2070 - val_accuracy: 0.5412\n",
      "Epoch 97/150\n",
      "6844/6844 [==============================] - 0s 11us/sample - loss: 1.1371 - accuracy: 0.5580 - val_loss: 1.2087 - val_accuracy: 0.5348\n",
      "Epoch 98/150\n",
      "6844/6844 [==============================] - 0s 13us/sample - loss: 1.1366 - accuracy: 0.5596 - val_loss: 1.2071 - val_accuracy: 0.5395\n",
      "Epoch 99/150\n",
      "6844/6844 [==============================] - 0s 15us/sample - loss: 1.1365 - accuracy: 0.5637 - val_loss: 1.2077 - val_accuracy: 0.5330\n",
      "Epoch 100/150\n",
      "6844/6844 [==============================] - 0s 13us/sample - loss: 1.1372 - accuracy: 0.5596 - val_loss: 1.2117 - val_accuracy: 0.5283\n",
      "Epoch 101/150\n",
      "6844/6844 [==============================] - 0s 12us/sample - loss: 1.1356 - accuracy: 0.5582 - val_loss: 1.2075 - val_accuracy: 0.5389\n",
      "Epoch 102/150\n",
      "6844/6844 [==============================] - 0s 11us/sample - loss: 1.1346 - accuracy: 0.5631 - val_loss: 1.2088 - val_accuracy: 0.5348\n",
      "Epoch 103/150\n",
      "6844/6844 [==============================] - 0s 11us/sample - loss: 1.1345 - accuracy: 0.5611 - val_loss: 1.2076 - val_accuracy: 0.5348\n",
      "Epoch 104/150\n",
      "6844/6844 [==============================] - 0s 11us/sample - loss: 1.1337 - accuracy: 0.5624 - val_loss: 1.2081 - val_accuracy: 0.5301\n",
      "Epoch 105/150\n",
      "6844/6844 [==============================] - 0s 11us/sample - loss: 1.1341 - accuracy: 0.5620 - val_loss: 1.2082 - val_accuracy: 0.5371\n",
      "Epoch 106/150\n",
      "6844/6844 [==============================] - 0s 11us/sample - loss: 1.1341 - accuracy: 0.5617 - val_loss: 1.2094 - val_accuracy: 0.5348\n",
      "Epoch 107/150\n",
      "6844/6844 [==============================] - 0s 11us/sample - loss: 1.1334 - accuracy: 0.5631 - val_loss: 1.2084 - val_accuracy: 0.5377\n",
      "Epoch 108/150\n",
      "6844/6844 [==============================] - 0s 11us/sample - loss: 1.1329 - accuracy: 0.5656 - val_loss: 1.2084 - val_accuracy: 0.5365\n"
     ]
    },
    {
     "name": "stdout",
     "output_type": "stream",
     "text": [
      "Epoch 109/150\n",
      "6844/6844 [==============================] - 0s 11us/sample - loss: 1.1333 - accuracy: 0.5631 - val_loss: 1.2090 - val_accuracy: 0.5336\n",
      "Epoch 110/150\n",
      "6844/6844 [==============================] - 0s 12us/sample - loss: 1.1328 - accuracy: 0.5633 - val_loss: 1.2081 - val_accuracy: 0.5377\n",
      "Epoch 111/150\n",
      "6844/6844 [==============================] - 0s 10us/sample - loss: 1.1311 - accuracy: 0.5639 - val_loss: 1.2093 - val_accuracy: 0.5354\n",
      "Epoch 112/150\n",
      "6844/6844 [==============================] - 0s 9us/sample - loss: 1.1301 - accuracy: 0.5644 - val_loss: 1.2089 - val_accuracy: 0.5359\n",
      "Epoch 113/150\n",
      "6844/6844 [==============================] - 0s 11us/sample - loss: 1.1299 - accuracy: 0.5624 - val_loss: 1.2095 - val_accuracy: 0.5389\n",
      "Epoch 114/150\n",
      "6844/6844 [==============================] - 0s 11us/sample - loss: 1.1296 - accuracy: 0.5640 - val_loss: 1.2102 - val_accuracy: 0.5342\n",
      "Epoch 115/150\n",
      "6844/6844 [==============================] - 0s 11us/sample - loss: 1.1293 - accuracy: 0.5646 - val_loss: 1.2095 - val_accuracy: 0.5348\n",
      "Epoch 116/150\n",
      "6844/6844 [==============================] - 0s 13us/sample - loss: 1.1289 - accuracy: 0.5630 - val_loss: 1.2101 - val_accuracy: 0.5348\n",
      "Epoch 117/150\n",
      "6844/6844 [==============================] - 0s 13us/sample - loss: 1.1297 - accuracy: 0.5640 - val_loss: 1.2096 - val_accuracy: 0.5342\n",
      "Epoch 118/150\n",
      "6844/6844 [==============================] - 0s 11us/sample - loss: 1.1288 - accuracy: 0.5615 - val_loss: 1.2094 - val_accuracy: 0.5342\n",
      "Epoch 119/150\n",
      "6844/6844 [==============================] - 0s 11us/sample - loss: 1.1284 - accuracy: 0.5653 - val_loss: 1.2102 - val_accuracy: 0.5348\n",
      "Epoch 120/150\n",
      "6844/6844 [==============================] - 0s 11us/sample - loss: 1.1275 - accuracy: 0.5639 - val_loss: 1.2099 - val_accuracy: 0.5354\n",
      "Epoch 121/150\n",
      "6844/6844 [==============================] - 0s 11us/sample - loss: 1.1271 - accuracy: 0.5637 - val_loss: 1.2111 - val_accuracy: 0.5330\n",
      "Epoch 122/150\n",
      "6844/6844 [==============================] - 0s 11us/sample - loss: 1.1264 - accuracy: 0.5650 - val_loss: 1.2095 - val_accuracy: 0.5301\n",
      "Epoch 123/150\n",
      "6844/6844 [==============================] - 0s 11us/sample - loss: 1.1263 - accuracy: 0.5630 - val_loss: 1.2106 - val_accuracy: 0.5342\n",
      "Epoch 124/150\n",
      "6844/6844 [==============================] - 0s 11us/sample - loss: 1.1270 - accuracy: 0.5650 - val_loss: 1.2103 - val_accuracy: 0.5330\n",
      "Epoch 125/150\n",
      "6844/6844 [==============================] - 0s 11us/sample - loss: 1.1259 - accuracy: 0.5652 - val_loss: 1.2109 - val_accuracy: 0.5348\n",
      "Epoch 126/150\n",
      "6844/6844 [==============================] - 0s 11us/sample - loss: 1.1262 - accuracy: 0.5668 - val_loss: 1.2119 - val_accuracy: 0.5336\n",
      "Epoch 127/150\n",
      "6844/6844 [==============================] - 0s 11us/sample - loss: 1.1259 - accuracy: 0.5647 - val_loss: 1.2110 - val_accuracy: 0.5365\n",
      "Epoch 128/150\n",
      "6844/6844 [==============================] - 0s 10us/sample - loss: 1.1260 - accuracy: 0.5652 - val_loss: 1.2126 - val_accuracy: 0.5319\n",
      "Epoch 129/150\n",
      "6844/6844 [==============================] - 0s 11us/sample - loss: 1.1252 - accuracy: 0.5647 - val_loss: 1.2115 - val_accuracy: 0.5342\n",
      "Epoch 130/150\n",
      "6844/6844 [==============================] - 0s 10us/sample - loss: 1.1240 - accuracy: 0.5641 - val_loss: 1.2118 - val_accuracy: 0.5354\n",
      "Epoch 131/150\n",
      "6844/6844 [==============================] - 0s 11us/sample - loss: 1.1248 - accuracy: 0.5639 - val_loss: 1.2133 - val_accuracy: 0.5307\n",
      "Epoch 132/150\n",
      "6844/6844 [==============================] - 0s 11us/sample - loss: 1.1240 - accuracy: 0.5665 - val_loss: 1.2129 - val_accuracy: 0.5307\n",
      "Epoch 133/150\n",
      "6844/6844 [==============================] - 0s 12us/sample - loss: 1.1236 - accuracy: 0.5647 - val_loss: 1.2118 - val_accuracy: 0.5330\n",
      "Epoch 134/150\n",
      "6844/6844 [==============================] - 0s 11us/sample - loss: 1.1226 - accuracy: 0.5668 - val_loss: 1.2129 - val_accuracy: 0.5324\n",
      "Epoch 135/150\n",
      "6844/6844 [==============================] - 0s 11us/sample - loss: 1.1223 - accuracy: 0.5655 - val_loss: 1.2118 - val_accuracy: 0.5365\n",
      "Epoch 136/150\n",
      "6844/6844 [==============================] - 0s 11us/sample - loss: 1.1222 - accuracy: 0.5672 - val_loss: 1.2122 - val_accuracy: 0.5319\n",
      "Epoch 137/150\n",
      "6844/6844 [==============================] - 0s 11us/sample - loss: 1.1216 - accuracy: 0.5655 - val_loss: 1.2130 - val_accuracy: 0.5307\n",
      "Epoch 138/150\n",
      "6844/6844 [==============================] - 0s 11us/sample - loss: 1.1209 - accuracy: 0.5674 - val_loss: 1.2131 - val_accuracy: 0.5295\n",
      "Epoch 139/150\n",
      "6844/6844 [==============================] - 0s 11us/sample - loss: 1.1210 - accuracy: 0.5658 - val_loss: 1.2121 - val_accuracy: 0.5330\n",
      "Epoch 140/150\n",
      "6844/6844 [==============================] - 0s 11us/sample - loss: 1.1210 - accuracy: 0.5679 - val_loss: 1.2146 - val_accuracy: 0.5283\n",
      "Epoch 141/150\n",
      "6844/6844 [==============================] - 0s 11us/sample - loss: 1.1200 - accuracy: 0.5675 - val_loss: 1.2123 - val_accuracy: 0.5313\n",
      "Epoch 142/150\n",
      "6844/6844 [==============================] - 0s 12us/sample - loss: 1.1202 - accuracy: 0.5650 - val_loss: 1.2144 - val_accuracy: 0.5319\n",
      "Epoch 143/150\n",
      "6844/6844 [==============================] - 0s 11us/sample - loss: 1.1195 - accuracy: 0.5663 - val_loss: 1.2143 - val_accuracy: 0.5289\n",
      "Epoch 144/150\n",
      "6844/6844 [==============================] - 0s 11us/sample - loss: 1.1187 - accuracy: 0.5677 - val_loss: 1.2135 - val_accuracy: 0.5307\n",
      "Epoch 145/150\n",
      "6844/6844 [==============================] - 0s 11us/sample - loss: 1.1185 - accuracy: 0.5679 - val_loss: 1.2131 - val_accuracy: 0.5307\n",
      "Epoch 146/150\n",
      "6844/6844 [==============================] - 0s 11us/sample - loss: 1.1188 - accuracy: 0.5684 - val_loss: 1.2137 - val_accuracy: 0.5307\n",
      "Epoch 147/150\n",
      "6844/6844 [==============================] - 0s 11us/sample - loss: 1.1188 - accuracy: 0.5671 - val_loss: 1.2139 - val_accuracy: 0.5319\n",
      "Epoch 148/150\n",
      "6844/6844 [==============================] - 0s 11us/sample - loss: 1.1184 - accuracy: 0.5669 - val_loss: 1.2136 - val_accuracy: 0.5295\n",
      "Epoch 149/150\n",
      "6844/6844 [==============================] - 0s 11us/sample - loss: 1.1175 - accuracy: 0.5679 - val_loss: 1.2145 - val_accuracy: 0.5283\n",
      "Epoch 150/150\n",
      "6844/6844 [==============================] - 0s 11us/sample - loss: 1.1186 - accuracy: 0.5700 - val_loss: 1.2153 - val_accuracy: 0.5278\n"
     ]
    }
   ],
   "source": [
    "model = Sequential()\n",
    "model.add(Dense(32, input_dim=46, activation='relu'))\n",
    "model.add(Dense(16, activation='relu'))\n",
    "model.add(Dense(7, activation='softmax'))\n",
    "model.compile(loss='categorical_crossentropy', optimizer='adam', metrics=['accuracy'])\n",
    "\n",
    "history=model.fit(train_x, train_y_one, epochs=150, batch_size=500, verbose=1,validation_data=(test_x,test_y_one))"
   ]
  },
  {
   "cell_type": "code",
   "execution_count": 26,
   "metadata": {
    "ExecuteTime": {
     "end_time": "2020-03-01T09:19:39.723063Z",
     "start_time": "2020-03-01T09:19:39.154358Z"
    }
   },
   "outputs": [
    {
     "data": {
      "image/png": "[encoded data removed]",
      "text/plain": [
       "<Figure size 1440x576 with 2 Axes>"
      ]
     },
     "metadata": {},
     "output_type": "display_data"
    }
   ],
   "source": [
    "fig, (ax1, ax2) = plt.subplots(nrows = 1, ncols = 2, figsize = (20,8))\n",
    "\n",
    "ax_1=sns.lineplot(history.epoch,history.history['accuracy'],ax=ax1,label='Train')\n",
    "sns.lineplot(history.epoch,history.history['val_accuracy'],ax=ax1,label='Test')\n",
    "ax_1.set(xlabel='Epoch', ylabel='Accuracy')\n",
    "\n",
    "ax_2=sns.lineplot(history.epoch,history.history['loss'],ax=ax2,label='Train')\n",
    "sns.lineplot(history.epoch,history.history['val_loss'],ax=ax2,label='Test')\n",
    "ax_2.set(xlabel='Epoch', ylabel='Loss')\n",
    "\n",
    "plt.show()"
   ]
  },
  {
   "cell_type": "markdown",
   "metadata": {},
   "source": [
    "#### Config. 2: reducing the batch size and learning rate in order to gain more stability but updating the weights more frequently"
   ]
  },
  {
   "cell_type": "code",
   "execution_count": 27,
   "metadata": {
    "ExecuteTime": {
     "end_time": "2020-03-01T09:19:59.341661Z",
     "start_time": "2020-03-01T09:19:40.017881Z"
    }
   },
   "outputs": [
    {
     "name": "stdout",
     "output_type": "stream",
     "text": [
      "WARNING:tensorflow:Falling back from v2 loop because of error: Failed to find data adapter that can handle input: <class 'pandas.core.frame.DataFrame'>, <class 'NoneType'>\n",
      "Train on 6844 samples, validate on 1711 samples\n",
      "Epoch 1/50\n",
      "6844/6844 [==============================] - 2s 219us/sample - loss: 1.5471 - accuracy: 0.3824 - val_loss: 1.3182 - val_accuracy: 0.4833\n",
      "Epoch 2/50\n",
      "6844/6844 [==============================] - 1s 123us/sample - loss: 1.2845 - accuracy: 0.5022 - val_loss: 1.2468 - val_accuracy: 0.5278\n",
      "Epoch 3/50\n",
      "6844/6844 [==============================] - 1s 123us/sample - loss: 1.2372 - accuracy: 0.5291 - val_loss: 1.2279 - val_accuracy: 0.5395\n",
      "Epoch 4/50\n",
      "6844/6844 [==============================] - 2s 220us/sample - loss: 1.2171 - accuracy: 0.5298 - val_loss: 1.2166 - val_accuracy: 0.5319\n",
      "Epoch 5/50\n",
      "6844/6844 [==============================] - 1s 123us/sample - loss: 1.2052 - accuracy: 0.5323 - val_loss: 1.2079 - val_accuracy: 0.5377\n",
      "Epoch 6/50\n",
      "6844/6844 [==============================] - 1s 179us/sample - loss: 1.1997 - accuracy: 0.5361 - val_loss: 1.2083 - val_accuracy: 0.5324\n",
      "Epoch 7/50\n",
      "6844/6844 [==============================] - 2s 243us/sample - loss: 1.1935 - accuracy: 0.5377 - val_loss: 1.2145 - val_accuracy: 0.5336\n",
      "Epoch 8/50\n",
      "6844/6844 [==============================] - 1s 119us/sample - loss: 1.1890 - accuracy: 0.5434 - val_loss: 1.2049 - val_accuracy: 0.5383\n",
      "Epoch 9/50\n",
      "6844/6844 [==============================] - 2s 281us/sample - loss: 1.1847 - accuracy: 0.5416 - val_loss: 1.2041 - val_accuracy: 0.5324\n",
      "Epoch 10/50\n",
      "6844/6844 [==============================] - 1s 181us/sample - loss: 1.1795 - accuracy: 0.5419 - val_loss: 1.2049 - val_accuracy: 0.5307\n",
      "Epoch 11/50\n",
      "6844/6844 [==============================] - 1s 205us/sample - loss: 1.1776 - accuracy: 0.5406 - val_loss: 1.2035 - val_accuracy: 0.5348\n",
      "Epoch 12/50\n",
      "6844/6844 [==============================] - 2s 231us/sample - loss: 1.1755 - accuracy: 0.5414 - val_loss: 1.2044 - val_accuracy: 0.5283\n",
      "Epoch 13/50\n",
      "6844/6844 [==============================] - 1s 185us/sample - loss: 1.1732 - accuracy: 0.5408 - val_loss: 1.2037 - val_accuracy: 0.5260\n",
      "Epoch 14/50\n",
      "6844/6844 [==============================] - 1s 137us/sample - loss: 1.1680 - accuracy: 0.5470 - val_loss: 1.2023 - val_accuracy: 0.5213\n",
      "Epoch 15/50\n",
      "6844/6844 [==============================] - 2s 236us/sample - loss: 1.1687 - accuracy: 0.5406 - val_loss: 1.2031 - val_accuracy: 0.5231\n",
      "Epoch 16/50\n",
      "6844/6844 [==============================] - 1s 187us/sample - loss: 1.1660 - accuracy: 0.5412 - val_loss: 1.2019 - val_accuracy: 0.5237\n",
      "Epoch 17/50\n",
      "6844/6844 [==============================] - 1s 156us/sample - loss: 1.1639 - accuracy: 0.5446 - val_loss: 1.2043 - val_accuracy: 0.5266\n",
      "Epoch 18/50\n",
      "6844/6844 [==============================] - 2s 232us/sample - loss: 1.1600 - accuracy: 0.5473 - val_loss: 1.2071 - val_accuracy: 0.5219\n",
      "Epoch 19/50\n",
      "6844/6844 [==============================] - 2s 234us/sample - loss: 1.1587 - accuracy: 0.5437 - val_loss: 1.1993 - val_accuracy: 0.5278\n",
      "Epoch 20/50\n",
      "6844/6844 [==============================] - 1s 200us/sample - loss: 1.1582 - accuracy: 0.5438 - val_loss: 1.2069 - val_accuracy: 0.5237\n",
      "Epoch 21/50\n",
      "6844/6844 [==============================] - 2s 281us/sample - loss: 1.1546 - accuracy: 0.5492 - val_loss: 1.2058 - val_accuracy: 0.5213\n",
      "Epoch 22/50\n",
      "6844/6844 [==============================] - 1s 146us/sample - loss: 1.1536 - accuracy: 0.5498 - val_loss: 1.2037 - val_accuracy: 0.5219\n",
      "Epoch 23/50\n",
      "6844/6844 [==============================] - 2s 238us/sample - loss: 1.1513 - accuracy: 0.5526 - val_loss: 1.2070 - val_accuracy: 0.5225\n",
      "Epoch 24/50\n",
      "6844/6844 [==============================] - 1s 172us/sample - loss: 1.1491 - accuracy: 0.5507 - val_loss: 1.2098 - val_accuracy: 0.5213\n",
      "Epoch 25/50\n",
      "6844/6844 [==============================] - 2s 285us/sample - loss: 1.1502 - accuracy: 0.5456 - val_loss: 1.2044 - val_accuracy: 0.5237\n",
      "Epoch 26/50\n",
      "6844/6844 [==============================] - 1s 169us/sample - loss: 1.1477 - accuracy: 0.5519 - val_loss: 1.2108 - val_accuracy: 0.5167\n",
      "Epoch 27/50\n",
      "6844/6844 [==============================] - 2s 234us/sample - loss: 1.1468 - accuracy: 0.5494 - val_loss: 1.2113 - val_accuracy: 0.5172\n",
      "Epoch 28/50\n",
      "6844/6844 [==============================] - 1s 179us/sample - loss: 1.1441 - accuracy: 0.5539 - val_loss: 1.2081 - val_accuracy: 0.5184\n",
      "Epoch 29/50\n",
      "6844/6844 [==============================] - 1s 185us/sample - loss: 1.1397 - accuracy: 0.5544 - val_loss: 1.2248 - val_accuracy: 0.5073\n",
      "Epoch 30/50\n",
      "6844/6844 [==============================] - 1s 172us/sample - loss: 1.1418 - accuracy: 0.5535 - val_loss: 1.2098 - val_accuracy: 0.5213\n",
      "Epoch 31/50\n",
      "6844/6844 [==============================] - 2s 223us/sample - loss: 1.1394 - accuracy: 0.5501 - val_loss: 1.2062 - val_accuracy: 0.5213\n",
      "Epoch 32/50\n",
      "6844/6844 [==============================] - 1s 139us/sample - loss: 1.1384 - accuracy: 0.5530 - val_loss: 1.2125 - val_accuracy: 0.5202\n",
      "Epoch 33/50\n",
      "6844/6844 [==============================] - 1s 137us/sample - loss: 1.1372 - accuracy: 0.5560 - val_loss: 1.2090 - val_accuracy: 0.5172\n",
      "Epoch 34/50\n",
      "6844/6844 [==============================] - 1s 124us/sample - loss: 1.1351 - accuracy: 0.5527 - val_loss: 1.2171 - val_accuracy: 0.5207\n",
      "Epoch 35/50\n",
      "6844/6844 [==============================] - 1s 177us/sample - loss: 1.1354 - accuracy: 0.5525 - val_loss: 1.2172 - val_accuracy: 0.5161\n",
      "Epoch 36/50\n",
      "6844/6844 [==============================] - 2s 237us/sample - loss: 1.1342 - accuracy: 0.5548 - val_loss: 1.2224 - val_accuracy: 0.5120\n",
      "Epoch 37/50\n",
      "6844/6844 [==============================] - 1s 173us/sample - loss: 1.1315 - accuracy: 0.5533 - val_loss: 1.2181 - val_accuracy: 0.5248\n",
      "Epoch 38/50\n",
      "6844/6844 [==============================] - 2s 245us/sample - loss: 1.1313 - accuracy: 0.5545 - val_loss: 1.2145 - val_accuracy: 0.5149\n",
      "Epoch 39/50\n",
      "6844/6844 [==============================] - 1s 125us/sample - loss: 1.1305 - accuracy: 0.5545 - val_loss: 1.2240 - val_accuracy: 0.5114\n",
      "Epoch 40/50\n",
      "6844/6844 [==============================] - 1s 214us/sample - loss: 1.1282 - accuracy: 0.5520 - val_loss: 1.2189 - val_accuracy: 0.5260\n",
      "Epoch 41/50\n",
      "6844/6844 [==============================] - 1s 149us/sample - loss: 1.1255 - accuracy: 0.5586 - val_loss: 1.2159 - val_accuracy: 0.5155\n",
      "Epoch 42/50\n",
      "6844/6844 [==============================] - 2s 238us/sample - loss: 1.1280 - accuracy: 0.5570 - val_loss: 1.2152 - val_accuracy: 0.5207\n",
      "Epoch 43/50\n",
      "6844/6844 [==============================] - 1s 151us/sample - loss: 1.1248 - accuracy: 0.5608 - val_loss: 1.2179 - val_accuracy: 0.5172\n",
      "Epoch 44/50\n",
      "6844/6844 [==============================] - 2s 247us/sample - loss: 1.1233 - accuracy: 0.5598 - val_loss: 1.2186 - val_accuracy: 0.5202\n",
      "Epoch 45/50\n",
      "6844/6844 [==============================] - 2s 244us/sample - loss: 1.1227 - accuracy: 0.5589 - val_loss: 1.2206 - val_accuracy: 0.5161\n",
      "Epoch 46/50\n",
      "6844/6844 [==============================] - 1s 143us/sample - loss: 1.1240 - accuracy: 0.5618 - val_loss: 1.2197 - val_accuracy: 0.5155\n",
      "Epoch 47/50\n",
      "6844/6844 [==============================] - 1s 129us/sample - loss: 1.1204 - accuracy: 0.5603 - val_loss: 1.2271 - val_accuracy: 0.5096\n",
      "Epoch 48/50\n",
      "6844/6844 [==============================] - 1s 175us/sample - loss: 1.1203 - accuracy: 0.5589 - val_loss: 1.2216 - val_accuracy: 0.5202\n",
      "Epoch 49/50\n",
      "6844/6844 [==============================] - 1s 152us/sample - loss: 1.1195 - accuracy: 0.5584 - val_loss: 1.2203 - val_accuracy: 0.5184\n",
      "Epoch 50/50\n",
      "6844/6844 [==============================] - 2s 221us/sample - loss: 1.1185 - accuracy: 0.5577 - val_loss: 1.2238 - val_accuracy: 0.5172\n"
     ]
    }
   ],
   "source": [
    "model = Sequential()\n",
    "model.add(Dense(32, input_dim=46, activation='relu'))\n",
    "model.add(Dense(16, activation='relu'))\n",
    "model.add(Dense(7, activation='softmax'))\n",
    "model.compile(loss='categorical_crossentropy', optimizer=Adam(lr=0.001), metrics=['accuracy'])\n",
    "\n",
    "history=model.fit(train_x, train_y_one, epochs=50, batch_size=32, verbose=1,validation_data=(test_x,test_y_one))"
   ]
  },
  {
   "cell_type": "code",
   "execution_count": 28,
   "metadata": {
    "ExecuteTime": {
     "end_time": "2020-03-01T09:20:00.078292Z",
     "start_time": "2020-03-01T09:19:59.603501Z"
    }
   },
   "outputs": [
    {
     "data": {
      "image/png": "[encoded data removed]",
      "text/plain": [
       "<Figure size 1440x576 with 2 Axes>"
      ]
     },
     "metadata": {},
     "output_type": "display_data"
    }
   ],
   "source": [
    "fig, (ax1, ax2) = plt.subplots(nrows = 1, ncols = 2, figsize = (20,8))\n",
    "\n",
    "ax_1=sns.lineplot(history.epoch,history.history['accuracy'],ax=ax1,label='Train')\n",
    "sns.lineplot(history.epoch,history.history['val_accuracy'],ax=ax1,label='Test')\n",
    "ax_1.set(xlabel='Epoch', ylabel='Accuracy')\n",
    "\n",
    "ax_2=sns.lineplot(history.epoch,history.history['loss'],ax=ax2,label='Train')\n",
    "sns.lineplot(history.epoch,history.history['val_loss'],ax=ax2,label='Test')\n",
    "ax_2.set(xlabel='Epoch', ylabel='Loss')\n",
    "\n",
    "plt.show()"
   ]
  },
  {
   "cell_type": "markdown",
   "metadata": {},
   "source": [
    "#### Config 3: changing optimizer, from ADAM to SGD, and we increase the learning rate and the batch size"
   ]
  },
  {
   "cell_type": "code",
   "execution_count": 29,
   "metadata": {
    "ExecuteTime": {
     "end_time": "2020-03-01T09:20:03.206902Z",
     "start_time": "2020-03-01T09:20:00.366560Z"
    }
   },
   "outputs": [
    {
     "name": "stdout",
     "output_type": "stream",
     "text": [
      "WARNING:tensorflow:Falling back from v2 loop because of error: Failed to find data adapter that can handle input: <class 'pandas.core.frame.DataFrame'>, <class 'NoneType'>\n",
      "Train on 6844 samples, validate on 1711 samples\n",
      "Epoch 1/50\n",
      "6844/6844 [==============================] - 1s 119us/sample - loss: 1.8065 - accuracy: 0.2490 - val_loss: 1.6746 - val_accuracy: 0.3735\n",
      "Epoch 2/50\n",
      "6844/6844 [==============================] - 0s 9us/sample - loss: 1.6360 - accuracy: 0.3673 - val_loss: 1.5876 - val_accuracy: 0.3793\n",
      "Epoch 3/50\n",
      "6844/6844 [==============================] - 0s 8us/sample - loss: 1.5787 - accuracy: 0.3757 - val_loss: 1.5490 - val_accuracy: 0.3869\n",
      "Epoch 4/50\n",
      "6844/6844 [==============================] - 0s 6us/sample - loss: 1.5437 - accuracy: 0.3830 - val_loss: 1.5168 - val_accuracy: 0.3910\n",
      "Epoch 5/50\n",
      "6844/6844 [==============================] - 0s 8us/sample - loss: 1.5130 - accuracy: 0.3913 - val_loss: 1.4867 - val_accuracy: 0.3898\n",
      "Epoch 6/50\n",
      "6844/6844 [==============================] - 0s 7us/sample - loss: 1.4833 - accuracy: 0.3960 - val_loss: 1.4576 - val_accuracy: 0.3945\n",
      "Epoch 7/50\n",
      "6844/6844 [==============================] - 0s 7us/sample - loss: 1.4542 - accuracy: 0.4030 - val_loss: 1.4298 - val_accuracy: 0.4079\n",
      "Epoch 8/50\n",
      "6844/6844 [==============================] - 0s 7us/sample - loss: 1.4260 - accuracy: 0.4125 - val_loss: 1.4036 - val_accuracy: 0.4337\n",
      "Epoch 9/50\n",
      "6844/6844 [==============================] - 0s 7us/sample - loss: 1.4007 - accuracy: 0.4297 - val_loss: 1.3788 - val_accuracy: 0.4512\n",
      "Epoch 10/50\n",
      "6844/6844 [==============================] - 0s 7us/sample - loss: 1.3751 - accuracy: 0.4459 - val_loss: 1.3569 - val_accuracy: 0.4600\n",
      "Epoch 11/50\n",
      "6844/6844 [==============================] - 0s 6us/sample - loss: 1.3527 - accuracy: 0.4601 - val_loss: 1.3377 - val_accuracy: 0.4728\n",
      "Epoch 12/50\n",
      "6844/6844 [==============================] - 0s 6us/sample - loss: 1.3324 - accuracy: 0.4722 - val_loss: 1.3238 - val_accuracy: 0.4863\n",
      "Epoch 13/50\n",
      "6844/6844 [==============================] - 0s 7us/sample - loss: 1.3162 - accuracy: 0.4819 - val_loss: 1.3086 - val_accuracy: 0.4892\n",
      "Epoch 14/50\n",
      "6844/6844 [==============================] - 0s 7us/sample - loss: 1.3013 - accuracy: 0.4909 - val_loss: 1.2964 - val_accuracy: 0.4991\n",
      "Epoch 15/50\n",
      "6844/6844 [==============================] - 0s 7us/sample - loss: 1.2888 - accuracy: 0.4985 - val_loss: 1.2841 - val_accuracy: 0.5038\n",
      "Epoch 16/50\n",
      "6844/6844 [==============================] - 0s 7us/sample - loss: 1.2784 - accuracy: 0.5082 - val_loss: 1.2759 - val_accuracy: 0.5143\n",
      "Epoch 17/50\n",
      "6844/6844 [==============================] - 0s 9us/sample - loss: 1.2691 - accuracy: 0.5187 - val_loss: 1.2694 - val_accuracy: 0.5102\n",
      "Epoch 18/50\n",
      "6844/6844 [==============================] - 0s 8us/sample - loss: 1.2635 - accuracy: 0.5186 - val_loss: 1.2648 - val_accuracy: 0.5137\n",
      "Epoch 19/50\n",
      "6844/6844 [==============================] - 0s 9us/sample - loss: 1.2567 - accuracy: 0.5231 - val_loss: 1.2590 - val_accuracy: 0.5237\n",
      "Epoch 20/50\n",
      "6844/6844 [==============================] - 0s 8us/sample - loss: 1.2512 - accuracy: 0.5314 - val_loss: 1.2578 - val_accuracy: 0.5178\n",
      "Epoch 21/50\n",
      "6844/6844 [==============================] - 0s 9us/sample - loss: 1.2475 - accuracy: 0.5314 - val_loss: 1.2512 - val_accuracy: 0.5225\n",
      "Epoch 22/50\n",
      "6844/6844 [==============================] - 0s 8us/sample - loss: 1.2440 - accuracy: 0.5335 - val_loss: 1.2476 - val_accuracy: 0.5184\n",
      "Epoch 23/50\n",
      "6844/6844 [==============================] - 0s 7us/sample - loss: 1.2403 - accuracy: 0.5359 - val_loss: 1.2444 - val_accuracy: 0.5213\n",
      "Epoch 24/50\n",
      "6844/6844 [==============================] - 0s 6us/sample - loss: 1.2373 - accuracy: 0.5365 - val_loss: 1.2418 - val_accuracy: 0.5307\n",
      "Epoch 25/50\n",
      "6844/6844 [==============================] - 0s 7us/sample - loss: 1.2345 - accuracy: 0.5390 - val_loss: 1.2400 - val_accuracy: 0.5231\n",
      "Epoch 26/50\n",
      "6844/6844 [==============================] - 0s 7us/sample - loss: 1.2322 - accuracy: 0.5355 - val_loss: 1.2373 - val_accuracy: 0.5243\n",
      "Epoch 27/50\n",
      "6844/6844 [==============================] - 0s 8us/sample - loss: 1.2302 - accuracy: 0.5370 - val_loss: 1.2351 - val_accuracy: 0.5260\n",
      "Epoch 28/50\n",
      "6844/6844 [==============================] - 0s 7us/sample - loss: 1.2285 - accuracy: 0.5381 - val_loss: 1.2320 - val_accuracy: 0.5225\n",
      "Epoch 29/50\n",
      "6844/6844 [==============================] - 0s 7us/sample - loss: 1.2279 - accuracy: 0.5381 - val_loss: 1.2302 - val_accuracy: 0.5266\n",
      "Epoch 30/50\n",
      "6844/6844 [==============================] - 0s 6us/sample - loss: 1.2250 - accuracy: 0.5414 - val_loss: 1.2304 - val_accuracy: 0.5301\n",
      "Epoch 31/50\n",
      "6844/6844 [==============================] - 0s 7us/sample - loss: 1.2252 - accuracy: 0.5414 - val_loss: 1.2276 - val_accuracy: 0.5330\n",
      "Epoch 32/50\n",
      "6844/6844 [==============================] - 0s 7us/sample - loss: 1.2246 - accuracy: 0.5395 - val_loss: 1.2269 - val_accuracy: 0.5301\n",
      "Epoch 33/50\n",
      "6844/6844 [==============================] - 0s 7us/sample - loss: 1.2209 - accuracy: 0.5414 - val_loss: 1.2268 - val_accuracy: 0.5342\n",
      "Epoch 34/50\n",
      "6844/6844 [==============================] - 0s 7us/sample - loss: 1.2193 - accuracy: 0.5418 - val_loss: 1.2267 - val_accuracy: 0.5307\n",
      "Epoch 35/50\n",
      "6844/6844 [==============================] - 0s 7us/sample - loss: 1.2182 - accuracy: 0.5418 - val_loss: 1.2226 - val_accuracy: 0.5377\n",
      "Epoch 36/50\n",
      "6844/6844 [==============================] - 0s 6us/sample - loss: 1.2180 - accuracy: 0.5408 - val_loss: 1.2238 - val_accuracy: 0.5295\n",
      "Epoch 37/50\n",
      "6844/6844 [==============================] - 0s 6us/sample - loss: 1.2155 - accuracy: 0.5450 - val_loss: 1.2217 - val_accuracy: 0.5301\n",
      "Epoch 38/50\n",
      "6844/6844 [==============================] - 0s 10us/sample - loss: 1.2154 - accuracy: 0.5432 - val_loss: 1.2252 - val_accuracy: 0.5307\n",
      "Epoch 39/50\n",
      "6844/6844 [==============================] - 0s 9us/sample - loss: 1.2134 - accuracy: 0.5427 - val_loss: 1.2211 - val_accuracy: 0.5336\n",
      "Epoch 40/50\n",
      "6844/6844 [==============================] - 0s 8us/sample - loss: 1.2137 - accuracy: 0.5431 - val_loss: 1.2199 - val_accuracy: 0.5336\n",
      "Epoch 41/50\n",
      "6844/6844 [==============================] - 0s 7us/sample - loss: 1.2126 - accuracy: 0.5470 - val_loss: 1.2196 - val_accuracy: 0.5330\n",
      "Epoch 42/50\n",
      "6844/6844 [==============================] - 0s 7us/sample - loss: 1.2107 - accuracy: 0.5468 - val_loss: 1.2185 - val_accuracy: 0.5359\n",
      "Epoch 43/50\n",
      "6844/6844 [==============================] - 0s 7us/sample - loss: 1.2106 - accuracy: 0.5432 - val_loss: 1.2173 - val_accuracy: 0.5330\n",
      "Epoch 44/50\n",
      "6844/6844 [==============================] - 0s 6us/sample - loss: 1.2100 - accuracy: 0.5415 - val_loss: 1.2176 - val_accuracy: 0.5342\n",
      "Epoch 45/50\n",
      "6844/6844 [==============================] - 0s 7us/sample - loss: 1.2091 - accuracy: 0.5469 - val_loss: 1.2190 - val_accuracy: 0.5354\n",
      "Epoch 46/50\n",
      "6844/6844 [==============================] - 0s 7us/sample - loss: 1.2100 - accuracy: 0.5437 - val_loss: 1.2174 - val_accuracy: 0.5371\n",
      "Epoch 47/50\n",
      "6844/6844 [==============================] - 0s 7us/sample - loss: 1.2090 - accuracy: 0.5430 - val_loss: 1.2155 - val_accuracy: 0.5348\n",
      "Epoch 48/50\n",
      "6844/6844 [==============================] - 0s 7us/sample - loss: 1.2071 - accuracy: 0.5438 - val_loss: 1.2161 - val_accuracy: 0.5383\n",
      "Epoch 49/50\n",
      "6844/6844 [==============================] - 0s 7us/sample - loss: 1.2067 - accuracy: 0.5430 - val_loss: 1.2151 - val_accuracy: 0.5400\n",
      "Epoch 50/50\n",
      "6844/6844 [==============================] - 0s 7us/sample - loss: 1.2062 - accuracy: 0.5463 - val_loss: 1.2165 - val_accuracy: 0.5377\n"
     ]
    }
   ],
   "source": [
    "model = Sequential()\n",
    "model.add(Dense(32, input_dim=46, activation='relu'))\n",
    "model.add(Dense(16, activation='relu'))\n",
    "model.add(Dense(7, activation='softmax'))\n",
    "model.compile(loss='categorical_crossentropy', optimizer=SGD(lr=0.1,momentum=0.5,decay=0.1/50), metrics=['accuracy'])\n",
    "\n",
    "history=model.fit(train_x, train_y_one, epochs=50, batch_size=1000, verbose=1,validation_data=(test_x,test_y_one))"
   ]
  },
  {
   "cell_type": "code",
   "execution_count": 30,
   "metadata": {
    "ExecuteTime": {
     "end_time": "2020-03-01T09:20:03.941451Z",
     "start_time": "2020-03-01T09:20:03.477734Z"
    }
   },
   "outputs": [
    {
     "data": {
      "image/png": "[encoded data removed]",
      "text/plain": [
       "<Figure size 1440x576 with 2 Axes>"
      ]
     },
     "metadata": {},
     "output_type": "display_data"
    }
   ],
   "source": [
    "fig, (ax1, ax2) = plt.subplots(nrows = 1, ncols = 2, figsize = (20,8))\n",
    "\n",
    "ax_1=sns.lineplot(history.epoch,history.history['accuracy'],ax=ax1,label='Train')\n",
    "sns.lineplot(history.epoch,history.history['val_accuracy'],ax=ax1,label='Test')\n",
    "ax_1.set(xlabel='Epoch', ylabel='Accuracy')\n",
    "\n",
    "ax_2=sns.lineplot(history.epoch,history.history['loss'],ax=ax2,label='Train')\n",
    "sns.lineplot(history.epoch,history.history['val_loss'],ax=ax2,label='Test')\n",
    "ax_2.set(xlabel='Epoch', ylabel='Loss')\n",
    "\n",
    "plt.show()"
   ]
  },
  {
   "cell_type": "markdown",
   "metadata": {},
   "source": [
    "The third configuration seems to be the more stable one since it is the one with less difference between the train and the test."
   ]
  },
  {
   "cell_type": "markdown",
   "metadata": {},
   "source": [
    "### 2.4.4 Conclusions and predictions"
   ]
  },
  {
   "cell_type": "markdown",
   "metadata": {},
   "source": [
    "Random forest and ANN seems to have more or less the same accuracy level (around 53%), with the ANN, in the last configuration, where it seems to be a little more precise. The level of accuracy is very low, but we need to consider that the algorithms were trained on a sample of around 6800 elements and tested on around 1800 elements. So, a big chunk of information has been cut in order to provide a meter of evaluation. Surely, by using all the possible information we will be able to gain a better amount of accuracy, despite the fact that we cannot test that.<br>\n",
    "We move on by generating the predictions on the last configuration of the ANN."
   ]
  },
  {
   "cell_type": "code",
   "execution_count": 96,
   "metadata": {
    "ExecuteTime": {
     "end_time": "2020-03-01T09:20:06.714052Z",
     "start_time": "2020-03-01T09:20:04.212282Z"
    }
   },
   "outputs": [
    {
     "name": "stdout",
     "output_type": "stream",
     "text": [
      "WARNING:tensorflow:Falling back from v2 loop because of error: Failed to find data adapter that can handle input: <class 'pandas.core.frame.DataFrame'>, <class 'NoneType'>\n",
      "Train on 8555 samples\n",
      "Epoch 1/50\n",
      "8555/8555 [==============================] - 0s 9us/sample - loss: 1.1905 - accuracy: 0.5439\n",
      "Epoch 2/50\n",
      "8555/8555 [==============================] - 0s 7us/sample - loss: 1.1901 - accuracy: 0.5463\n",
      "Epoch 3/50\n",
      "8555/8555 [==============================] - 0s 6us/sample - loss: 1.1906 - accuracy: 0.5446\n",
      "Epoch 4/50\n",
      "8555/8555 [==============================] - 0s 6us/sample - loss: 1.1910 - accuracy: 0.5452\n",
      "Epoch 5/50\n",
      "8555/8555 [==============================] - 0s 6us/sample - loss: 1.1900 - accuracy: 0.5421\n",
      "Epoch 6/50\n",
      "8555/8555 [==============================] - 0s 6us/sample - loss: 1.1901 - accuracy: 0.5440\n",
      "Epoch 7/50\n",
      "8555/8555 [==============================] - 0s 6us/sample - loss: 1.1904 - accuracy: 0.5460\n",
      "Epoch 8/50\n",
      "8555/8555 [==============================] - 0s 5us/sample - loss: 1.1895 - accuracy: 0.5460\n",
      "Epoch 9/50\n",
      "8555/8555 [==============================] - 0s 6us/sample - loss: 1.1900 - accuracy: 0.5461\n",
      "Epoch 10/50\n",
      "8555/8555 [==============================] - 0s 5us/sample - loss: 1.1900 - accuracy: 0.5458\n",
      "Epoch 11/50\n",
      "8555/8555 [==============================] - 0s 7us/sample - loss: 1.1897 - accuracy: 0.5447\n",
      "Epoch 12/50\n",
      "8555/8555 [==============================] - 0s 6us/sample - loss: 1.1893 - accuracy: 0.5482\n",
      "Epoch 13/50\n",
      "8555/8555 [==============================] - 0s 7us/sample - loss: 1.1895 - accuracy: 0.5425\n",
      "Epoch 14/50\n",
      "8555/8555 [==============================] - 0s 6us/sample - loss: 1.1885 - accuracy: 0.5455\n",
      "Epoch 15/50\n",
      "8555/8555 [==============================] - 0s 5us/sample - loss: 1.1889 - accuracy: 0.5456\n",
      "Epoch 16/50\n",
      "8555/8555 [==============================] - 0s 6us/sample - loss: 1.1893 - accuracy: 0.5460\n",
      "Epoch 17/50\n",
      "8555/8555 [==============================] - 0s 5us/sample - loss: 1.1886 - accuracy: 0.5462\n",
      "Epoch 18/50\n",
      "8555/8555 [==============================] - 0s 6us/sample - loss: 1.1881 - accuracy: 0.5449\n",
      "Epoch 19/50\n",
      "8555/8555 [==============================] - 0s 6us/sample - loss: 1.1880 - accuracy: 0.5446\n",
      "Epoch 20/50\n",
      "8555/8555 [==============================] - 0s 7us/sample - loss: 1.1881 - accuracy: 0.5448\n",
      "Epoch 21/50\n",
      "8555/8555 [==============================] - 0s 6us/sample - loss: 1.1880 - accuracy: 0.5451\n",
      "Epoch 22/50\n",
      "8555/8555 [==============================] - 0s 6us/sample - loss: 1.1880 - accuracy: 0.5448\n",
      "Epoch 23/50\n",
      "8555/8555 [==============================] - 0s 7us/sample - loss: 1.1878 - accuracy: 0.5466\n",
      "Epoch 24/50\n",
      "8555/8555 [==============================] - 0s 8us/sample - loss: 1.1869 - accuracy: 0.5462\n",
      "Epoch 25/50\n",
      "8555/8555 [==============================] - 0s 8us/sample - loss: 1.1879 - accuracy: 0.5442\n",
      "Epoch 26/50\n",
      "8555/8555 [==============================] - 0s 7us/sample - loss: 1.1875 - accuracy: 0.5467\n",
      "Epoch 27/50\n",
      "8555/8555 [==============================] - 0s 6us/sample - loss: 1.1873 - accuracy: 0.5468\n",
      "Epoch 28/50\n",
      "8555/8555 [==============================] - 0s 6us/sample - loss: 1.1878 - accuracy: 0.5424\n",
      "Epoch 29/50\n",
      "8555/8555 [==============================] - 0s 6us/sample - loss: 1.1874 - accuracy: 0.5452\n",
      "Epoch 30/50\n",
      "8555/8555 [==============================] - 0s 6us/sample - loss: 1.1866 - accuracy: 0.5474\n",
      "Epoch 31/50\n",
      "8555/8555 [==============================] - 0s 8us/sample - loss: 1.1865 - accuracy: 0.5469\n",
      "Epoch 32/50\n",
      "8555/8555 [==============================] - 0s 9us/sample - loss: 1.1873 - accuracy: 0.5446\n",
      "Epoch 33/50\n",
      "8555/8555 [==============================] - 0s 6us/sample - loss: 1.1868 - accuracy: 0.5468\n",
      "Epoch 34/50\n",
      "8555/8555 [==============================] - 0s 6us/sample - loss: 1.1863 - accuracy: 0.5458\n",
      "Epoch 35/50\n",
      "8555/8555 [==============================] - 0s 6us/sample - loss: 1.1867 - accuracy: 0.5461\n",
      "Epoch 36/50\n",
      "8555/8555 [==============================] - 0s 8us/sample - loss: 1.1865 - accuracy: 0.5461\n",
      "Epoch 37/50\n",
      "8555/8555 [==============================] - 0s 8us/sample - loss: 1.1862 - accuracy: 0.5480\n",
      "Epoch 38/50\n",
      "8555/8555 [==============================] - 0s 8us/sample - loss: 1.1859 - accuracy: 0.5488\n",
      "Epoch 39/50\n",
      "8555/8555 [==============================] - 0s 6us/sample - loss: 1.1870 - accuracy: 0.5475\n",
      "Epoch 40/50\n",
      "8555/8555 [==============================] - 0s 6us/sample - loss: 1.1856 - accuracy: 0.5468\n",
      "Epoch 41/50\n",
      "8555/8555 [==============================] - 0s 5us/sample - loss: 1.1855 - accuracy: 0.5466\n",
      "Epoch 42/50\n",
      "8555/8555 [==============================] - 0s 6us/sample - loss: 1.1858 - accuracy: 0.5475\n",
      "Epoch 43/50\n",
      "8555/8555 [==============================] - 0s 5us/sample - loss: 1.1859 - accuracy: 0.5480\n",
      "Epoch 44/50\n",
      "8555/8555 [==============================] - 0s 6us/sample - loss: 1.1853 - accuracy: 0.5469\n",
      "Epoch 45/50\n",
      "8555/8555 [==============================] - 0s 5us/sample - loss: 1.1854 - accuracy: 0.5468\n",
      "Epoch 46/50\n",
      "8555/8555 [==============================] - 0s 6us/sample - loss: 1.1851 - accuracy: 0.5459\n",
      "Epoch 47/50\n",
      "8555/8555 [==============================] - 0s 6us/sample - loss: 1.1851 - accuracy: 0.5475\n",
      "Epoch 48/50\n",
      "8555/8555 [==============================] - 0s 6us/sample - loss: 1.1855 - accuracy: 0.5473\n",
      "Epoch 49/50\n",
      "8555/8555 [==============================] - 0s 6us/sample - loss: 1.1850 - accuracy: 0.5475\n",
      "Epoch 50/50\n",
      "8555/8555 [==============================] - 0s 5us/sample - loss: 1.1846 - accuracy: 0.5472\n",
      "WARNING:tensorflow:Falling back from v2 loop because of error: Failed to find data adapter that can handle input: <class 'pandas.core.frame.DataFrame'>, <class 'NoneType'>\n"
     ]
    },
    {
     "name": "stderr",
     "output_type": "stream",
     "text": [
      "C:\\Users\\ANDREA\\Anaconda3\\lib\\site-packages\\ipykernel_launcher.py:7: SettingWithCopyWarning: \n",
      "A value is trying to be set on a copy of a slice from a DataFrame.\n",
      "Try using .loc[row_indexer,col_indexer] = value instead\n",
      "\n",
      "See the caveats in the documentation: http://pandas.pydata.org/pandas-docs/stable/user_guide/indexing.html#returning-a-view-versus-a-copy\n",
      "  import sys\n"
     ]
    }
   ],
   "source": [
    "Y_dummy=pd.get_dummies(Y)\n",
    "\n",
    "history=model.fit(X,Y_dummy, epochs=50, batch_size=1000, verbose=1)\n",
    "\n",
    "X_imputation=val_ed[val_ed.columns.difference(['education'])]\n",
    "pred=model.predict_classes(X_imputation)\n",
    "val_ed['education']=list(pred)\n",
    "\n",
    "d=val_ed.append([sub_ed])"
   ]
  },
  {
   "cell_type": "markdown",
   "metadata": {},
   "source": [
    "## 2.5 Housing imputation through Random Forest"
   ]
  },
  {
   "cell_type": "markdown",
   "metadata": {},
   "source": [
    "We have decided to perform the imputation on the variable \"Housing\" with a Random Forest, since the variable has less modalities and the structure of the Random Forest has less parameters to estimated. To do that, we performed again a k=5 fold cross validation on the train side. "
   ]
  },
  {
   "cell_type": "code",
   "execution_count": 97,
   "metadata": {
    "ExecuteTime": {
     "end_time": "2020-03-01T09:20:07.177767Z",
     "start_time": "2020-03-01T09:20:07.059839Z"
    }
   },
   "outputs": [
    {
     "name": "stderr",
     "output_type": "stream",
     "text": [
      "C:\\Users\\ANDREA\\Anaconda3\\lib\\site-packages\\ipykernel_launcher.py:5: SettingWithCopyWarning: \n",
      "A value is trying to be set on a copy of a slice from a DataFrame.\n",
      "Try using .loc[row_indexer,col_indexer] = value instead\n",
      "\n",
      "See the caveats in the documentation: http://pandas.pydata.org/pandas-docs/stable/user_guide/indexing.html#returning-a-view-versus-a-copy\n",
      "  \"\"\"\n"
     ]
    }
   ],
   "source": [
    "data_house=d.merge(data_origin['housing'],on='ID')\n",
    "val_ho=data_house[data_house['housing']=='unknown']\n",
    "sub_ho=data_house[data_house['housing']!='unknown']\n",
    "\n",
    "sub_ho['housing']=pd.factorize(sub_ho['housing'])[0]\n",
    "\n",
    "X=sub_ho[sub_ho.columns.difference(['housing'])]\n",
    "Y=sub_ho['housing']"
   ]
  },
  {
   "cell_type": "markdown",
   "metadata": {},
   "source": [
    "### 2.5.1 Training"
   ]
  },
  {
   "cell_type": "code",
   "execution_count": 33,
   "metadata": {
    "ExecuteTime": {
     "end_time": "2020-03-01T09:25:19.703639Z",
     "start_time": "2020-03-01T09:20:07.581518Z"
    }
   },
   "outputs": [
    {
     "name": "stdout",
     "output_type": "stream",
     "text": [
      "50   0.5650438946528332   {'min_samples_leaf': 0.1, 'max_features': 0.5, 'max_depth': 2, 'criterion': 'gini'}\n",
      "100   0.5641317979705849   {'min_samples_leaf': 0.1, 'max_features': 0.5, 'max_depth': 2, 'criterion': 'entropy'}\n",
      "150   0.5639037738000228   {'min_samples_leaf': 0.1, 'max_features': 0.5, 'max_depth': 3, 'criterion': 'entropy'}\n",
      "200   0.5641317979705849   {'min_samples_leaf': 0.1, 'max_features': 0.5, 'max_depth': 2, 'criterion': 'gini'}\n"
     ]
    }
   ],
   "source": [
    "for i in [50,100,150,200]:\n",
    "    rf = RandomForestClassifier(random_state=33, n_estimators=i)\n",
    "    params = {'criterion': ['gini', 'entropy'], 'max_depth': np.arange(2, 6), 'min_samples_leaf': np.logspace(-1, -3, 3),'max_features': ['sqrt', 0.2, 0.5]}\n",
    "    cv_tuning = RandomizedSearchCV(rf, params, random_state=122223, scoring='accuracy', return_train_score=True, cv=5, n_iter=20)\n",
    "    cv_tuning.fit(X,Y)\n",
    "    print(i,' ',cv_tuning.best_score_,' ',cv_tuning.best_params_)"
   ]
  },
  {
   "cell_type": "markdown",
   "metadata": {},
   "source": [
    "The best model seems to be the first configuration with 50 trees. "
   ]
  },
  {
   "cell_type": "code",
   "execution_count": 99,
   "metadata": {
    "ExecuteTime": {
     "end_time": "2020-03-01T09:25:20.443026Z",
     "start_time": "2020-03-01T09:25:20.122224Z"
    }
   },
   "outputs": [
    {
     "data": {
      "text/plain": [
       "RandomForestClassifier(bootstrap=True, class_weight=None, criterion='gini',\n",
       "                       max_depth=2, max_features=0.5, max_leaf_nodes=None,\n",
       "                       min_impurity_decrease=0.0, min_impurity_split=None,\n",
       "                       min_samples_leaf=0.1, min_samples_split=2,\n",
       "                       min_weight_fraction_leaf=0.0, n_estimators=50,\n",
       "                       n_jobs=None, oob_score=False, random_state=33, verbose=0,\n",
       "                       warm_start=False)"
      ]
     },
     "execution_count": 99,
     "metadata": {},
     "output_type": "execute_result"
    }
   ],
   "source": [
    "rf = RandomForestClassifier(random_state=33, n_estimators=50,\n",
    "                            min_samples_leaf=0.1,\n",
    "                            max_features=0.5,\n",
    "                            max_depth=2,\n",
    "                            criterion='gini')\n",
    "rf.fit(X,Y)"
   ]
  },
  {
   "cell_type": "markdown",
   "metadata": {},
   "source": [
    "### 2.5.2 Prediction"
   ]
  },
  {
   "cell_type": "code",
   "execution_count": 100,
   "metadata": {
    "ExecuteTime": {
     "end_time": "2020-03-01T09:25:21.027145Z",
     "start_time": "2020-03-01T09:25:20.906220Z"
    }
   },
   "outputs": [
    {
     "name": "stderr",
     "output_type": "stream",
     "text": [
      "C:\\Users\\ANDREA\\Anaconda3\\lib\\site-packages\\ipykernel_launcher.py:5: SettingWithCopyWarning: \n",
      "A value is trying to be set on a copy of a slice from a DataFrame.\n",
      "Try using .loc[row_indexer,col_indexer] = value instead\n",
      "\n",
      "See the caveats in the documentation: http://pandas.pydata.org/pandas-docs/stable/user_guide/indexing.html#returning-a-view-versus-a-copy\n",
      "  \"\"\"\n"
     ]
    }
   ],
   "source": [
    "X_imputation=val_ho[val_ho.columns.difference(['housing'])]\n",
    "\n",
    "predictions = rf.predict(X_imputation)\n",
    "\n",
    "val_ho['housing']=list(predictions)\n",
    "\n",
    "d=val_ho.append([sub_ho])"
   ]
  },
  {
   "cell_type": "markdown",
   "metadata": {},
   "source": [
    "## 2.6 Loan imputation through Random Forest"
   ]
  },
  {
   "cell_type": "markdown",
   "metadata": {},
   "source": [
    "Loan has the same structure as Housing. So, we decided to go with the same approach as for Housing."
   ]
  },
  {
   "cell_type": "code",
   "execution_count": 101,
   "metadata": {
    "ExecuteTime": {
     "end_time": "2020-03-01T09:25:21.553414Z",
     "start_time": "2020-03-01T09:25:21.425492Z"
    }
   },
   "outputs": [
    {
     "name": "stderr",
     "output_type": "stream",
     "text": [
      "C:\\Users\\ANDREA\\Anaconda3\\lib\\site-packages\\ipykernel_launcher.py:6: SettingWithCopyWarning: \n",
      "A value is trying to be set on a copy of a slice from a DataFrame.\n",
      "Try using .loc[row_indexer,col_indexer] = value instead\n",
      "\n",
      "See the caveats in the documentation: http://pandas.pydata.org/pandas-docs/stable/user_guide/indexing.html#returning-a-view-versus-a-copy\n",
      "  \n"
     ]
    }
   ],
   "source": [
    "data_loan=d.merge(data_origin['loan'],on='ID')\n",
    "\n",
    "val_lo=data_loan[data_loan['loan']=='unknown']\n",
    "sub_lo=data_loan[data_loan['loan']!='unknown']\n",
    "\n",
    "sub_lo['loan']=pd.factorize(sub_lo['loan'])[0]\n",
    "\n",
    "X=sub_lo[sub_lo.columns.difference(['loan'])]\n",
    "Y=sub_lo['loan']"
   ]
  },
  {
   "cell_type": "markdown",
   "metadata": {},
   "source": [
    "### 2.6.1 Training"
   ]
  },
  {
   "cell_type": "code",
   "execution_count": 37,
   "metadata": {
    "ExecuteTime": {
     "end_time": "2020-03-01T09:28:53.737183Z",
     "start_time": "2020-03-01T09:25:22.022126Z"
    }
   },
   "outputs": [
    {
     "name": "stdout",
     "output_type": "stream",
     "text": [
      "50   0.8483639265762171   {'min_samples_leaf': 0.001, 'max_features': 'sqrt', 'max_depth': 2, 'criterion': 'gini'}\n",
      "100   0.8483639265762171   {'min_samples_leaf': 0.001, 'max_features': 'sqrt', 'max_depth': 2, 'criterion': 'gini'}\n",
      "150   0.8483639265762171   {'min_samples_leaf': 0.001, 'max_features': 'sqrt', 'max_depth': 2, 'criterion': 'gini'}\n",
      "200   0.8483639265762171   {'min_samples_leaf': 0.001, 'max_features': 'sqrt', 'max_depth': 2, 'criterion': 'gini'}\n"
     ]
    }
   ],
   "source": [
    "for i in [50,100,150,200]:\n",
    "    rf = RandomForestClassifier(random_state=33, n_estimators=i)\n",
    "    params = {'criterion': ['gini', 'entropy'], 'max_depth': np.arange(2, 6), 'min_samples_leaf': np.logspace(-1, -3, 3),'max_features': ['sqrt', 0.2, 0.5]}\n",
    "    cv_tuning = RandomizedSearchCV(rf, params, random_state=122223, scoring='accuracy', return_train_score=True, cv=5, n_iter=20)\n",
    "    cv_tuning.fit(X,Y)\n",
    "    print(i,' ',cv_tuning.best_score_,' ',cv_tuning.best_params_)"
   ]
  },
  {
   "cell_type": "markdown",
   "metadata": {},
   "source": [
    "Every random forest has the same amount of accuracy, the increase in the number of trees that are generated each time does not influence the accuracy. We will go with the easiest configuration with only 50 trees."
   ]
  },
  {
   "cell_type": "code",
   "execution_count": 102,
   "metadata": {
    "ExecuteTime": {
     "end_time": "2020-03-01T09:28:54.475730Z",
     "start_time": "2020-03-01T09:28:54.283846Z"
    }
   },
   "outputs": [
    {
     "data": {
      "text/plain": [
       "RandomForestClassifier(bootstrap=True, class_weight=None, criterion='gini',\n",
       "                       max_depth=2, max_features='sqrt', max_leaf_nodes=None,\n",
       "                       min_impurity_decrease=0.0, min_impurity_split=None,\n",
       "                       min_samples_leaf=0.001, min_samples_split=2,\n",
       "                       min_weight_fraction_leaf=0.0, n_estimators=50,\n",
       "                       n_jobs=None, oob_score=False, random_state=33, verbose=0,\n",
       "                       warm_start=False)"
      ]
     },
     "execution_count": 102,
     "metadata": {},
     "output_type": "execute_result"
    }
   ],
   "source": [
    "rf = RandomForestClassifier(random_state=33, n_estimators=50, min_samples_leaf=0.001,max_features='sqrt',max_depth=2,criterion='gini')\n",
    "rf.fit(X,Y)"
   ]
  },
  {
   "cell_type": "markdown",
   "metadata": {},
   "source": [
    "### 2.6.2 Prediction"
   ]
  },
  {
   "cell_type": "code",
   "execution_count": 103,
   "metadata": {
    "ExecuteTime": {
     "end_time": "2020-03-01T09:28:55.128411Z",
     "start_time": "2020-03-01T09:28:55.007400Z"
    }
   },
   "outputs": [
    {
     "name": "stderr",
     "output_type": "stream",
     "text": [
      "C:\\Users\\ANDREA\\Anaconda3\\lib\\site-packages\\ipykernel_launcher.py:5: SettingWithCopyWarning: \n",
      "A value is trying to be set on a copy of a slice from a DataFrame.\n",
      "Try using .loc[row_indexer,col_indexer] = value instead\n",
      "\n",
      "See the caveats in the documentation: http://pandas.pydata.org/pandas-docs/stable/user_guide/indexing.html#returning-a-view-versus-a-copy\n",
      "  \"\"\"\n"
     ]
    }
   ],
   "source": [
    "X_imputation=val_lo[val_lo.columns.difference(['loan'])]\n",
    "\n",
    "predictions = rf.predict(X_imputation)\n",
    "\n",
    "val_lo['loan']=list(predictions)\n",
    "d=val_lo.append([sub_lo])"
   ]
  },
  {
   "cell_type": "markdown",
   "metadata": {},
   "source": [
    "### 2.6.3 Final considerations"
   ]
  },
  {
   "cell_type": "markdown",
   "metadata": {},
   "source": [
    "We think that the strange behaviour  of the accuracy in the Random Forest is justified by the amount of \"No\" (0s in the reparametrization).This leads to the fact that the performances of the random forests are more or less the same of an imputation through a mode. This can be proved by looking at the amount of probability that the RF assigns to the first class prediction."
   ]
  },
  {
   "cell_type": "code",
   "execution_count": 104,
   "metadata": {
    "ExecuteTime": {
     "end_time": "2020-03-01T09:28:55.697060Z",
     "start_time": "2020-03-01T09:28:55.672076Z"
    }
   },
   "outputs": [
    {
     "data": {
      "text/plain": [
       "array([[0.84480326, 0.15519674],\n",
       "       [0.84591765, 0.15408235],\n",
       "       [0.82244208, 0.17755792],\n",
       "       [0.85316991, 0.14683009],\n",
       "       [0.85311665, 0.14688335],\n",
       "       [0.83152608, 0.16847392],\n",
       "       [0.8382006 , 0.1617994 ],\n",
       "       [0.84127283, 0.15872717],\n",
       "       [0.80839525, 0.19160475],\n",
       "       [0.83784071, 0.16215929],\n",
       "       [0.85418805, 0.14581195],\n",
       "       [0.84823159, 0.15176841],\n",
       "       [0.84456709, 0.15543291],\n",
       "       [0.82423648, 0.17576352],\n",
       "       [0.84847281, 0.15152719],\n",
       "       [0.84731122, 0.15268878],\n",
       "       [0.8533499 , 0.1466501 ],\n",
       "       [0.85204652, 0.14795348],\n",
       "       [0.85209128, 0.14790872],\n",
       "       [0.84991226, 0.15008774],\n",
       "       [0.8408443 , 0.1591557 ],\n",
       "       [0.85171831, 0.14828169],\n",
       "       [0.8478479 , 0.1521521 ],\n",
       "       [0.85414677, 0.14585323],\n",
       "       [0.85117796, 0.14882204],\n",
       "       [0.84792041, 0.15207959],\n",
       "       [0.85366987, 0.14633013],\n",
       "       [0.85462995, 0.14537005],\n",
       "       [0.84962269, 0.15037731],\n",
       "       [0.84632448, 0.15367552],\n",
       "       [0.84901711, 0.15098289],\n",
       "       [0.85120774, 0.14879226],\n",
       "       [0.85422659, 0.14577341],\n",
       "       [0.85000346, 0.14999654],\n",
       "       [0.85276582, 0.14723418],\n",
       "       [0.85462738, 0.14537262],\n",
       "       [0.85040074, 0.14959926],\n",
       "       [0.85336087, 0.14663913],\n",
       "       [0.85390318, 0.14609682],\n",
       "       [0.84784147, 0.15215853],\n",
       "       [0.85153054, 0.14846946],\n",
       "       [0.8539938 , 0.1460062 ],\n",
       "       [0.84978265, 0.15021735],\n",
       "       [0.84327151, 0.15672849],\n",
       "       [0.84714243, 0.15285757],\n",
       "       [0.86297278, 0.13702722],\n",
       "       [0.84532059, 0.15467941],\n",
       "       [0.84934345, 0.15065655],\n",
       "       [0.85414677, 0.14585323],\n",
       "       [0.85173619, 0.14826381],\n",
       "       [0.8474939 , 0.1525061 ],\n",
       "       [0.85157221, 0.14842779],\n",
       "       [0.84899578, 0.15100422],\n",
       "       [0.8509337 , 0.1490663 ],\n",
       "       [0.85349826, 0.14650174],\n",
       "       [0.84693667, 0.15306333],\n",
       "       [0.85405984, 0.14594016],\n",
       "       [0.84677499, 0.15322501],\n",
       "       [0.84816319, 0.15183681],\n",
       "       [0.84549361, 0.15450639],\n",
       "       [0.83918263, 0.16081737],\n",
       "       [0.8484663 , 0.1515337 ],\n",
       "       [0.85240275, 0.14759725],\n",
       "       [0.84454287, 0.15545713],\n",
       "       [0.85462738, 0.14537262],\n",
       "       [0.84227478, 0.15772522],\n",
       "       [0.85066741, 0.14933259],\n",
       "       [0.84653506, 0.15346494],\n",
       "       [0.85262409, 0.14737591],\n",
       "       [0.85249898, 0.14750102],\n",
       "       [0.84713888, 0.15286112],\n",
       "       [0.84466544, 0.15533456],\n",
       "       [0.85183909, 0.14816091],\n",
       "       [0.83441206, 0.16558794],\n",
       "       [0.84757396, 0.15242604],\n",
       "       [0.84658297, 0.15341703],\n",
       "       [0.8260798 , 0.1739202 ],\n",
       "       [0.84741952, 0.15258048],\n",
       "       [0.85319321, 0.14680679],\n",
       "       [0.85187752, 0.14812248],\n",
       "       [0.85118244, 0.14881756],\n",
       "       [0.84509755, 0.15490245],\n",
       "       [0.84727787, 0.15272213],\n",
       "       [0.84789382, 0.15210618],\n",
       "       [0.85468822, 0.14531178],\n",
       "       [0.85127579, 0.14872421],\n",
       "       [0.84909378, 0.15090622],\n",
       "       [0.85130045, 0.14869955],\n",
       "       [0.85227871, 0.14772129],\n",
       "       [0.84527656, 0.15472344],\n",
       "       [0.84231707, 0.15768293],\n",
       "       [0.86414658, 0.13585342],\n",
       "       [0.85134937, 0.14865063],\n",
       "       [0.8528569 , 0.1471431 ],\n",
       "       [0.85592489, 0.14407511],\n",
       "       [0.85110459, 0.14889541],\n",
       "       [0.85005247, 0.14994753],\n",
       "       [0.85462593, 0.14537407],\n",
       "       [0.84579361, 0.15420639],\n",
       "       [0.85246142, 0.14753858],\n",
       "       [0.84747545, 0.15252455],\n",
       "       [0.84535645, 0.15464355],\n",
       "       [0.84761309, 0.15238691],\n",
       "       [0.85187129, 0.14812871],\n",
       "       [0.85298437, 0.14701563],\n",
       "       [0.85216024, 0.14783976],\n",
       "       [0.8538035 , 0.1461965 ],\n",
       "       [0.85277861, 0.14722139],\n",
       "       [0.85414677, 0.14585323],\n",
       "       [0.84637812, 0.15362188],\n",
       "       [0.84572439, 0.15427561],\n",
       "       [0.84716049, 0.15283951],\n",
       "       [0.84741952, 0.15258048],\n",
       "       [0.8495249 , 0.1504751 ],\n",
       "       [0.84915703, 0.15084297],\n",
       "       [0.84825532, 0.15174468],\n",
       "       [0.84914788, 0.15085212],\n",
       "       [0.84869261, 0.15130739],\n",
       "       [0.85036271, 0.14963729],\n",
       "       [0.8536553 , 0.1463447 ],\n",
       "       [0.84163196, 0.15836804],\n",
       "       [0.85037037, 0.14962963],\n",
       "       [0.84754678, 0.15245322],\n",
       "       [0.84584284, 0.15415716],\n",
       "       [0.84757789, 0.15242211],\n",
       "       [0.84794463, 0.15205537],\n",
       "       [0.85354185, 0.14645815],\n",
       "       [0.84588969, 0.15411031],\n",
       "       [0.85328748, 0.14671252],\n",
       "       [0.84950899, 0.15049101],\n",
       "       [0.84707613, 0.15292387],\n",
       "       [0.84910202, 0.15089798],\n",
       "       [0.84589188, 0.15410812],\n",
       "       [0.84642411, 0.15357589],\n",
       "       [0.85550035, 0.14449965],\n",
       "       [0.84520192, 0.15479808],\n",
       "       [0.85315656, 0.14684344],\n",
       "       [0.84642283, 0.15357717],\n",
       "       [0.84639871, 0.15360129],\n",
       "       [0.8491373 , 0.1508627 ],\n",
       "       [0.84694441, 0.15305559],\n",
       "       [0.84473032, 0.15526968],\n",
       "       [0.84190064, 0.15809936],\n",
       "       [0.84859157, 0.15140843],\n",
       "       [0.84602401, 0.15397599],\n",
       "       [0.84901711, 0.15098289],\n",
       "       [0.84933068, 0.15066932],\n",
       "       [0.84628903, 0.15371097],\n",
       "       [0.84878337, 0.15121663],\n",
       "       [0.84865623, 0.15134377],\n",
       "       [0.84660037, 0.15339963],\n",
       "       [0.84360612, 0.15639388],\n",
       "       [0.84553456, 0.15446544],\n",
       "       [0.83881819, 0.16118181],\n",
       "       [0.85333189, 0.14666811],\n",
       "       [0.86427493, 0.13572507],\n",
       "       [0.85245469, 0.14754531],\n",
       "       [0.84741467, 0.15258533],\n",
       "       [0.84690913, 0.15309087],\n",
       "       [0.84738319, 0.15261681],\n",
       "       [0.84880051, 0.15119949],\n",
       "       [0.84427902, 0.15572098],\n",
       "       [0.85263798, 0.14736202],\n",
       "       [0.8518784 , 0.1481216 ],\n",
       "       [0.85951367, 0.14048633],\n",
       "       [0.84563569, 0.15436431],\n",
       "       [0.84017735, 0.15982265],\n",
       "       [0.84494836, 0.15505164],\n",
       "       [0.84954754, 0.15045246],\n",
       "       [0.84859257, 0.15140743],\n",
       "       [0.8650781 , 0.1349219 ],\n",
       "       [0.8484068 , 0.1515932 ],\n",
       "       [0.84462262, 0.15537738],\n",
       "       [0.84833486, 0.15166514],\n",
       "       [0.851838  , 0.148162  ],\n",
       "       [0.83623293, 0.16376707],\n",
       "       [0.83956764, 0.16043236],\n",
       "       [0.84770231, 0.15229769],\n",
       "       [0.84331364, 0.15668636],\n",
       "       [0.85254142, 0.14745858],\n",
       "       [0.83855602, 0.16144398],\n",
       "       [0.85043352, 0.14956648],\n",
       "       [0.84742473, 0.15257527],\n",
       "       [0.85262409, 0.14737591],\n",
       "       [0.84518292, 0.15481708],\n",
       "       [0.8559267 , 0.1440733 ],\n",
       "       [0.84530406, 0.15469594],\n",
       "       [0.85013661, 0.14986339],\n",
       "       [0.84969211, 0.15030789],\n",
       "       [0.8491816 , 0.1508184 ],\n",
       "       [0.85199326, 0.14800674],\n",
       "       [0.81570213, 0.18429787],\n",
       "       [0.85405464, 0.14594536],\n",
       "       [0.85428888, 0.14571112],\n",
       "       [0.85456509, 0.14543491],\n",
       "       [0.85289034, 0.14710966],\n",
       "       [0.8489206 , 0.1510794 ],\n",
       "       [0.85049833, 0.14950167],\n",
       "       [0.85276582, 0.14723418],\n",
       "       [0.85476971, 0.14523029],\n",
       "       [0.85134317, 0.14865683],\n",
       "       [0.84894929, 0.15105071],\n",
       "       [0.85478035, 0.14521965],\n",
       "       [0.85503249, 0.14496751],\n",
       "       [0.85531251, 0.14468749],\n",
       "       [0.85161224, 0.14838776],\n",
       "       [0.84970759, 0.15029241],\n",
       "       [0.84576068, 0.15423932],\n",
       "       [0.84677738, 0.15322262]])"
      ]
     },
     "execution_count": 104,
     "metadata": {},
     "output_type": "execute_result"
    }
   ],
   "source": [
    "predi=rf.predict_proba(X_imputation)\n",
    "predi"
   ]
  },
  {
   "cell_type": "markdown",
   "metadata": {},
   "source": [
    "It is possible to see that the first (0) class has always a higher probability than the second one (1). Moreover, if we look at the value counts of the dataset before and after the imputation, we can see that all the `unknown` are placed inside the 0s class (like a mode). "
   ]
  },
  {
   "cell_type": "code",
   "execution_count": 105,
   "metadata": {
    "ExecuteTime": {
     "end_time": "2020-03-01T09:28:56.180765Z",
     "start_time": "2020-03-01T09:28:56.169770Z"
    }
   },
   "outputs": [
    {
     "name": "stdout",
     "output_type": "stream",
     "text": [
      "Original dataset\n"
     ]
    },
    {
     "data": {
      "text/plain": [
       "no         7441\n",
       "yes        1330\n",
       "unknown     209\n",
       "Name: loan, dtype: int64"
      ]
     },
     "execution_count": 105,
     "metadata": {},
     "output_type": "execute_result"
    }
   ],
   "source": [
    "print('Original dataset')\n",
    "data.loan.value_counts()"
   ]
  },
  {
   "cell_type": "code",
   "execution_count": 106,
   "metadata": {
    "ExecuteTime": {
     "end_time": "2020-03-01T09:28:56.692299Z",
     "start_time": "2020-03-01T09:28:56.680305Z"
    }
   },
   "outputs": [
    {
     "name": "stdout",
     "output_type": "stream",
     "text": [
      "\n"
     ]
    },
    {
     "data": {
      "text/plain": [
       "0    7650\n",
       "1    1330\n",
       "Name: loan, dtype: int64"
      ]
     },
     "execution_count": 106,
     "metadata": {},
     "output_type": "execute_result"
    }
   ],
   "source": [
    "print('')\n",
    "d.loan.value_counts()"
   ]
  },
  {
   "cell_type": "markdown",
   "metadata": {},
   "source": [
    "## 2.7 Saving the new dataset"
   ]
  },
  {
   "cell_type": "code",
   "execution_count": 107,
   "metadata": {
    "ExecuteTime": {
     "end_time": "2020-03-01T09:28:57.289411Z",
     "start_time": "2020-03-01T09:28:57.243441Z"
    }
   },
   "outputs": [
    {
     "data": {
      "text/html": [
       "<div>\n",
       "<style scoped>\n",
       "    .dataframe tbody tr th:only-of-type {\n",
       "        vertical-align: middle;\n",
       "    }\n",
       "\n",
       "    .dataframe tbody tr th {\n",
       "        vertical-align: top;\n",
       "    }\n",
       "\n",
       "    .dataframe thead th {\n",
       "        text-align: right;\n",
       "    }\n",
       "</style>\n",
       "<table border=\"1\" class=\"dataframe\">\n",
       "  <thead>\n",
       "    <tr style=\"text-align: right;\">\n",
       "      <th></th>\n",
       "      <th>age</th>\n",
       "      <th>job</th>\n",
       "      <th>marital</th>\n",
       "      <th>contact</th>\n",
       "      <th>month</th>\n",
       "      <th>day_of_week</th>\n",
       "      <th>campaign</th>\n",
       "      <th>previous</th>\n",
       "      <th>poutcome</th>\n",
       "      <th>emp.var.rate</th>\n",
       "      <th>cons.price.idx</th>\n",
       "      <th>cons.conf.idx</th>\n",
       "      <th>euribor3m</th>\n",
       "      <th>nr.employed</th>\n",
       "      <th>y</th>\n",
       "      <th>pdays_new</th>\n",
       "      <th>education</th>\n",
       "      <th>loan</th>\n",
       "      <th>housing</th>\n",
       "    </tr>\n",
       "    <tr>\n",
       "      <th>ID</th>\n",
       "      <th></th>\n",
       "      <th></th>\n",
       "      <th></th>\n",
       "      <th></th>\n",
       "      <th></th>\n",
       "      <th></th>\n",
       "      <th></th>\n",
       "      <th></th>\n",
       "      <th></th>\n",
       "      <th></th>\n",
       "      <th></th>\n",
       "      <th></th>\n",
       "      <th></th>\n",
       "      <th></th>\n",
       "      <th></th>\n",
       "      <th></th>\n",
       "      <th></th>\n",
       "      <th></th>\n",
       "      <th></th>\n",
       "    </tr>\n",
       "  </thead>\n",
       "  <tbody>\n",
       "    <tr>\n",
       "      <th>34579</th>\n",
       "      <td>35</td>\n",
       "      <td>admin.</td>\n",
       "      <td>single</td>\n",
       "      <td>cellular</td>\n",
       "      <td>may</td>\n",
       "      <td>thu</td>\n",
       "      <td>1</td>\n",
       "      <td>1</td>\n",
       "      <td>failure</td>\n",
       "      <td>-1.8</td>\n",
       "      <td>92.893</td>\n",
       "      <td>-46.2</td>\n",
       "      <td>1.266</td>\n",
       "      <td>5099.1</td>\n",
       "      <td>no</td>\n",
       "      <td>not_rec_cont</td>\n",
       "      <td>6</td>\n",
       "      <td>0</td>\n",
       "      <td>1</td>\n",
       "    </tr>\n",
       "    <tr>\n",
       "      <th>446</th>\n",
       "      <td>42</td>\n",
       "      <td>technician</td>\n",
       "      <td>married</td>\n",
       "      <td>telephone</td>\n",
       "      <td>may</td>\n",
       "      <td>tue</td>\n",
       "      <td>1</td>\n",
       "      <td>0</td>\n",
       "      <td>nonexistent</td>\n",
       "      <td>1.1</td>\n",
       "      <td>93.994</td>\n",
       "      <td>-36.4</td>\n",
       "      <td>4.857</td>\n",
       "      <td>5191.0</td>\n",
       "      <td>yes</td>\n",
       "      <td>not_rec_cont</td>\n",
       "      <td>5</td>\n",
       "      <td>0</td>\n",
       "      <td>0</td>\n",
       "    </tr>\n",
       "    <tr>\n",
       "      <th>20173</th>\n",
       "      <td>36</td>\n",
       "      <td>admin.</td>\n",
       "      <td>married</td>\n",
       "      <td>cellular</td>\n",
       "      <td>aug</td>\n",
       "      <td>mon</td>\n",
       "      <td>2</td>\n",
       "      <td>0</td>\n",
       "      <td>nonexistent</td>\n",
       "      <td>1.4</td>\n",
       "      <td>93.444</td>\n",
       "      <td>-36.1</td>\n",
       "      <td>4.965</td>\n",
       "      <td>5228.1</td>\n",
       "      <td>yes</td>\n",
       "      <td>not_rec_cont</td>\n",
       "      <td>6</td>\n",
       "      <td>0</td>\n",
       "      <td>0</td>\n",
       "    </tr>\n",
       "    <tr>\n",
       "      <th>18171</th>\n",
       "      <td>37</td>\n",
       "      <td>admin.</td>\n",
       "      <td>married</td>\n",
       "      <td>telephone</td>\n",
       "      <td>jul</td>\n",
       "      <td>wed</td>\n",
       "      <td>2</td>\n",
       "      <td>0</td>\n",
       "      <td>nonexistent</td>\n",
       "      <td>1.4</td>\n",
       "      <td>93.918</td>\n",
       "      <td>-42.7</td>\n",
       "      <td>4.963</td>\n",
       "      <td>5228.1</td>\n",
       "      <td>yes</td>\n",
       "      <td>not_rec_cont</td>\n",
       "      <td>4</td>\n",
       "      <td>1</td>\n",
       "      <td>1</td>\n",
       "    </tr>\n",
       "    <tr>\n",
       "      <th>30128</th>\n",
       "      <td>31</td>\n",
       "      <td>management</td>\n",
       "      <td>single</td>\n",
       "      <td>cellular</td>\n",
       "      <td>apr</td>\n",
       "      <td>thu</td>\n",
       "      <td>1</td>\n",
       "      <td>0</td>\n",
       "      <td>nonexistent</td>\n",
       "      <td>-1.8</td>\n",
       "      <td>93.075</td>\n",
       "      <td>-47.1</td>\n",
       "      <td>1.365</td>\n",
       "      <td>5099.1</td>\n",
       "      <td>no</td>\n",
       "      <td>not_rec_cont</td>\n",
       "      <td>6</td>\n",
       "      <td>0</td>\n",
       "      <td>1</td>\n",
       "    </tr>\n",
       "  </tbody>\n",
       "</table>\n",
       "</div>"
      ],
      "text/plain": [
       "       age         job  marital    contact month day_of_week  campaign  \\\n",
       "ID                                                                       \n",
       "34579   35      admin.   single   cellular   may         thu         1   \n",
       "446     42  technician  married  telephone   may         tue         1   \n",
       "20173   36      admin.  married   cellular   aug         mon         2   \n",
       "18171   37      admin.  married  telephone   jul         wed         2   \n",
       "30128   31  management   single   cellular   apr         thu         1   \n",
       "\n",
       "       previous     poutcome  emp.var.rate  cons.price.idx  cons.conf.idx  \\\n",
       "ID                                                                          \n",
       "34579         1      failure          -1.8          92.893          -46.2   \n",
       "446           0  nonexistent           1.1          93.994          -36.4   \n",
       "20173         0  nonexistent           1.4          93.444          -36.1   \n",
       "18171         0  nonexistent           1.4          93.918          -42.7   \n",
       "30128         0  nonexistent          -1.8          93.075          -47.1   \n",
       "\n",
       "       euribor3m  nr.employed    y     pdays_new  education  loan  housing  \n",
       "ID                                                                          \n",
       "34579      1.266       5099.1   no  not_rec_cont          6     0        1  \n",
       "446        4.857       5191.0  yes  not_rec_cont          5     0        0  \n",
       "20173      4.965       5228.1  yes  not_rec_cont          6     0        0  \n",
       "18171      4.963       5228.1  yes  not_rec_cont          4     1        1  \n",
       "30128      1.365       5099.1   no  not_rec_cont          6     0        1  "
      ]
     },
     "execution_count": 107,
     "metadata": {},
     "output_type": "execute_result"
    }
   ],
   "source": [
    "data=data.drop(['education','loan','housing'],axis=1)\n",
    "dataset=data.merge(d[['education','loan','housing']],on='ID')\n",
    "#dataset_end=dataset.to_csv(r'C:\\Users\\ANDREA\\Desktop\\Data mining\\Dataset_end.csv', index = True)\n",
    "dataset.head()"
   ]
  },
  {
   "cell_type": "code",
   "execution_count": null,
   "metadata": {},
   "outputs": [],
   "source": []
  }
 ],
 "metadata": {
  "kernelspec": {
   "display_name": "Python 3",
   "language": "python",
   "name": "python3"
  },
  "language_info": {
   "codemirror_mode": {
    "name": "ipython",
    "version": 3
   },
   "file_extension": ".py",
   "mimetype": "text/x-python",
   "name": "python",
   "nbconvert_exporter": "python",
   "pygments_lexer": "ipython3",
   "version": "3.7.3"
  },
  "latex_envs": {
   "LaTeX_envs_menu_present": true,
   "autoclose": false,
   "autocomplete": true,
   "bibliofile": "biblio.bib",
   "cite_by": "apalike",
   "current_citInitial": 1,
   "eqLabelWithNumbers": true,
   "eqNumInitial": 1,
   "hotkeys": {
    "equation": "Ctrl-E",
    "itemize": "Ctrl-I"
   },
   "labels_anchors": false,
   "latex_user_defs": false,
   "report_style_numbering": false,
   "user_envs_cfg": false
  },
  "varInspector": {
   "cols": {
    "lenName": 16,
    "lenType": 16,
    "lenVar": 40
   },
   "kernels_config": {
    "python": {
     "delete_cmd_postfix": "",
     "delete_cmd_prefix": "del ",
     "library": "var_list.py",
     "varRefreshCmd": "print(var_dic_list())"
    },
    "r": {
     "delete_cmd_postfix": ") ",
     "delete_cmd_prefix": "rm(",
     "library": "var_list.r",
     "varRefreshCmd": "cat(var_dic_list()) "
    }
   },
   "types_to_exclude": [
    "module",
    "function",
    "builtin_function_or_method",
    "instance",
    "_Feature"
   ],
   "window_display": false
  }
 },
 "nbformat": 4,
 "nbformat_minor": 2
}
