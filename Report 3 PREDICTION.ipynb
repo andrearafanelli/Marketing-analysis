{
 "cells": [
  {
   "cell_type": "markdown",
   "metadata": {
    "ExecuteTime": {
     "end_time": "2020-02-26T12:24:53.530726Z",
     "start_time": "2020-02-26T12:24:53.523729Z"
    }
   },
   "source": [
    "# 3. Predictive models"
   ]
  },
  {
   "cell_type": "markdown",
   "metadata": {},
   "source": [
    "In this section we will develop different kind of models exploiting the train-test approach."
   ]
  },
  {
   "cell_type": "code",
   "execution_count": 1,
   "metadata": {
    "ExecuteTime": {
     "end_time": "2020-03-04T12:34:37.309345Z",
     "start_time": "2020-03-04T12:34:21.300461Z"
    }
   },
   "outputs": [
    {
     "name": "stderr",
     "output_type": "stream",
     "text": [
      "C:\\Users\\ANDREA\\Anaconda3\\lib\\site-packages\\tensorboard\\compat\\tensorflow_stub\\dtypes.py:541: FutureWarning: Passing (type, 1) or '1type' as a synonym of type is deprecated; in a future version of numpy, it will be understood as (type, (1,)) / '(1,)type'.\n",
      "  _np_qint8 = np.dtype([(\"qint8\", np.int8, 1)])\n",
      "C:\\Users\\ANDREA\\Anaconda3\\lib\\site-packages\\tensorboard\\compat\\tensorflow_stub\\dtypes.py:542: FutureWarning: Passing (type, 1) or '1type' as a synonym of type is deprecated; in a future version of numpy, it will be understood as (type, (1,)) / '(1,)type'.\n",
      "  _np_quint8 = np.dtype([(\"quint8\", np.uint8, 1)])\n",
      "C:\\Users\\ANDREA\\Anaconda3\\lib\\site-packages\\tensorboard\\compat\\tensorflow_stub\\dtypes.py:543: FutureWarning: Passing (type, 1) or '1type' as a synonym of type is deprecated; in a future version of numpy, it will be understood as (type, (1,)) / '(1,)type'.\n",
      "  _np_qint16 = np.dtype([(\"qint16\", np.int16, 1)])\n",
      "C:\\Users\\ANDREA\\Anaconda3\\lib\\site-packages\\tensorboard\\compat\\tensorflow_stub\\dtypes.py:544: FutureWarning: Passing (type, 1) or '1type' as a synonym of type is deprecated; in a future version of numpy, it will be understood as (type, (1,)) / '(1,)type'.\n",
      "  _np_quint16 = np.dtype([(\"quint16\", np.uint16, 1)])\n",
      "C:\\Users\\ANDREA\\Anaconda3\\lib\\site-packages\\tensorboard\\compat\\tensorflow_stub\\dtypes.py:545: FutureWarning: Passing (type, 1) or '1type' as a synonym of type is deprecated; in a future version of numpy, it will be understood as (type, (1,)) / '(1,)type'.\n",
      "  _np_qint32 = np.dtype([(\"qint32\", np.int32, 1)])\n",
      "C:\\Users\\ANDREA\\Anaconda3\\lib\\site-packages\\tensorboard\\compat\\tensorflow_stub\\dtypes.py:550: FutureWarning: Passing (type, 1) or '1type' as a synonym of type is deprecated; in a future version of numpy, it will be understood as (type, (1,)) / '(1,)type'.\n",
      "  np_resource = np.dtype([(\"resource\", np.ubyte, 1)])\n"
     ]
    }
   ],
   "source": [
    "import pandas as pd \n",
    "import numpy as np \n",
    "import matplotlib.pyplot as plt \n",
    "import seaborn as sns\n",
    "\n",
    "from sklearn.model_selection import train_test_split\n",
    "import category_encoders as ce\n",
    "from sklearn.metrics import accuracy_score, confusion_matrix, precision_score, recall_score, f1_score, roc_curve, roc_auc_score\n",
    "\n",
    "import scikitplot as skplt\n",
    "from sklearn.linear_model import LogisticRegression\n",
    "from sklearn.linear_model import LogisticRegressionCV\n",
    "from sklearn.model_selection import train_test_split\n",
    "from sklearn.metrics import roc_curve\n",
    "from sklearn.metrics import auc\n",
    "from sklearn.metrics import confusion_matrix\n",
    "from sklearn.decomposition import PCA\n",
    "from sklearn import preprocessing\n",
    "from sklearn.preprocessing import LabelEncoder\n",
    "from mlxtend.evaluate import lift_score\n",
    "\n",
    "from sklearn.neighbors import KNeighborsClassifier\n",
    "from sklearn.metrics import classification_report,accuracy_score, precision_recall_curve\n",
    "from sklearn.model_selection import GridSearchCV, RandomizedSearchCV\n",
    "from sklearn.ensemble import RandomForestClassifier\n",
    "\n",
    "from sklearn.svm import SVC\n",
    "from sklearn.tree import DecisionTreeClassifier\n",
    "from sklearn.ensemble import GradientBoostingClassifier\n",
    "\n",
    "from tensorflow.python.keras.layers import Dense\n",
    "from tensorflow.python.keras import Sequential\n",
    "from tensorflow.python.keras.layers import Dropout\n",
    "from tensorflow.python.keras.initializers import he_normal, glorot_normal\n",
    "from tensorflow.keras.optimizers import Adam, SGD\n",
    "from tensorflow.keras.regularizers import l1,l2\n",
    "\n",
    "#from keras.utils import np_utils\n",
    "#from keras.models import Sequential\n",
    "#from keras.layers import Dense\n",
    "#from keras.layers import Dropout\n",
    "#from keras import optimizers"
   ]
  },
  {
   "cell_type": "code",
   "execution_count": 14,
   "metadata": {
    "ExecuteTime": {
     "end_time": "2020-03-04T12:34:37.395047Z",
     "start_time": "2020-03-04T12:34:37.321606Z"
    }
   },
   "outputs": [],
   "source": [
    "data=pd.read_csv('Dataset_end.csv',sep=',',)\n",
    "data.set_index('ID',inplace=True)"
   ]
  },
  {
   "cell_type": "markdown",
   "metadata": {},
   "source": [
    "#### Reparametrization:"
   ]
  },
  {
   "cell_type": "markdown",
   "metadata": {},
   "source": [
    "Arrangement of the variables to prepare the dataset for the modelling process:"
   ]
  },
  {
   "cell_type": "code",
   "execution_count": 16,
   "metadata": {
    "ExecuteTime": {
     "end_time": "2020-03-04T12:34:37.497057Z",
     "start_time": "2020-03-04T12:34:37.401399Z"
    }
   },
   "outputs": [],
   "source": [
    "cat=['job','marital','month','day_of_week','poutcome','pdays_new','education']\n",
    "\n",
    "for i in cat: \n",
    "    data[i]=data[i].astype('category')\n",
    "    \n",
    "for i in data[cat]:\n",
    "    data[i]=data[i].cat.codes\n",
    "    \n",
    "for i in cat: \n",
    "    data[i]=data[i].astype('category')"
   ]
  },
  {
   "cell_type": "code",
   "execution_count": 17,
   "metadata": {
    "ExecuteTime": {
     "end_time": "2020-03-04T12:34:37.544155Z",
     "start_time": "2020-03-04T12:34:37.520516Z"
    }
   },
   "outputs": [],
   "source": [
    "data['y']=pd.factorize(data['y'])[0]\n",
    "data['contact']=pd.factorize(data['contact'])[0]"
   ]
  },
  {
   "cell_type": "markdown",
   "metadata": {},
   "source": [
    "#### Prediction goal"
   ]
  },
  {
   "cell_type": "markdown",
   "metadata": {},
   "source": [
    "The goal of our analysis is to built a predictive model, able to classify well all the y's but with a focus on the maximization of the precision of 1 ('yes'). \n",
    "\n",
    "Precision is a valid choice of evaluation metric when we want to assess our prediction performances.\n",
    "This choice was made to avoid future useless expenditure in marketing for people that would not buy the product, above all because the current campaign seems not to be quite effective (see EDA analysis).\n",
    "\n",
    "The metrics that we used to evaluate all the models below are:\n",
    "- **AUC**: it evaluates the overall performance of the model;\n",
    "- **Precision** for the positive class ('yes'): it evaluates the correct prediction of 1 (e.g. given a precision value of 80% means that, when the prediction of a client successfully buy a banking product, it is correct 80% of the time);\n",
    "- **Recall** for the positive class ('yes'): it evaluates how many 1's the classifier identifies among all the 1's present in the test set (e.g. given a value of 80%, it correctly identifies 80% of all *yes* response present);\n",
    "- **F1 score**: it is the harmonic average of precision and recall;\n",
    "- **Accuracy**: it sums up the ability of the model to catch the right category of the response for each observation;\n",
    "- **Lift score**: it compares model predictions to randomly generated predictions;\n",
    "\n",
    "All of these metrics, except the AUC, are dependent on the choice of the threshold. Thus, the definition of this parameter will be made according to the goal define above.\n",
    "\n",
    "\n"
   ]
  },
  {
   "cell_type": "markdown",
   "metadata": {},
   "source": [
    "## 3.1 Parametric approach"
   ]
  },
  {
   "cell_type": "markdown",
   "metadata": {},
   "source": [
    "#### One hot encoding:"
   ]
  },
  {
   "cell_type": "code",
   "execution_count": 18,
   "metadata": {
    "ExecuteTime": {
     "end_time": "2020-03-04T12:34:37.650850Z",
     "start_time": "2020-03-04T12:34:37.552101Z"
    }
   },
   "outputs": [],
   "source": [
    "data_dummy=pd.get_dummies(data)"
   ]
  },
  {
   "cell_type": "markdown",
   "metadata": {},
   "source": [
    "#### Avoid correlations:"
   ]
  },
  {
   "cell_type": "markdown",
   "metadata": {},
   "source": [
    "From the first report (1.2.6)"
   ]
  },
  {
   "cell_type": "markdown",
   "metadata": {},
   "source": [
    "We decided to avoid: emp.var.rate, because it has correlations above 0.7 with the other three socio-economic variables and nr.employed, instead of euribor3m, because it is not strickly related to the banking context."
   ]
  },
  {
   "cell_type": "code",
   "execution_count": 19,
   "metadata": {
    "ExecuteTime": {
     "end_time": "2020-03-04T12:34:37.920559Z",
     "start_time": "2020-03-04T12:34:37.899315Z"
    }
   },
   "outputs": [],
   "source": [
    "data_glm=data_dummy.drop(['emp.var.rate','nr.employed'], axis=1)"
   ]
  },
  {
   "cell_type": "markdown",
   "metadata": {},
   "source": [
    "### 3.1.1 Logistic regression"
   ]
  },
  {
   "cell_type": "markdown",
   "metadata": {},
   "source": [
    "We split in train and test:"
   ]
  },
  {
   "cell_type": "code",
   "execution_count": 20,
   "metadata": {
    "ExecuteTime": {
     "end_time": "2020-03-04T12:34:37.960848Z",
     "start_time": "2020-03-04T12:34:37.932961Z"
    }
   },
   "outputs": [],
   "source": [
    "Y=data_glm['y']\n",
    "X=data_glm.drop('y',axis=1)\n",
    "x_train_glm,x_test_glm,y_train_glm,y_test_glm=train_test_split(X,Y, test_size=0.2, random_state=123)"
   ]
  },
  {
   "cell_type": "code",
   "execution_count": 22,
   "metadata": {
    "ExecuteTime": {
     "end_time": "2020-03-04T12:34:38.578763Z",
     "start_time": "2020-03-04T12:34:37.980310Z"
    }
   },
   "outputs": [
    {
     "name": "stderr",
     "output_type": "stream",
     "text": [
      "C:\\Users\\ANDREA\\Anaconda3\\lib\\site-packages\\sklearn\\linear_model\\logistic.py:432: FutureWarning: Default solver will be changed to 'lbfgs' in 0.22. Specify a solver to silence this warning.\n",
      "  FutureWarning)\n"
     ]
    }
   ],
   "source": [
    "glm=LogisticRegression(random_state=10091995)\n",
    "glm.fit(x_train_glm,y_train_glm)\n",
    "proba_train= [y for (x, y) in glm.predict_proba(x_train_glm)]\n",
    "glm_proba= [y for (x, y) in glm.predict_proba(x_test_glm)]\n",
    "lr_auc = roc_auc_score(y_test_glm, glm_proba)"
   ]
  },
  {
   "cell_type": "code",
   "execution_count": 23,
   "metadata": {
    "ExecuteTime": {
     "end_time": "2020-03-04T12:34:39.454345Z",
     "start_time": "2020-03-04T12:34:38.592697Z"
    }
   },
   "outputs": [
    {
     "data": {
      "image/png": "[encoded data removed]",
      "text/plain": [
       "<Figure size 720x360 with 1 Axes>"
      ]
     },
     "metadata": {},
     "output_type": "display_data"
    }
   ],
   "source": [
    "sns.set_style('whitegrid')\n",
    "fpr, tpr, threshold = roc_curve(y_test_glm,glm_proba)\n",
    "roc_auc = auc(fpr, tpr)\n",
    "fig=plt.subplots(figsize=(10,5))\n",
    "plt.title('Receiver Operating Characteristic')\n",
    "plt.plot(fpr, tpr, 'b', label = 'AUC = %0.2f' % roc_auc)\n",
    "plt.legend(loc = 'lower right')\n",
    "plt.plot([0, 1], [0, 1],'r--')\n",
    "plt.xlim([0, 1])\n",
    "plt.ylim([0, 1])\n",
    "plt.ylabel('True Positive Rate')\n",
    "plt.xlabel('False Positive Rate')\n",
    "plt.show()"
   ]
  },
  {
   "cell_type": "markdown",
   "metadata": {},
   "source": [
    "The overall quality of our logistic regression is indicated by the AUC score(0.79).\n"
   ]
  },
  {
   "cell_type": "code",
   "execution_count": 24,
   "metadata": {
    "ExecuteTime": {
     "end_time": "2020-03-04T12:34:39.469348Z",
     "start_time": "2020-03-04T12:34:39.460989Z"
    }
   },
   "outputs": [],
   "source": [
    "glm_pred=glm.predict(x_test_glm)"
   ]
  },
  {
   "cell_type": "code",
   "execution_count": 25,
   "metadata": {
    "ExecuteTime": {
     "end_time": "2020-03-04T12:34:39.493074Z",
     "start_time": "2020-03-04T12:34:39.480526Z"
    }
   },
   "outputs": [],
   "source": [
    "def report (y_t,y_pred,y_proba,c):\n",
    "    auc=roc_auc_score(y_t,y_proba)\n",
    "    p=precision_score(y_t,y_pred)\n",
    "    r=recall_score(y_t,y_pred)\n",
    "    f1 =(2 * (p* r)) / (p+ r)\n",
    "    a=accuracy_score(y_t,y_pred)\n",
    "    score=np.array([auc,p,r,f1,a]).round(2)\n",
    "    table=pd.DataFrame(score,index=['AUC','Prec','Rec','F1','Acc'],columns=[c])\n",
    "    return(table)"
   ]
  },
  {
   "cell_type": "code",
   "execution_count": 26,
   "metadata": {
    "ExecuteTime": {
     "end_time": "2020-03-04T12:34:39.543995Z",
     "start_time": "2020-03-04T12:34:39.500040Z"
    }
   },
   "outputs": [
    {
     "data": {
      "text/html": [
       "<div>\n",
       "<style scoped>\n",
       "    .dataframe tbody tr th:only-of-type {\n",
       "        vertical-align: middle;\n",
       "    }\n",
       "\n",
       "    .dataframe tbody tr th {\n",
       "        vertical-align: top;\n",
       "    }\n",
       "\n",
       "    .dataframe thead th {\n",
       "        text-align: right;\n",
       "    }\n",
       "</style>\n",
       "<table border=\"1\" class=\"dataframe\">\n",
       "  <thead>\n",
       "    <tr style=\"text-align: right;\">\n",
       "      <th></th>\n",
       "      <th>GLM</th>\n",
       "    </tr>\n",
       "  </thead>\n",
       "  <tbody>\n",
       "    <tr>\n",
       "      <th>AUC</th>\n",
       "      <td>0.79</td>\n",
       "    </tr>\n",
       "    <tr>\n",
       "      <th>Prec</th>\n",
       "      <td>0.78</td>\n",
       "    </tr>\n",
       "    <tr>\n",
       "      <th>Rec</th>\n",
       "      <td>0.67</td>\n",
       "    </tr>\n",
       "    <tr>\n",
       "      <th>F1</th>\n",
       "      <td>0.72</td>\n",
       "    </tr>\n",
       "    <tr>\n",
       "      <th>Acc</th>\n",
       "      <td>0.73</td>\n",
       "    </tr>\n",
       "  </tbody>\n",
       "</table>\n",
       "</div>"
      ],
      "text/plain": [
       "       GLM\n",
       "AUC   0.79\n",
       "Prec  0.78\n",
       "Rec   0.67\n",
       "F1    0.72\n",
       "Acc   0.73"
      ]
     },
     "execution_count": 26,
     "metadata": {},
     "output_type": "execute_result"
    }
   ],
   "source": [
    "GLM=report(y_test_glm,glm_pred,glm_proba,'GLM')\n",
    "GLM"
   ]
  },
  {
   "cell_type": "markdown",
   "metadata": {},
   "source": [
    "With a threshold of 0.5:\n",
    "\n",
    "- Our model has a precision of 0.78;\n",
    "- Our model has a recall of 0.67, in other words;\n",
    "- Our model has a F1 (the harmonic average of precision an recall) of 0.72;\n",
    "- Our model accuracy is 73%;\n",
    " \n",
    "\n",
    "The choice of 0.5 can be a good compromise, given the fact that the dataset is perfectly balanced among the response. <br>\n",
    "\n",
    "Despite that we can decide not to use this threshold, because our aim is to maximise the precision of 1 ('yes'). "
   ]
  },
  {
   "cell_type": "code",
   "execution_count": 27,
   "metadata": {
    "ExecuteTime": {
     "end_time": "2020-03-04T12:34:40.646589Z",
     "start_time": "2020-03-04T12:34:39.555137Z"
    }
   },
   "outputs": [
    {
     "data": {
      "image/png": "[encoded data removed]",
      "text/plain": [
       "<Figure size 720x360 with 1 Axes>"
      ]
     },
     "metadata": {},
     "output_type": "display_data"
    }
   ],
   "source": [
    "prec, rec, tre = precision_recall_curve(y_test_glm,glm_proba)\n",
    "F1 =(2 * (prec* rec)) / (prec+ rec)\n",
    "def plot_prec_recall_vs_tresh(precisions, recalls, thresholds, f1,x=0.5):\n",
    "    plt.plot(thresholds, precisions[:-1], 'b--', label='precision')\n",
    "    plt.plot(thresholds, recalls[:-1], 'g--', label = 'recall')\n",
    "    plt.plot(thresholds, f1[:-1], 'r--', label = 'F1')\n",
    "    plt.axvline(x=0.5,c='k')\n",
    "    plt.axvline(x=x,c='c')\n",
    "    plt.xlabel('Threshold')\n",
    "    plt.legend(loc='upper left')\n",
    "    plt.ylim([0,1])\n",
    "    \n",
    "fig=plt.subplots(figsize=(10,5))\n",
    "plot_prec_recall_vs_tresh(prec, rec, tre,F1,0.64)\n",
    "plt.show()"
   ]
  },
  {
   "cell_type": "markdown",
   "metadata": {},
   "source": [
    "From the plot above it is possible to select a set of thresholds (greater than 0.5), that can maximize the precision of the yes predictions. "
   ]
  },
  {
   "cell_type": "code",
   "execution_count": 28,
   "metadata": {
    "ExecuteTime": {
     "end_time": "2020-03-04T12:34:40.663489Z",
     "start_time": "2020-03-04T12:34:40.655250Z"
    }
   },
   "outputs": [],
   "source": [
    "glm_pred2=[]\n",
    "for i in glm_proba:\n",
    "    if i>0.6:\n",
    "        i=1\n",
    "    else:\n",
    "        i=0\n",
    "    glm_pred2.append(i)"
   ]
  },
  {
   "cell_type": "code",
   "execution_count": 29,
   "metadata": {
    "ExecuteTime": {
     "end_time": "2020-03-04T12:34:40.704288Z",
     "start_time": "2020-03-04T12:34:40.669345Z"
    }
   },
   "outputs": [
    {
     "data": {
      "text/html": [
       "<div>\n",
       "<style scoped>\n",
       "    .dataframe tbody tr th:only-of-type {\n",
       "        vertical-align: middle;\n",
       "    }\n",
       "\n",
       "    .dataframe tbody tr th {\n",
       "        vertical-align: top;\n",
       "    }\n",
       "\n",
       "    .dataframe thead th {\n",
       "        text-align: right;\n",
       "    }\n",
       "</style>\n",
       "<table border=\"1\" class=\"dataframe\">\n",
       "  <thead>\n",
       "    <tr style=\"text-align: right;\">\n",
       "      <th></th>\n",
       "      <th>GLM</th>\n",
       "    </tr>\n",
       "  </thead>\n",
       "  <tbody>\n",
       "    <tr>\n",
       "      <th>AUC</th>\n",
       "      <td>0.79</td>\n",
       "    </tr>\n",
       "    <tr>\n",
       "      <th>Prec</th>\n",
       "      <td>0.83</td>\n",
       "    </tr>\n",
       "    <tr>\n",
       "      <th>Rec</th>\n",
       "      <td>0.61</td>\n",
       "    </tr>\n",
       "    <tr>\n",
       "      <th>F1</th>\n",
       "      <td>0.71</td>\n",
       "    </tr>\n",
       "    <tr>\n",
       "      <th>Acc</th>\n",
       "      <td>0.74</td>\n",
       "    </tr>\n",
       "  </tbody>\n",
       "</table>\n",
       "</div>"
      ],
      "text/plain": [
       "       GLM\n",
       "AUC   0.79\n",
       "Prec  0.83\n",
       "Rec   0.61\n",
       "F1    0.71\n",
       "Acc   0.74"
      ]
     },
     "execution_count": 29,
     "metadata": {},
     "output_type": "execute_result"
    }
   ],
   "source": [
    "GLM=report(y_test_glm,glm_pred2,glm_proba,'GLM')\n",
    "GLM"
   ]
  },
  {
   "cell_type": "markdown",
   "metadata": {},
   "source": [
    "We use the threshold of 0.6, that ensure an 83% of good classification of 1.\n",
    "\n",
    "This logic that drives our prediction process will be used for all the following non parametric models.\n"
   ]
  },
  {
   "cell_type": "markdown",
   "metadata": {},
   "source": [
    "## 3.2  Non-parametric approach"
   ]
  },
  {
   "cell_type": "markdown",
   "metadata": {},
   "source": [
    "#### Normalization:\n",
    "We use the normalize dataset to exploit the non parametric approaches "
   ]
  },
  {
   "cell_type": "code",
   "execution_count": 30,
   "metadata": {
    "ExecuteTime": {
     "end_time": "2020-03-04T12:34:40.779118Z",
     "start_time": "2020-03-04T12:34:40.711345Z"
    }
   },
   "outputs": [],
   "source": [
    "data_norm=data.copy()\n",
    "\n",
    "numi=['age','campaign','cons.conf.idx','cons.price.idx','emp.var.rate','euribor3m','nr.employed','previous']\n",
    "data_norm[numi]=preprocessing.normalize(data[numi])"
   ]
  },
  {
   "cell_type": "markdown",
   "metadata": {},
   "source": [
    "#### Target Encoding:"
   ]
  },
  {
   "cell_type": "markdown",
   "metadata": {},
   "source": [
    "There are lots of categorical variables in our dataset. Making One Hot Encoding for non-parametric model, lead to an increase of the number of features affecting the quality of our classifier. Therefore we decided to use the 'Target Encoding' method to avoid this issue."
   ]
  },
  {
   "cell_type": "code",
   "execution_count": 31,
   "metadata": {
    "ExecuteTime": {
     "end_time": "2020-03-04T12:34:40.797084Z",
     "start_time": "2020-03-04T12:34:40.782917Z"
    }
   },
   "outputs": [],
   "source": [
    "encoder=ce.TargetEncoder(smoothing=5)"
   ]
  },
  {
   "cell_type": "markdown",
   "metadata": {},
   "source": [
    "The choice of a smoothing parameter was made because we wanted to be sure to not cause overfitting."
   ]
  },
  {
   "cell_type": "code",
   "execution_count": 32,
   "metadata": {
    "ExecuteTime": {
     "end_time": "2020-03-04T12:34:40.831313Z",
     "start_time": "2020-03-04T12:34:40.802561Z"
    }
   },
   "outputs": [],
   "source": [
    "Y=data_norm['y']\n",
    "X=data_norm.drop('y',axis=1)\n",
    "x_train,x_test,y_train,y_test=train_test_split(X,Y, test_size=0.2, random_state=123)"
   ]
  },
  {
   "cell_type": "code",
   "execution_count": 33,
   "metadata": {
    "ExecuteTime": {
     "end_time": "2020-03-04T12:34:41.338176Z",
     "start_time": "2020-03-04T12:34:40.841116Z"
    }
   },
   "outputs": [
    {
     "name": "stderr",
     "output_type": "stream",
     "text": [
      "C:\\Users\\ANDREA\\Anaconda3\\lib\\site-packages\\pandas\\core\\frame.py:3509: SettingWithCopyWarning: \n",
      "A value is trying to be set on a copy of a slice from a DataFrame.\n",
      "Try using .loc[row_indexer,col_indexer] = value instead\n",
      "\n",
      "See the caveats in the documentation: http://pandas.pydata.org/pandas-docs/stable/user_guide/indexing.html#returning-a-view-versus-a-copy\n",
      "  self[k1] = value[k2]\n"
     ]
    }
   ],
   "source": [
    "c=['job','marital','month','day_of_week','poutcome','pdays_new','education','loan','housing','contact']\n",
    "x_train[c]=encoder.fit_transform(x_train[c],y_train)\n",
    "x_test[c]=encoder.transform(x_test[c])"
   ]
  },
  {
   "cell_type": "markdown",
   "metadata": {},
   "source": [
    "### 3.2.1 Decision tree"
   ]
  },
  {
   "cell_type": "markdown",
   "metadata": {},
   "source": [
    "The first step we made is the cross validation to set the best combination of parameters:"
   ]
  },
  {
   "cell_type": "code",
   "execution_count": 34,
   "metadata": {
    "ExecuteTime": {
     "end_time": "2020-03-04T12:34:47.844895Z",
     "start_time": "2020-03-04T12:34:41.346132Z"
    }
   },
   "outputs": [
    {
     "name": "stdout",
     "output_type": "stream",
     "text": [
      "{'min_samples_leaf': 0.001, 'max_depth': 6, 'criterion': 'entropy'}   0.7316258351893096\n"
     ]
    }
   ],
   "source": [
    "dt = DecisionTreeClassifier(random_state=123)\n",
    "params = {'criterion': ['gini', 'entropy'], 'max_depth': np.arange(4, 15, 2), 'min_samples_leaf': [0.1, 0.01, 0.001]}\n",
    "cv_tuning = RandomizedSearchCV(dt, params, random_state=123, scoring='accuracy', return_train_score=True, cv=5, n_iter=20)\n",
    "cv_tuning.fit(x_train, y_train)\n",
    "\n",
    "print(cv_tuning.best_params_,' ',cv_tuning.best_score_)\n",
    "\n"
   ]
  },
  {
   "cell_type": "code",
   "execution_count": 35,
   "metadata": {
    "ExecuteTime": {
     "end_time": "2020-03-04T12:34:48.919130Z",
     "start_time": "2020-03-04T12:34:47.860033Z"
    }
   },
   "outputs": [
    {
     "data": {
      "image/png": "[encoded data removed]",
      "text/plain": [
       "<Figure size 720x360 with 1 Axes>"
      ]
     },
     "metadata": {},
     "output_type": "display_data"
    }
   ],
   "source": [
    "dt = DecisionTreeClassifier(random_state=123,min_samples_leaf=0.001,max_depth=6,criterion='entropy')\n",
    "dt.fit(x_train,y_train)\n",
    "dt_pred=dt.predict(x_test)\n",
    "dt_proba = [y for (x, y) in dt.predict_proba(x_test)]\n",
    "\n",
    "\n",
    "fpr, tpr, threshold = roc_curve(y_test,dt_proba)\n",
    "roc_auc = auc(fpr, tpr)\n",
    "\n",
    "fig=plt.subplots(figsize=(10,5))\n",
    "plt.title('Receiver Operating Characteristic')\n",
    "plt.plot(fpr, tpr, 'b', label = 'AUC = %0.2f' % roc_auc)\n",
    "plt.legend(loc = 'lower right')\n",
    "plt.plot([0, 1], [0, 1],'r--')\n",
    "plt.xlim([0, 1])\n",
    "plt.ylim([0, 1])\n",
    "plt.ylabel('True Positive Rate')\n",
    "plt.xlabel('False Positive Rate')\n",
    "plt.show()"
   ]
  },
  {
   "cell_type": "markdown",
   "metadata": {},
   "source": [
    "The overall AUC is 0.78"
   ]
  },
  {
   "cell_type": "code",
   "execution_count": 36,
   "metadata": {
    "ExecuteTime": {
     "end_time": "2020-03-04T12:34:48.988519Z",
     "start_time": "2020-03-04T12:34:48.942293Z"
    }
   },
   "outputs": [
    {
     "data": {
      "text/html": [
       "<div>\n",
       "<style scoped>\n",
       "    .dataframe tbody tr th:only-of-type {\n",
       "        vertical-align: middle;\n",
       "    }\n",
       "\n",
       "    .dataframe tbody tr th {\n",
       "        vertical-align: top;\n",
       "    }\n",
       "\n",
       "    .dataframe thead th {\n",
       "        text-align: right;\n",
       "    }\n",
       "</style>\n",
       "<table border=\"1\" class=\"dataframe\">\n",
       "  <thead>\n",
       "    <tr style=\"text-align: right;\">\n",
       "      <th></th>\n",
       "      <th>DT</th>\n",
       "    </tr>\n",
       "  </thead>\n",
       "  <tbody>\n",
       "    <tr>\n",
       "      <th>AUC</th>\n",
       "      <td>0.78</td>\n",
       "    </tr>\n",
       "    <tr>\n",
       "      <th>Prec</th>\n",
       "      <td>0.78</td>\n",
       "    </tr>\n",
       "    <tr>\n",
       "      <th>Rec</th>\n",
       "      <td>0.67</td>\n",
       "    </tr>\n",
       "    <tr>\n",
       "      <th>F1</th>\n",
       "      <td>0.72</td>\n",
       "    </tr>\n",
       "    <tr>\n",
       "      <th>Acc</th>\n",
       "      <td>0.73</td>\n",
       "    </tr>\n",
       "  </tbody>\n",
       "</table>\n",
       "</div>"
      ],
      "text/plain": [
       "        DT\n",
       "AUC   0.78\n",
       "Prec  0.78\n",
       "Rec   0.67\n",
       "F1    0.72\n",
       "Acc   0.73"
      ]
     },
     "execution_count": 36,
     "metadata": {},
     "output_type": "execute_result"
    }
   ],
   "source": [
    "report(y_test,dt_pred,dt_proba,'DT')"
   ]
  },
  {
   "cell_type": "markdown",
   "metadata": {},
   "source": [
    "With a threshold of 0.5:\n",
    "\n",
    "- Our model obtains a 78% of precision in the classification of yes;\n",
    "- Our model has a 67 % of recall in the classification of yes;\n",
    "- An F1 score of 0.72;\n",
    "- An overall avvuracy of 73%;\n",
    "\n",
    "We can decide to change the threshold:"
   ]
  },
  {
   "cell_type": "code",
   "execution_count": 37,
   "metadata": {
    "ExecuteTime": {
     "end_time": "2020-03-04T12:34:49.872067Z",
     "start_time": "2020-03-04T12:34:49.006386Z"
    }
   },
   "outputs": [
    {
     "data": {
      "image/png": "[encoded data removed]",
      "text/plain": [
       "<Figure size 720x360 with 1 Axes>"
      ]
     },
     "metadata": {},
     "output_type": "display_data"
    }
   ],
   "source": [
    "prec, rec, tre = precision_recall_curve(y_test,dt_proba)\n",
    "F1 =(2 * (prec* rec)) / (prec+ rec)\n",
    "fig=plt.subplots(figsize=(10,5))\n",
    "plot_prec_recall_vs_tresh(prec, rec, tre,F1,0.54)\n",
    "plt.show()"
   ]
  },
  {
   "cell_type": "code",
   "execution_count": 38,
   "metadata": {
    "ExecuteTime": {
     "end_time": "2020-03-04T12:34:49.897034Z",
     "start_time": "2020-03-04T12:34:49.875264Z"
    }
   },
   "outputs": [],
   "source": [
    "dt_pred2=[]\n",
    "for i in dt_proba:\n",
    "    if i>0.54:\n",
    "        i=1\n",
    "    else:\n",
    "        i=0\n",
    "    dt_pred2.append(i)"
   ]
  },
  {
   "cell_type": "code",
   "execution_count": 39,
   "metadata": {
    "ExecuteTime": {
     "end_time": "2020-03-04T12:34:49.969059Z",
     "start_time": "2020-03-04T12:34:49.908751Z"
    }
   },
   "outputs": [
    {
     "data": {
      "text/html": [
       "<div>\n",
       "<style scoped>\n",
       "    .dataframe tbody tr th:only-of-type {\n",
       "        vertical-align: middle;\n",
       "    }\n",
       "\n",
       "    .dataframe tbody tr th {\n",
       "        vertical-align: top;\n",
       "    }\n",
       "\n",
       "    .dataframe thead th {\n",
       "        text-align: right;\n",
       "    }\n",
       "</style>\n",
       "<table border=\"1\" class=\"dataframe\">\n",
       "  <thead>\n",
       "    <tr style=\"text-align: right;\">\n",
       "      <th></th>\n",
       "      <th>DT</th>\n",
       "    </tr>\n",
       "  </thead>\n",
       "  <tbody>\n",
       "    <tr>\n",
       "      <th>AUC</th>\n",
       "      <td>0.78</td>\n",
       "    </tr>\n",
       "    <tr>\n",
       "      <th>Prec</th>\n",
       "      <td>0.82</td>\n",
       "    </tr>\n",
       "    <tr>\n",
       "      <th>Rec</th>\n",
       "      <td>0.61</td>\n",
       "    </tr>\n",
       "    <tr>\n",
       "      <th>F1</th>\n",
       "      <td>0.70</td>\n",
       "    </tr>\n",
       "    <tr>\n",
       "      <th>Acc</th>\n",
       "      <td>0.73</td>\n",
       "    </tr>\n",
       "  </tbody>\n",
       "</table>\n",
       "</div>"
      ],
      "text/plain": [
       "        DT\n",
       "AUC   0.78\n",
       "Prec  0.82\n",
       "Rec   0.61\n",
       "F1    0.70\n",
       "Acc   0.73"
      ]
     },
     "execution_count": 39,
     "metadata": {},
     "output_type": "execute_result"
    }
   ],
   "source": [
    "DT=report(y_test,dt_pred2,dt_proba,'DT')\n",
    "DT"
   ]
  },
  {
   "cell_type": "markdown",
   "metadata": {},
   "source": [
    "With a threshold of 0.54, we obtain an increse in the precision score (82%) and an overall good performance for the other indeces."
   ]
  },
  {
   "cell_type": "markdown",
   "metadata": {},
   "source": [
    "### 3.2.3 Random forest"
   ]
  },
  {
   "cell_type": "markdown",
   "metadata": {},
   "source": [
    "The first step we made is the cross validation to set the best combination of parameters:"
   ]
  },
  {
   "cell_type": "code",
   "execution_count": 40,
   "metadata": {
    "ExecuteTime": {
     "end_time": "2020-03-04T12:37:13.696996Z",
     "start_time": "2020-03-04T12:34:49.979789Z"
    }
   },
   "outputs": [
    {
     "name": "stdout",
     "output_type": "stream",
     "text": [
      "0.734966592427617   {'n_estimators': 150, 'min_samples_leaf': 0.001, 'max_features': 'sqrt', 'max_depth': 5, 'criterion': 'entropy'}\n"
     ]
    }
   ],
   "source": [
    "rf = RandomForestClassifier(random_state=33)\n",
    "params = {'n_estimators':[50,100,150,200],'criterion': ['gini', 'entropy'], 'max_depth': np.arange(2, 6), 'min_samples_leaf': np.logspace(-1, -3, 3),'max_features': ['sqrt', 0.2, 0.5]}\n",
    "cv_tuning = RandomizedSearchCV(rf, params, random_state=122223, scoring='accuracy', return_train_score=True, cv=5, n_iter=20)\n",
    "cv_tuning.fit(x_train,y_train)\n",
    "print(cv_tuning.best_score_,' ',cv_tuning.best_params_)\n"
   ]
  },
  {
   "cell_type": "markdown",
   "metadata": {},
   "source": [
    "From the cv we obtained the best model, that is retrained in order to make the predictions on the test set:"
   ]
  },
  {
   "cell_type": "code",
   "execution_count": 41,
   "metadata": {
    "ExecuteTime": {
     "end_time": "2020-03-04T12:37:18.349139Z",
     "start_time": "2020-03-04T12:37:13.707729Z"
    }
   },
   "outputs": [
    {
     "data": {
      "image/png": "[encoded data removed]",
      "text/plain": [
       "<Figure size 720x360 with 1 Axes>"
      ]
     },
     "metadata": {},
     "output_type": "display_data"
    }
   ],
   "source": [
    "rf = RandomForestClassifier(random_state=33, n_estimators=150, min_samples_leaf=0.001,max_features='sqrt',max_depth=5,criterion='entropy')\n",
    "rf.fit(x_train,y_train)\n",
    "rf_pred= rf.predict(x_test)\n",
    "rf_proba = [y for (x, y) in rf.predict_proba(x_test)]\n",
    "\n",
    "fig=plt.subplots(figsize=(10,5))\n",
    "fpr, tpr, threshold = roc_curve(y_test,rf_proba)\n",
    "roc_auc = auc(fpr, tpr)\n",
    "plt.title('Receiver Operating Characteristic')\n",
    "plt.plot(fpr, tpr, 'b', label = 'AUC = %0.2f' % roc_auc)\n",
    "plt.legend(loc = 'lower right')\n",
    "plt.plot([0, 1], [0, 1],'r--')\n",
    "plt.xlim([0, 1])\n",
    "plt.ylim([0, 1])\n",
    "plt.ylabel('True Positive Rate')\n",
    "plt.xlabel('False Positive Rate')\n",
    "plt.show()"
   ]
  },
  {
   "cell_type": "markdown",
   "metadata": {},
   "source": [
    "The overall AUC of the model is 0.79."
   ]
  },
  {
   "cell_type": "code",
   "execution_count": 42,
   "metadata": {
    "ExecuteTime": {
     "end_time": "2020-03-04T12:37:18.415344Z",
     "start_time": "2020-03-04T12:37:18.356645Z"
    }
   },
   "outputs": [
    {
     "data": {
      "text/html": [
       "<div>\n",
       "<style scoped>\n",
       "    .dataframe tbody tr th:only-of-type {\n",
       "        vertical-align: middle;\n",
       "    }\n",
       "\n",
       "    .dataframe tbody tr th {\n",
       "        vertical-align: top;\n",
       "    }\n",
       "\n",
       "    .dataframe thead th {\n",
       "        text-align: right;\n",
       "    }\n",
       "</style>\n",
       "<table border=\"1\" class=\"dataframe\">\n",
       "  <thead>\n",
       "    <tr style=\"text-align: right;\">\n",
       "      <th></th>\n",
       "      <th>RF</th>\n",
       "    </tr>\n",
       "  </thead>\n",
       "  <tbody>\n",
       "    <tr>\n",
       "      <th>AUC</th>\n",
       "      <td>0.79</td>\n",
       "    </tr>\n",
       "    <tr>\n",
       "      <th>Prec</th>\n",
       "      <td>0.79</td>\n",
       "    </tr>\n",
       "    <tr>\n",
       "      <th>Rec</th>\n",
       "      <td>0.67</td>\n",
       "    </tr>\n",
       "    <tr>\n",
       "      <th>F1</th>\n",
       "      <td>0.73</td>\n",
       "    </tr>\n",
       "    <tr>\n",
       "      <th>Acc</th>\n",
       "      <td>0.74</td>\n",
       "    </tr>\n",
       "  </tbody>\n",
       "</table>\n",
       "</div>"
      ],
      "text/plain": [
       "        RF\n",
       "AUC   0.79\n",
       "Prec  0.79\n",
       "Rec   0.67\n",
       "F1    0.73\n",
       "Acc   0.74"
      ]
     },
     "execution_count": 42,
     "metadata": {},
     "output_type": "execute_result"
    }
   ],
   "source": [
    "RF=report(y_test,rf_pred,rf_proba,'RF')\n",
    "RF"
   ]
  },
  {
   "cell_type": "markdown",
   "metadata": {},
   "source": [
    "With a threshold of 0.5:\n",
    "\n",
    "- Our model has a precision of 0.79 in the classification of yes;\n",
    "- Our model has a recall of 0.67 in the classification of yes;\n",
    "- Our model has a F1 (the harmonic average of precision an recall) of 0.73 in the classification of yes;\n",
    "- Our model accuracy is 74%;\n",
    "\n",
    "We can decide to change the threshold:"
   ]
  },
  {
   "cell_type": "code",
   "execution_count": 43,
   "metadata": {
    "ExecuteTime": {
     "end_time": "2020-03-04T12:37:19.517552Z",
     "start_time": "2020-03-04T12:37:18.430072Z"
    }
   },
   "outputs": [
    {
     "data": {
      "image/png": "[encoded data removed]",
      "text/plain": [
       "<Figure size 720x360 with 1 Axes>"
      ]
     },
     "metadata": {},
     "output_type": "display_data"
    }
   ],
   "source": [
    "fig=plt.subplots(figsize=(10,5))\n",
    "prec, rec, tre = precision_recall_curve(y_test,rf_proba)\n",
    "F1 =(2 * (prec* rec)) / (prec+ rec)\n",
    "plot_prec_recall_vs_tresh(prec, rec, tre,F1)\n",
    "plt.show()"
   ]
  },
  {
   "cell_type": "markdown",
   "metadata": {},
   "source": [
    "From the graph, we decide not to change the threshold because there is a constant behaviour of the precision til the 0.7 and a decrease, in the same interval, of the other two indeces."
   ]
  },
  {
   "cell_type": "markdown",
   "metadata": {},
   "source": [
    "### 3.2.4 Gradient Boosting"
   ]
  },
  {
   "cell_type": "code",
   "execution_count": 44,
   "metadata": {
    "ExecuteTime": {
     "end_time": "2020-03-04T12:39:44.232839Z",
     "start_time": "2020-03-04T12:37:19.533160Z"
    }
   },
   "outputs": [
    {
     "name": "stdout",
     "output_type": "stream",
     "text": [
      "{'subsample': 0.8, 'n_estimators': 200, 'min_samples_leaf': 0.001, 'max_features': 'sqrt', 'max_depth': 5, 'learning_rate': 0.01}   0.7430400890868597\n"
     ]
    }
   ],
   "source": [
    "gb = GradientBoostingClassifier(random_state=123)\n",
    "\n",
    "params = {'learning_rate': np.logspace(-1, -4, 4),'n_estimators':[50, 100, 150,200],'min_samples_leaf': np.logspace(-1, -4, 4), 'max_features': ['sqrt', 0.2, 0.3, 0.5, 0.7, 0.8], 'max_depth':[2,3,4,5],'subsample': [0.4, 0.8, 1]}\n",
    "cv_tuning = RandomizedSearchCV(gb, params, random_state=123, scoring='accuracy', return_train_score=True, cv=5, n_iter=20)\n",
    "\n",
    "cv_tuning.fit(x_train, y_train)\n",
    "\n",
    "print(cv_tuning.best_params_,' ',cv_tuning.best_score_)"
   ]
  },
  {
   "cell_type": "code",
   "execution_count": 45,
   "metadata": {
    "ExecuteTime": {
     "end_time": "2020-03-04T12:39:58.144204Z",
     "start_time": "2020-03-04T12:39:44.315239Z"
    }
   },
   "outputs": [
    {
     "data": {
      "image/png": "[encoded data removed]",
      "text/plain": [
       "<Figure size 720x360 with 1 Axes>"
      ]
     },
     "metadata": {},
     "output_type": "display_data"
    }
   ],
   "source": [
    "gb = GradientBoostingClassifier(random_state=123,subsample=0.8,n_estimators=200,min_samples_leaf=0.001,max_features='sqrt',max_depth=5,learning_rate=0.01)\n",
    "gb.fit(x_train,y_train)\n",
    "gb_pred=gb.predict(x_test)\n",
    "gb_proba = [y for (x, y) in gb.predict_proba(x_test)]\n",
    "\n",
    "fig=plt.subplots(figsize=(10,5))\n",
    "fpr, tpr, threshold = roc_curve(y_test,gb_proba)\n",
    "roc_auc = auc(fpr, tpr)\n",
    "plt.title('Receiver Operating Characteristic')\n",
    "plt.plot(fpr, tpr, 'b', label = 'AUC = %0.2f' % roc_auc)\n",
    "plt.legend(loc = 'lower right')\n",
    "plt.plot([0, 1], [0, 1],'r--')\n",
    "plt.xlim([0, 1])\n",
    "plt.ylim([0, 1])\n",
    "plt.ylabel('True Positive Rate')\n",
    "plt.xlabel('False Positive Rate')\n",
    "plt.show()"
   ]
  },
  {
   "cell_type": "markdown",
   "metadata": {},
   "source": [
    "The overall accuracy is 0.80."
   ]
  },
  {
   "cell_type": "code",
   "execution_count": 46,
   "metadata": {
    "ExecuteTime": {
     "end_time": "2020-03-04T12:39:58.267932Z",
     "start_time": "2020-03-04T12:39:58.164624Z"
    }
   },
   "outputs": [
    {
     "data": {
      "text/html": [
       "<div>\n",
       "<style scoped>\n",
       "    .dataframe tbody tr th:only-of-type {\n",
       "        vertical-align: middle;\n",
       "    }\n",
       "\n",
       "    .dataframe tbody tr th {\n",
       "        vertical-align: top;\n",
       "    }\n",
       "\n",
       "    .dataframe thead th {\n",
       "        text-align: right;\n",
       "    }\n",
       "</style>\n",
       "<table border=\"1\" class=\"dataframe\">\n",
       "  <thead>\n",
       "    <tr style=\"text-align: right;\">\n",
       "      <th></th>\n",
       "      <th>GB</th>\n",
       "    </tr>\n",
       "  </thead>\n",
       "  <tbody>\n",
       "    <tr>\n",
       "      <th>AUC</th>\n",
       "      <td>0.80</td>\n",
       "    </tr>\n",
       "    <tr>\n",
       "      <th>Prec</th>\n",
       "      <td>0.81</td>\n",
       "    </tr>\n",
       "    <tr>\n",
       "      <th>Rec</th>\n",
       "      <td>0.67</td>\n",
       "    </tr>\n",
       "    <tr>\n",
       "      <th>F1</th>\n",
       "      <td>0.74</td>\n",
       "    </tr>\n",
       "    <tr>\n",
       "      <th>Acc</th>\n",
       "      <td>0.75</td>\n",
       "    </tr>\n",
       "  </tbody>\n",
       "</table>\n",
       "</div>"
      ],
      "text/plain": [
       "        GB\n",
       "AUC   0.80\n",
       "Prec  0.81\n",
       "Rec   0.67\n",
       "F1    0.74\n",
       "Acc   0.75"
      ]
     },
     "execution_count": 46,
     "metadata": {},
     "output_type": "execute_result"
    }
   ],
   "source": [
    "GB=report(y_test,gb_pred,gb_proba,'GB')\n",
    "GB"
   ]
  },
  {
   "cell_type": "markdown",
   "metadata": {},
   "source": [
    "With a threshold of 0.5:\n",
    "\n",
    "- Our model has a precision of 0.80 in the classification of yes;\n",
    "- Our model has a recall of 0.67 in the classification of yes;\n",
    "- Our model has a F1 (the harmonic average of precision an recall) of 0.73 in the classification of yes;\n",
    "- Our model accuracy is 75%;\n",
    "\n",
    "We can decide to change the threshold:"
   ]
  },
  {
   "cell_type": "code",
   "execution_count": 47,
   "metadata": {
    "ExecuteTime": {
     "end_time": "2020-03-04T12:39:59.095964Z",
     "start_time": "2020-03-04T12:39:58.274188Z"
    }
   },
   "outputs": [
    {
     "data": {
      "image/png": "[encoded data removed]",
      "text/plain": [
       "<Figure size 720x360 with 1 Axes>"
      ]
     },
     "metadata": {},
     "output_type": "display_data"
    }
   ],
   "source": [
    "fig=plt.subplots(figsize=(10,5))\n",
    "prec, rec, tre = precision_recall_curve(y_test,gb_proba)\n",
    "F1 =(2 * (prec* rec)) / (prec+ rec)\n",
    "plot_prec_recall_vs_tresh(prec, rec, tre,F1)\n",
    "plt.show()"
   ]
  },
  {
   "cell_type": "markdown",
   "metadata": {},
   "source": [
    "The threshold will be set to 0.5, because also in this case it permits to follow our goal, without worsening the overall performance."
   ]
  },
  {
   "cell_type": "markdown",
   "metadata": {},
   "source": [
    "### 3.2.5 Considerations"
   ]
  },
  {
   "cell_type": "code",
   "execution_count": 49,
   "metadata": {
    "ExecuteTime": {
     "end_time": "2020-03-04T12:39:59.134156Z",
     "start_time": "2020-03-04T12:39:59.101713Z"
    }
   },
   "outputs": [
    {
     "data": {
      "text/html": [
       "<div>\n",
       "<style scoped>\n",
       "    .dataframe tbody tr th:only-of-type {\n",
       "        vertical-align: middle;\n",
       "    }\n",
       "\n",
       "    .dataframe tbody tr th {\n",
       "        vertical-align: top;\n",
       "    }\n",
       "\n",
       "    .dataframe thead th {\n",
       "        text-align: right;\n",
       "    }\n",
       "</style>\n",
       "<table border=\"1\" class=\"dataframe\">\n",
       "  <thead>\n",
       "    <tr style=\"text-align: right;\">\n",
       "      <th></th>\n",
       "      <th>GLM</th>\n",
       "      <th>DT</th>\n",
       "      <th>RF</th>\n",
       "      <th>GB</th>\n",
       "    </tr>\n",
       "  </thead>\n",
       "  <tbody>\n",
       "    <tr>\n",
       "      <th>AUC</th>\n",
       "      <td>0.79</td>\n",
       "      <td>0.78</td>\n",
       "      <td>0.79</td>\n",
       "      <td>0.80</td>\n",
       "    </tr>\n",
       "    <tr>\n",
       "      <th>Prec</th>\n",
       "      <td>0.83</td>\n",
       "      <td>0.82</td>\n",
       "      <td>0.79</td>\n",
       "      <td>0.81</td>\n",
       "    </tr>\n",
       "    <tr>\n",
       "      <th>Rec</th>\n",
       "      <td>0.61</td>\n",
       "      <td>0.61</td>\n",
       "      <td>0.67</td>\n",
       "      <td>0.67</td>\n",
       "    </tr>\n",
       "    <tr>\n",
       "      <th>F1</th>\n",
       "      <td>0.71</td>\n",
       "      <td>0.70</td>\n",
       "      <td>0.73</td>\n",
       "      <td>0.74</td>\n",
       "    </tr>\n",
       "    <tr>\n",
       "      <th>Acc</th>\n",
       "      <td>0.74</td>\n",
       "      <td>0.73</td>\n",
       "      <td>0.74</td>\n",
       "      <td>0.75</td>\n",
       "    </tr>\n",
       "  </tbody>\n",
       "</table>\n",
       "</div>"
      ],
      "text/plain": [
       "       GLM    DT    RF    GB\n",
       "AUC   0.79  0.78  0.79  0.80\n",
       "Prec  0.83  0.82  0.79  0.81\n",
       "Rec   0.61  0.61  0.67  0.67\n",
       "F1    0.71  0.70  0.73  0.74\n",
       "Acc   0.74  0.73  0.74  0.75"
      ]
     },
     "execution_count": 49,
     "metadata": {},
     "output_type": "execute_result"
    }
   ],
   "source": [
    "SCORE=GLM.join([DT,RF,GB])\n",
    "SCORE"
   ]
  },
  {
   "cell_type": "code",
   "execution_count": 50,
   "metadata": {
    "ExecuteTime": {
     "end_time": "2020-03-04T12:40:01.949208Z",
     "start_time": "2020-03-04T12:39:59.140857Z"
    }
   },
   "outputs": [
    {
     "data": {
      "image/png": "[encoded data removed]",
      "text/plain": [
       "<Figure size 1440x720 with 4 Axes>"
      ]
     },
     "metadata": {},
     "output_type": "display_data"
    }
   ],
   "source": [
    "fig, ((ax1,ax2),(ax3,ax4))=plt.subplots(nrows=2,ncols=2,figsize=(20,10))\n",
    "\n",
    "SCORE.loc['AUC',:].plot.bar(ax=ax1,title='AUC',color='g')\n",
    "SCORE.loc['Prec',:].plot.bar(ax=ax2,title='Prec',color='r')\n",
    "SCORE.loc['Rec',:].plot.bar(ax=ax3,title='Rec',color='b')\n",
    "SCORE.loc['F1',:].plot.bar(ax=ax4,title='F1',color='y')\n",
    "plt.show()"
   ]
  },
  {
   "cell_type": "markdown",
   "metadata": {},
   "source": [
    "Observing the plot, it is possible to see that the best precision for the 1's is obtained by the logistic model (83%). Despite this fact, the logistic model is not the best for the other three indeces, that show the overall quality of the model. \n",
    "The model that overperforms all the other models in AUC, Recall and F1 is the Gradient Boosting, reaching also a satisfying level for the precision:"
   ]
  },
  {
   "cell_type": "code",
   "execution_count": 51,
   "metadata": {
    "ExecuteTime": {
     "end_time": "2020-03-04T12:40:02.101488Z",
     "start_time": "2020-03-04T12:40:01.968312Z"
    }
   },
   "outputs": [
    {
     "name": "stdout",
     "output_type": "stream",
     "text": [
      "The indeces for the GB model are:\n",
      "        GB\n",
      "AUC   0.80\n",
      "Prec  0.81\n",
      "Rec   0.67\n",
      "F1    0.74\n",
      "Acc   0.75\n"
     ]
    }
   ],
   "source": [
    "print('The indeces for the GB model are:',GB,sep='\\n')"
   ]
  },
  {
   "cell_type": "markdown",
   "metadata": {},
   "source": [
    "## 3.3 Deeper evaluation: Lift analysis "
   ]
  },
  {
   "cell_type": "code",
   "execution_count": 38,
   "metadata": {
    "ExecuteTime": {
     "end_time": "2020-03-04T12:40:02.305369Z",
     "start_time": "2020-03-04T12:40:02.165857Z"
    }
   },
   "outputs": [],
   "source": [
    "def cum_lift(proba,y_t):\n",
    "    quantiles = list(np.quantile(proba, q=np.linspace(0,1,5)))\n",
    "    d_perc = pd.DataFrame(columns=['P_inf', 'P_sup', 'P_avg', 'Attempts', 'Success','Success_perc']) \n",
    "    for i in range(len(quantiles) - 1):\n",
    "        p = [x for x in proba if quantiles[i+1] > x >= quantiles[i]]\n",
    "        q = y_t.loc[[quantiles[i+1] > x >= quantiles[i] for x in proba]]\n",
    "        d_perc.loc[i+1] = [quantiles[i], quantiles[i+1], np.mean(p), q.count(), q.sum(), q.mean()]\n",
    "    d_perc.sort_values('P_inf', ascending=False, inplace=True)\n",
    "    d_perc['Attempts_cum'] = d_perc['Attempts'].cumsum()\n",
    "    d_perc['Success_cum'] = d_perc['Success'].cumsum()\n",
    "    d_perc['Captured_resp'] = d_perc['Success'] / d_perc.loc[1, 'Success_cum']\n",
    "    d_perc['Captured_resp_cum'] = d_perc['Success_cum'] / d_perc.loc[1, 'Success_cum']\n",
    "    d_perc['Lift'] = d_perc['Success'] / (d_perc['Attempts'] * y_t.mean())\n",
    "    d_perc['Lift_cum'] = d_perc['Success_cum'] / (d_perc['Attempts_cum'] * y_t.mean())\n",
    "    return(d_perc[['Success_perc','Captured_resp_cum','Lift_cum']])\n",
    "\n",
    "def gain_plot(model):\n",
    "    quantile=[0.0,0.25,0.5,0.75,1]\n",
    "    v=0\n",
    "    l=np.array(model['Captured_resp_cum'])\n",
    "    X = np.insert(l,0,v, axis=0)\n",
    "    plt.xlim([0, 1])\n",
    "    plt.title('Cumulative gains chart')\n",
    "    plt.xlabel('% customers contacted')\n",
    "    plt.ylabel('% customers reached')\n",
    "    plt.ylim([0, 1])\n",
    "    plt.plot([0, 1], [0, 1],'r--',label='Baseline')\n",
    "    plt.plot(quantile,X,label='Gain')\n",
    "    plt.legend(loc=\"upper left\")\n",
    "    plt.show()\n",
    "    \n",
    "def lift_plot(model):\n",
    "    quantile=[0.25,0.5,0.75,1]\n",
    "    l=np.array(model['Lift_cum'])\n",
    "    plt.xlim([0.25, 1])\n",
    "    plt.title('Cumulative lift chart')\n",
    "    plt.xlabel('% customers contacted')\n",
    "    plt.ylabel('Lift')\n",
    "    plt.axhline(y=1,c='r',ls='--',label='Baseline')\n",
    "    plt.plot(quantile,l,label='Lift')\n",
    "    plt.legend(loc=\"upper right\")\n",
    "    plt.show()\n",
    "    \n",
    "def wtf_plot(model,color):\n",
    "    plt.bar(['1st','2nd','3rd','4th'],np.array(model['Success_perc'])*100,color=color)\n",
    "    a=y_test.mean()*100\n",
    "    plt.axhline(y=a,c='k',ls='--',label='Overall response rate')\n",
    "    plt.legend(loc=\"upper right\")\n",
    "    "
   ]
  },
  {
   "cell_type": "markdown",
   "metadata": {},
   "source": [
    "We decided to split the client population into four groups (based on quartiles, sorted from more probable to the less probable that clients purchase banking products): Loyal clients (4), Clients (3), Possible clients (2), Newer (1). <br>\n",
    "Thanks to this ripartition, we will be able to build three indeces that represent the ability of the model to catch people that purchase banking products.\n",
    "The indeces are: \n",
    "- Percentage of success: it is computed for each class and gives the proportion of people that will become a client;\n",
    "- Cumulative gain score: it is the percentage of the overall number of cases in a given category \"gained\" by targeting a percentage of the total number of cases;\n",
    "- Cumulative lift score: it is the cumulative score of how much better one can expect to perform with the predictive model with respect to not using the model;"
   ]
  },
  {
   "cell_type": "code",
   "execution_count": 39,
   "metadata": {
    "ExecuteTime": {
     "end_time": "2020-03-04T12:40:02.963109Z",
     "start_time": "2020-03-04T12:40:02.316582Z"
    }
   },
   "outputs": [
    {
     "name": "stdout",
     "output_type": "stream",
     "text": [
      "Logistic evaluation:\n"
     ]
    },
    {
     "data": {
      "text/html": [
       "<div>\n",
       "<style scoped>\n",
       "    .dataframe tbody tr th:only-of-type {\n",
       "        vertical-align: middle;\n",
       "    }\n",
       "\n",
       "    .dataframe tbody tr th {\n",
       "        vertical-align: top;\n",
       "    }\n",
       "\n",
       "    .dataframe thead th {\n",
       "        text-align: right;\n",
       "    }\n",
       "</style>\n",
       "<table border=\"1\" class=\"dataframe\">\n",
       "  <thead>\n",
       "    <tr style=\"text-align: right;\">\n",
       "      <th></th>\n",
       "      <th>Success_perc</th>\n",
       "      <th>Captured_resp_cum</th>\n",
       "      <th>Lift_cum</th>\n",
       "    </tr>\n",
       "  </thead>\n",
       "  <tbody>\n",
       "    <tr>\n",
       "      <th>4</th>\n",
       "      <td>0.879464</td>\n",
       "      <td>0.425486</td>\n",
       "      <td>1.703903</td>\n",
       "    </tr>\n",
       "    <tr>\n",
       "      <th>3</th>\n",
       "      <td>0.594655</td>\n",
       "      <td>0.713823</td>\n",
       "      <td>1.427696</td>\n",
       "    </tr>\n",
       "    <tr>\n",
       "      <th>2</th>\n",
       "      <td>0.347439</td>\n",
       "      <td>0.882289</td>\n",
       "      <td>1.175990</td>\n",
       "    </tr>\n",
       "    <tr>\n",
       "      <th>1</th>\n",
       "      <td>0.242762</td>\n",
       "      <td>1.000000</td>\n",
       "      <td>0.999478</td>\n",
       "    </tr>\n",
       "  </tbody>\n",
       "</table>\n",
       "</div>"
      ],
      "text/plain": [
       "   Success_perc  Captured_resp_cum  Lift_cum\n",
       "4      0.879464           0.425486  1.703903\n",
       "3      0.594655           0.713823  1.427696\n",
       "2      0.347439           0.882289  1.175990\n",
       "1      0.242762           1.000000  0.999478"
      ]
     },
     "metadata": {},
     "output_type": "display_data"
    },
    {
     "name": "stdout",
     "output_type": "stream",
     "text": [
      "Decision tree evaluation:\n"
     ]
    },
    {
     "data": {
      "text/html": [
       "<div>\n",
       "<style scoped>\n",
       "    .dataframe tbody tr th:only-of-type {\n",
       "        vertical-align: middle;\n",
       "    }\n",
       "\n",
       "    .dataframe tbody tr th {\n",
       "        vertical-align: top;\n",
       "    }\n",
       "\n",
       "    .dataframe thead th {\n",
       "        text-align: right;\n",
       "    }\n",
       "</style>\n",
       "<table border=\"1\" class=\"dataframe\">\n",
       "  <thead>\n",
       "    <tr style=\"text-align: right;\">\n",
       "      <th></th>\n",
       "      <th>Success_perc</th>\n",
       "      <th>Captured_resp_cum</th>\n",
       "      <th>Lift_cum</th>\n",
       "    </tr>\n",
       "  </thead>\n",
       "  <tbody>\n",
       "    <tr>\n",
       "      <th>4</th>\n",
       "      <td>0.868217</td>\n",
       "      <td>0.395760</td>\n",
       "      <td>1.682112</td>\n",
       "    </tr>\n",
       "    <tr>\n",
       "      <th>3</th>\n",
       "      <td>0.544355</td>\n",
       "      <td>0.713781</td>\n",
       "      <td>1.329654</td>\n",
       "    </tr>\n",
       "    <tr>\n",
       "      <th>2</th>\n",
       "      <td>0.321951</td>\n",
       "      <td>0.869258</td>\n",
       "      <td>1.105820</td>\n",
       "    </tr>\n",
       "    <tr>\n",
       "      <th>1</th>\n",
       "      <td>0.264916</td>\n",
       "      <td>1.000000</td>\n",
       "      <td>0.960795</td>\n",
       "    </tr>\n",
       "  </tbody>\n",
       "</table>\n",
       "</div>"
      ],
      "text/plain": [
       "   Success_perc  Captured_resp_cum  Lift_cum\n",
       "4      0.868217           0.395760  1.682112\n",
       "3      0.544355           0.713781  1.329654\n",
       "2      0.321951           0.869258  1.105820\n",
       "1      0.264916           1.000000  0.960795"
      ]
     },
     "metadata": {},
     "output_type": "display_data"
    },
    {
     "name": "stdout",
     "output_type": "stream",
     "text": [
      "Random forest evaluation:\n"
     ]
    },
    {
     "data": {
      "text/html": [
       "<div>\n",
       "<style scoped>\n",
       "    .dataframe tbody tr th:only-of-type {\n",
       "        vertical-align: middle;\n",
       "    }\n",
       "\n",
       "    .dataframe tbody tr th {\n",
       "        vertical-align: top;\n",
       "    }\n",
       "\n",
       "    .dataframe thead th {\n",
       "        text-align: right;\n",
       "    }\n",
       "</style>\n",
       "<table border=\"1\" class=\"dataframe\">\n",
       "  <thead>\n",
       "    <tr style=\"text-align: right;\">\n",
       "      <th></th>\n",
       "      <th>Success_perc</th>\n",
       "      <th>Captured_resp_cum</th>\n",
       "      <th>Lift_cum</th>\n",
       "    </tr>\n",
       "  </thead>\n",
       "  <tbody>\n",
       "    <tr>\n",
       "      <th>4</th>\n",
       "      <td>0.883929</td>\n",
       "      <td>0.427646</td>\n",
       "      <td>1.712552</td>\n",
       "    </tr>\n",
       "    <tr>\n",
       "      <th>3</th>\n",
       "      <td>0.601336</td>\n",
       "      <td>0.719222</td>\n",
       "      <td>1.438495</td>\n",
       "    </tr>\n",
       "    <tr>\n",
       "      <th>2</th>\n",
       "      <td>0.325167</td>\n",
       "      <td>0.876890</td>\n",
       "      <td>1.168793</td>\n",
       "    </tr>\n",
       "    <tr>\n",
       "      <th>1</th>\n",
       "      <td>0.253898</td>\n",
       "      <td>1.000000</td>\n",
       "      <td>0.999478</td>\n",
       "    </tr>\n",
       "  </tbody>\n",
       "</table>\n",
       "</div>"
      ],
      "text/plain": [
       "   Success_perc  Captured_resp_cum  Lift_cum\n",
       "4      0.883929           0.427646  1.712552\n",
       "3      0.601336           0.719222  1.438495\n",
       "2      0.325167           0.876890  1.168793\n",
       "1      0.253898           1.000000  0.999478"
      ]
     },
     "metadata": {},
     "output_type": "display_data"
    },
    {
     "name": "stdout",
     "output_type": "stream",
     "text": [
      "Gradient Boosting evaluation:\n"
     ]
    },
    {
     "data": {
      "text/html": [
       "<div>\n",
       "<style scoped>\n",
       "    .dataframe tbody tr th:only-of-type {\n",
       "        vertical-align: middle;\n",
       "    }\n",
       "\n",
       "    .dataframe tbody tr th {\n",
       "        vertical-align: top;\n",
       "    }\n",
       "\n",
       "    .dataframe thead th {\n",
       "        text-align: right;\n",
       "    }\n",
       "</style>\n",
       "<table border=\"1\" class=\"dataframe\">\n",
       "  <thead>\n",
       "    <tr style=\"text-align: right;\">\n",
       "      <th></th>\n",
       "      <th>Success_perc</th>\n",
       "      <th>Captured_resp_cum</th>\n",
       "      <th>Lift_cum</th>\n",
       "    </tr>\n",
       "  </thead>\n",
       "  <tbody>\n",
       "    <tr>\n",
       "      <th>4</th>\n",
       "      <td>0.890625</td>\n",
       "      <td>0.430886</td>\n",
       "      <td>1.725526</td>\n",
       "    </tr>\n",
       "    <tr>\n",
       "      <th>3</th>\n",
       "      <td>0.612472</td>\n",
       "      <td>0.727862</td>\n",
       "      <td>1.455774</td>\n",
       "    </tr>\n",
       "    <tr>\n",
       "      <th>2</th>\n",
       "      <td>0.318486</td>\n",
       "      <td>0.882289</td>\n",
       "      <td>1.175990</td>\n",
       "    </tr>\n",
       "    <tr>\n",
       "      <th>1</th>\n",
       "      <td>0.242762</td>\n",
       "      <td>1.000000</td>\n",
       "      <td>0.999478</td>\n",
       "    </tr>\n",
       "  </tbody>\n",
       "</table>\n",
       "</div>"
      ],
      "text/plain": [
       "   Success_perc  Captured_resp_cum  Lift_cum\n",
       "4      0.890625           0.430886  1.725526\n",
       "3      0.612472           0.727862  1.455774\n",
       "2      0.318486           0.882289  1.175990\n",
       "1      0.242762           1.000000  0.999478"
      ]
     },
     "metadata": {},
     "output_type": "display_data"
    }
   ],
   "source": [
    "print('Logistic evaluation:')\n",
    "logit_report=cum_lift(glm_proba,y_test)\n",
    "display(logit_report)\n",
    "print('Decision tree evaluation:')\n",
    "dt_report=cum_lift(dt_proba,y_test)\n",
    "display(dt_report)\n",
    "print('Random forest evaluation:')\n",
    "rf_report=cum_lift(rf_proba,y_test)\n",
    "display(rf_report)\n",
    "print('Gradient Boosting evaluation:')\n",
    "gb_report=cum_lift(gb_proba,y_test)\n",
    "display(gb_report)"
   ]
  },
  {
   "cell_type": "markdown",
   "metadata": {},
   "source": [
    "From the tables above, we decided to select the two best models, according to the cumulative of the lift score : Logistic and Gradient boosting. <br>\n",
    "Although the models seem to be very similar,this choice is made in terms of 1's prediction ability."
   ]
  },
  {
   "cell_type": "code",
   "execution_count": 40,
   "metadata": {
    "ExecuteTime": {
     "end_time": "2020-03-04T12:40:07.266822Z",
     "start_time": "2020-03-04T12:40:02.983241Z"
    }
   },
   "outputs": [
    {
     "name": "stdout",
     "output_type": "stream",
     "text": [
      "Logistic:\n"
     ]
    },
    {
     "data": {
      "image/png": "[encoded data removed]",
      "text/plain": [
       "<Figure size 432x288 with 1 Axes>"
      ]
     },
     "metadata": {},
     "output_type": "display_data"
    },
    {
     "name": "stdout",
     "output_type": "stream",
     "text": [
      "Gradient Boosting:\n"
     ]
    },
    {
     "data": {
      "image/png": "[encoded data removed]",
      "text/plain": [
       "<Figure size 432x288 with 1 Axes>"
      ]
     },
     "metadata": {},
     "output_type": "display_data"
    }
   ],
   "source": [
    "print('Logistic:')\n",
    "gain_plot(logit_report)\n",
    "print('Gradient Boosting:')\n",
    "gain_plot(gb_report)"
   ]
  },
  {
   "cell_type": "code",
   "execution_count": 41,
   "metadata": {
    "ExecuteTime": {
     "end_time": "2020-03-04T12:40:12.384682Z",
     "start_time": "2020-03-04T12:40:07.285688Z"
    }
   },
   "outputs": [
    {
     "name": "stdout",
     "output_type": "stream",
     "text": [
      "Logistic:\n"
     ]
    },
    {
     "data": {
      "image/png": "[encoded data removed]",
      "text/plain": [
       "<Figure size 432x288 with 1 Axes>"
      ]
     },
     "metadata": {},
     "output_type": "display_data"
    },
    {
     "name": "stdout",
     "output_type": "stream",
     "text": [
      "Gradient Boosting:\n"
     ]
    },
    {
     "data": {
      "image/png": "[encoded data removed]",
      "text/plain": [
       "<Figure size 432x288 with 1 Axes>"
      ]
     },
     "metadata": {},
     "output_type": "display_data"
    }
   ],
   "source": [
    "print('Logistic:')\n",
    "lift_plot(logit_report)\n",
    "print('Gradient Boosting:')\n",
    "lift_plot(gb_report)"
   ]
  },
  {
   "cell_type": "code",
   "execution_count": 42,
   "metadata": {
    "ExecuteTime": {
     "end_time": "2020-03-04T12:40:13.625728Z",
     "start_time": "2020-03-04T12:40:12.404759Z"
    }
   },
   "outputs": [
    {
     "name": "stdout",
     "output_type": "stream",
     "text": [
      "Logistic waterfall:\n"
     ]
    },
    {
     "data": {
      "image/png": "[encoded data removed]",
      "text/plain": [
       "<Figure size 432x288 with 1 Axes>"
      ]
     },
     "metadata": {},
     "output_type": "display_data"
    }
   ],
   "source": [
    "print('Logistic waterfall:')\n",
    "wtf_plot(logit_report,'g')"
   ]
  },
  {
   "cell_type": "code",
   "execution_count": 43,
   "metadata": {
    "ExecuteTime": {
     "end_time": "2020-03-04T12:40:17.392761Z",
     "start_time": "2020-03-04T12:40:13.678687Z"
    }
   },
   "outputs": [
    {
     "name": "stdout",
     "output_type": "stream",
     "text": [
      "Gradient Boosting waterfall:\n"
     ]
    },
    {
     "data": {
      "image/png": "[encoded data removed]",
      "text/plain": [
       "<Figure size 432x288 with 1 Axes>"
      ]
     },
     "metadata": {},
     "output_type": "display_data"
    }
   ],
   "source": [
    "print('Gradient Boosting waterfall:')\n",
    "wtf_plot(gb_report,'y')"
   ]
  },
  {
   "cell_type": "markdown",
   "metadata": {},
   "source": [
    "The comparison between Logistic and GB demonstrate again the similarity between the two models, even if we display all the three indeces. <br>\n",
    "The first type of graph describe how many 1's we are able to predict w.r.t the total 1's in the test set. For example if the bank contacts the first 20% of people that belongs to the 'loyal clients' group, it is able to reach more than 30% of customer with a purchase.\n",
    "The second plot shows how better is the model prediction respect to the prediction made randomly.\n",
    "The third and last plot shows the response rate for each group of client, compared with the overall response rate (51%).\n"
   ]
  },
  {
   "cell_type": "markdown",
   "metadata": {},
   "source": [
    "## 3.4 Conclusions\n",
    "\n",
    "At the end of the analysis, it is possible to say that:\n",
    "\n",
    "- The threshold provides a tool that guarantees to establish to which category the customer belongs to. The choice of the cutoff is driven to a good classification of 1 in order to don't waste financial resources during the implementation of future marketing campaigns. The best models, following this approach, are: logistic and gradient boosting;\n",
    "\n",
    "- The use of lift score and cumulative gains, applied to the same model of the previous section, identifies the ability of the classifier to allocate resources in a good manner. They allow to measure the model performance by using the actual response rates to see how much the predictive model would have helped in this situation. The information can be used to determine whether we should use this model or one similar to it in the future.\n",
    "\n",
    "- Furthermore, we need to take into account that we have lost an important part of information due to data cleaning( for example, we have reparametrize pdays into 4 catgories and we have removed default variable). For this reason accuracy might not reach optimal levels (all models under 80% of accuracy).\n",
    "\n",
    "- For future implementation in business context, in order to best exploit the predictive capabilities of our model, it would be strongly suggested to enrich data features. "
   ]
  }
 ],
 "metadata": {
  "kernelspec": {
   "display_name": "Python 3",
   "language": "python",
   "name": "python3"
  },
  "language_info": {
   "codemirror_mode": {
    "name": "ipython",
    "version": 3
   },
   "file_extension": ".py",
   "mimetype": "text/x-python",
   "name": "python",
   "nbconvert_exporter": "python",
   "pygments_lexer": "ipython3",
   "version": "3.7.3"
  },
  "latex_envs": {
   "LaTeX_envs_menu_present": true,
   "autoclose": false,
   "autocomplete": true,
   "bibliofile": "biblio.bib",
   "cite_by": "apalike",
   "current_citInitial": 1,
   "eqLabelWithNumbers": true,
   "eqNumInitial": 1,
   "hotkeys": {
    "equation": "Ctrl-E",
    "itemize": "Ctrl-I"
   },
   "labels_anchors": false,
   "latex_user_defs": false,
   "report_style_numbering": false,
   "user_envs_cfg": false
  },
  "varInspector": {
   "cols": {
    "lenName": 16,
    "lenType": 16,
    "lenVar": 40
   },
   "kernels_config": {
    "python": {
     "delete_cmd_postfix": "",
     "delete_cmd_prefix": "del ",
     "library": "var_list.py",
     "varRefreshCmd": "print(var_dic_list())"
    },
    "r": {
     "delete_cmd_postfix": ") ",
     "delete_cmd_prefix": "rm(",
     "library": "var_list.r",
     "varRefreshCmd": "cat(var_dic_list()) "
    }
   },
   "types_to_exclude": [
    "module",
    "function",
    "builtin_function_or_method",
    "instance",
    "_Feature"
   ],
   "window_display": false
  }
 },
 "nbformat": 4,
 "nbformat_minor": 2
}
